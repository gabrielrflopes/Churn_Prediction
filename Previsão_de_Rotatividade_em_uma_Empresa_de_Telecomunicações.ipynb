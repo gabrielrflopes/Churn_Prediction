{
  "nbformat": 4,
  "nbformat_minor": 0,
  "metadata": {
    "colab": {
      "provenance": [],
      "authorship_tag": "ABX9TyNxsDjTFMUIQfT/Btwu/Fu+",
      "include_colab_link": true
    },
    "kernelspec": {
      "name": "python3",
      "display_name": "Python 3"
    },
    "language_info": {
      "name": "python"
    }
  },
  "cells": [
    {
      "cell_type": "markdown",
      "metadata": {
        "id": "view-in-github",
        "colab_type": "text"
      },
      "source": [
        "<a href=\"https://colab.research.google.com/github/gabrielrflopes/Churn_Prediction/blob/main/Previs%C3%A3o_de_Rotatividade_em_uma_Empresa_de_Telecomunica%C3%A7%C3%B5es.ipynb\" target=\"_parent\"><img src=\"https://colab.research.google.com/assets/colab-badge.svg\" alt=\"Open In Colab\"/></a>"
      ]
    },
    {
      "cell_type": "markdown",
      "source": [
        "# Previsão de Rotatividade (_Churn_) em uma Empresa de Telecomunicações"
      ],
      "metadata": {
        "id": "KtmA8t0aDGbX"
      }
    },
    {
      "cell_type": "markdown",
      "source": [
        "<p align=center>\n",
        "<img src=\"https://raw.githubusercontent.com/gabrielrflopes/Churn_Prediction/main/capa_p4.png\" width=\"60%\"></p>"
      ],
      "metadata": {
        "id": "2C7IVErSqvbS"
      }
    },
    {
      "cell_type": "markdown",
      "source": [
        "### O que é _Churn_?\n",
        "\n",
        "No contexto de negócios, _Churn_ se trata da taxa de rotatividade da base de clientes. Ela calcula a evasão através da comparação entre o número de clientes no início e no final de um período. A fórmula para o cálculo é a seguinte:\n",
        "\n",
        "$$ \\text{Churn} = \\frac{C_0 - C_f}{C_0} $$\n",
        "\n",
        "em que $C_0$ é a quantidade de clientes no início do período e $C_f$ a quantidade ao final do mesmo período.\n",
        "\n",
        "Empresas como Netflix e Spotify medem a rotatividade dos clientes de acordo com o número de cancelamentos de assinaturas, mas outras empresas investigam os clientes que foram para o competidor ou que deixaram de usar o produto ou serviços de uma vez.\n",
        "\n",
        "Os impactos negativos da rotatividade são observados para além da perda de receita e fluxo de caixa. Como conquistar novos clientes é mais caro do que reter os antigos, é comum uma redução no lucro por causa do custo de aquisição de novos clientes.\n",
        "\n",
        "Outro problema é a diminuição da reserva de mercado da empresa. Uma alta taxa de rotatividade aumenta as incertezas dos investidores, fazendo o valor de mercado cair. Além disso, a reputação da empresa pode ser prejudicada, caso a evasão esteja associada a uma má experiência do cliente.\n",
        "\n",
        "Sendo assim, fica claro a relevância desse problema que muitos negócios enfrentam, e que muitos buscam solução justamente na construção de modelos que possam prever a rotatividade, diminuindo a taxa de _Churn_."
      ],
      "metadata": {
        "id": "tm79we8fqtsN"
      }
    },
    {
      "cell_type": "markdown",
      "source": [
        "### Objetivos do Projeto"
      ],
      "metadata": {
        "id": "ymqO6c4yQBMq"
      }
    },
    {
      "cell_type": "markdown",
      "source": [
        "Neste projeto, queremos analisar um conjunto de dados que fornece _insights_ com relação à rotatividade numa empresa de Telecomunicações. Seguiremos os seguintes passos:\n",
        "\n",
        "- Aquisição dos dados;\n",
        "- Análise Exploratória dos dados;\n",
        "- Preparação dos dados;\n",
        "- Construção de modelos de _Machine Learning_ (ML);\n",
        "- Otimização de hiperparâmetros;\n",
        "- Conclusão.\n",
        "\n",
        "Ao final, esperamos ter uma visão dos melhores modelos de ML para previsáo de rotatividade, considerando este estudo específico."
      ],
      "metadata": {
        "id": "4IRjU9coQC5l"
      }
    },
    {
      "cell_type": "markdown",
      "source": [
        "## Bibliotecas"
      ],
      "metadata": {
        "id": "Mx3SssbmDEYd"
      }
    },
    {
      "cell_type": "markdown",
      "source": [
        "**Importando bibliotecas de análise e visualização de dados**"
      ],
      "metadata": {
        "id": "2UPOmOCRHEwd"
      }
    },
    {
      "cell_type": "code",
      "execution_count": null,
      "metadata": {
        "id": "8pcjMdmfE7QV"
      },
      "outputs": [],
      "source": [
        "import numpy as np # Algebra linear e manipulação de arrays\n",
        "import pandas as pd # Importação e processamento de dados\n",
        "import matplotlib.pyplot as plt # Visualização de dados\n",
        "from matplotlib.ticker import PercentFormatter # Especificar o formato dos ticks para porcentagem\n",
        "import seaborn as sns # Visualização de dados\n",
        "\n",
        "%matplotlib inline\n",
        "\n",
        "# Cores para serem utilizadas nos plots\n",
        "colors = ['#1f4287', '#21e6c1']\n",
        "colors2 = ['#071a52', '#086972', '#17b978']\n",
        "\n",
        "# Definindo estilos das visualizações\n",
        "sns.set_style('whitegrid')\n",
        "\n",
        "# Importar filtro de avisos\n",
        "from warnings import simplefilter\n",
        "# ignorar futuros avisos\n",
        "simplefilter(action = 'ignore', category = FutureWarning)"
      ]
    },
    {
      "cell_type": "markdown",
      "source": [
        "**Importando bibliotecas de Machine Learning e métricas de desempenho**"
      ],
      "metadata": {
        "id": "1iqjgSQvINcJ"
      }
    },
    {
      "cell_type": "code",
      "source": [
        "from imblearn.under_sampling import RandomUnderSampler # Lidar com dados desbalanceados diminuindo a amostragem da classe majoritária\n",
        "\n",
        "from sklearn.metrics import roc_auc_score, accuracy_score, f1_score, confusion_matrix, classification_report # Métricas de avaliação dos modelos\n",
        "\n",
        "from sklearn.metrics import ConfusionMatrixDisplay, RocCurveDisplay, roc_curve # Visualização da matriz de confusão de da curva ROC\n",
        "\n",
        "from sklearn.preprocessing import StandardScaler, LabelEncoder, OneHotEncoder # Padronização de atributos e codificação de variáveis categóricas para o formato numérico, respectivamente\n",
        "\n",
        "from sklearn.pipeline import make_pipeline # Biblioteca para construir uma pipeline com múltiplos passos de pré-processamento e modelagem de dados, simplificando o processo de construção e implementação de modelos de ML\n",
        "\n",
        "from sklearn.model_selection import train_test_split # Dividir o conjunto de dados em subconjuntos de treino e teste, para avaliação do modelo em dados novos\n",
        "\n",
        "from sklearn.model_selection import cross_val_score, cross_validate # Biblioteca para validação cruzada, avaliando a performance do modelo em múltiplos subconjuntos, trazendo mais robustez de performance\n",
        "\n",
        "from sklearn.model_selection import StratifiedKFold, RepeatedKFold, KFold # Assegurar que cada dobra da validação cruzada mantenha a mesma distribuição de classes do dataset original\n",
        "\n",
        "from sklearn.model_selection import GridSearchCV # Grid Search para explorar sistematicamente as diferentes combinações de hiperparâmetros para a melhor configuração do modelo\n",
        "\n",
        "from sklearn.svm import SVC # Classificador de vetores de suporte, algoritmo de aprendizado supervisionado\n",
        "\n",
        "from sklearn.linear_model import SGDClassifier # Classificador de descida de gradiente estocástico, algoritmo de classificação linear para datasets grandes\n",
        "\n",
        "from sklearn.tree import DecisionTreeClassifier # Árvore de decisão, algoritmo de aprendizado supervisionado não-paramétrico para prever as classes através de regras de decisão\n",
        "\n",
        "from sklearn.linear_model import LogisticRegression # Algoritmo de aprendizado supervisionado para classificação binária ou multi-classe, baseado em modelo estatístico\n",
        "\n",
        "from xgboost import XGBClassifier # Classificador XGBoost, algoritmo de impulsionamento de gradiente otimizado\n",
        "\n",
        "from sklearn.ensemble import RandomForestClassifier # Classificador de floresta aleatória, um método de aprendizagem conjunta que combina múltiplas árvores de decisão para melhorar a classificação\n",
        "\n",
        "from lightgbm import LGBMClassifier # Classificador LightGBM, uma estrutura de impulsionamento de gradiente voltado para alta performance e eficiência em datasets grandes"
      ],
      "metadata": {
        "id": "-jWfLsnlIWD_"
      },
      "execution_count": null,
      "outputs": []
    },
    {
      "cell_type": "markdown",
      "source": [
        "## Importando o Conjunto de Dados"
      ],
      "metadata": {
        "id": "i7nfKoyYHSrs"
      }
    },
    {
      "cell_type": "markdown",
      "source": [
        "Os dados utilizados neste projeto foram originalmente disponibilizados na plataforma de ensino da IBM Developer, e tratam de um problema típico de uma companhia de telecomunicações. O conjunto de dados completo pode ser encontrado [neste link](https://github.com/gabrielrflopes/Churn_Prediction/blob/main/Dataset/WA_Fn-UseC_-Telco-Customer-Churn.csv).\n",
        "\n",
        "Vamos importar os dados utilizando o método `read_csv()` do _Pandas_."
      ],
      "metadata": {
        "id": "Sa1pUalQRq9z"
      }
    },
    {
      "cell_type": "code",
      "source": [
        "data_path = 'https://raw.githubusercontent.com/gabrielrflopes/Churn_Prediction/main/Dataset/WA_Fn-UseC_-Telco-Customer-Churn.csv'\n",
        "\n",
        "df = pd.read_csv(data_path)"
      ],
      "metadata": {
        "id": "EVHmAVfLHWCV"
      },
      "execution_count": null,
      "outputs": []
    },
    {
      "cell_type": "markdown",
      "source": [
        "## Análise Exploratória dos Dados"
      ],
      "metadata": {
        "id": "Y8xo0lyKP1cs"
      }
    },
    {
      "cell_type": "markdown",
      "source": [
        "Para a análise exploratória, iremos:\n",
        "\n",
        "- Visualizar as primeiras entradas, notando os diferentes tipos de cada variável;\n",
        "- Visualizar as dimensões do _dataset_;\n",
        "- Construir um dicionário de variáveis;\n",
        "- Analisar a presença de valores ausentes;\n",
        "- Checar a consistência dos dados para o tipo da variável.\n"
      ],
      "metadata": {
        "id": "Rjz08eBtSTLM"
      }
    },
    {
      "cell_type": "code",
      "source": [
        "df.head()"
      ],
      "metadata": {
        "colab": {
          "base_uri": "https://localhost:8080/",
          "height": 386
        },
        "id": "E1f6KgITSh-V",
        "outputId": "4ac2dde7-fa27-4782-e527-590240e0bd4f"
      },
      "execution_count": null,
      "outputs": [
        {
          "output_type": "execute_result",
          "data": {
            "text/plain": [
              "   customerID  gender  SeniorCitizen Partner Dependents  tenure PhoneService  \\\n",
              "0  7590-VHVEG  Female              0     Yes         No       1           No   \n",
              "1  5575-GNVDE    Male              0      No         No      34          Yes   \n",
              "2  3668-QPYBK    Male              0      No         No       2          Yes   \n",
              "3  7795-CFOCW    Male              0      No         No      45           No   \n",
              "4  9237-HQITU  Female              0      No         No       2          Yes   \n",
              "\n",
              "      MultipleLines InternetService OnlineSecurity  ... DeviceProtection  \\\n",
              "0  No phone service             DSL             No  ...               No   \n",
              "1                No             DSL            Yes  ...              Yes   \n",
              "2                No             DSL            Yes  ...               No   \n",
              "3  No phone service             DSL            Yes  ...              Yes   \n",
              "4                No     Fiber optic             No  ...               No   \n",
              "\n",
              "  TechSupport StreamingTV StreamingMovies        Contract PaperlessBilling  \\\n",
              "0          No          No              No  Month-to-month              Yes   \n",
              "1          No          No              No        One year               No   \n",
              "2          No          No              No  Month-to-month              Yes   \n",
              "3         Yes          No              No        One year               No   \n",
              "4          No          No              No  Month-to-month              Yes   \n",
              "\n",
              "               PaymentMethod MonthlyCharges  TotalCharges Churn  \n",
              "0           Electronic check          29.85         29.85    No  \n",
              "1               Mailed check          56.95        1889.5    No  \n",
              "2               Mailed check          53.85        108.15   Yes  \n",
              "3  Bank transfer (automatic)          42.30       1840.75    No  \n",
              "4           Electronic check          70.70        151.65   Yes  \n",
              "\n",
              "[5 rows x 21 columns]"
            ],
            "text/html": [
              "\n",
              "  <div id=\"df-2606795b-348b-4cd5-a717-d6fc9fba94d0\">\n",
              "    <div class=\"colab-df-container\">\n",
              "      <div>\n",
              "<style scoped>\n",
              "    .dataframe tbody tr th:only-of-type {\n",
              "        vertical-align: middle;\n",
              "    }\n",
              "\n",
              "    .dataframe tbody tr th {\n",
              "        vertical-align: top;\n",
              "    }\n",
              "\n",
              "    .dataframe thead th {\n",
              "        text-align: right;\n",
              "    }\n",
              "</style>\n",
              "<table border=\"1\" class=\"dataframe\">\n",
              "  <thead>\n",
              "    <tr style=\"text-align: right;\">\n",
              "      <th></th>\n",
              "      <th>customerID</th>\n",
              "      <th>gender</th>\n",
              "      <th>SeniorCitizen</th>\n",
              "      <th>Partner</th>\n",
              "      <th>Dependents</th>\n",
              "      <th>tenure</th>\n",
              "      <th>PhoneService</th>\n",
              "      <th>MultipleLines</th>\n",
              "      <th>InternetService</th>\n",
              "      <th>OnlineSecurity</th>\n",
              "      <th>...</th>\n",
              "      <th>DeviceProtection</th>\n",
              "      <th>TechSupport</th>\n",
              "      <th>StreamingTV</th>\n",
              "      <th>StreamingMovies</th>\n",
              "      <th>Contract</th>\n",
              "      <th>PaperlessBilling</th>\n",
              "      <th>PaymentMethod</th>\n",
              "      <th>MonthlyCharges</th>\n",
              "      <th>TotalCharges</th>\n",
              "      <th>Churn</th>\n",
              "    </tr>\n",
              "  </thead>\n",
              "  <tbody>\n",
              "    <tr>\n",
              "      <th>0</th>\n",
              "      <td>7590-VHVEG</td>\n",
              "      <td>Female</td>\n",
              "      <td>0</td>\n",
              "      <td>Yes</td>\n",
              "      <td>No</td>\n",
              "      <td>1</td>\n",
              "      <td>No</td>\n",
              "      <td>No phone service</td>\n",
              "      <td>DSL</td>\n",
              "      <td>No</td>\n",
              "      <td>...</td>\n",
              "      <td>No</td>\n",
              "      <td>No</td>\n",
              "      <td>No</td>\n",
              "      <td>No</td>\n",
              "      <td>Month-to-month</td>\n",
              "      <td>Yes</td>\n",
              "      <td>Electronic check</td>\n",
              "      <td>29.85</td>\n",
              "      <td>29.85</td>\n",
              "      <td>No</td>\n",
              "    </tr>\n",
              "    <tr>\n",
              "      <th>1</th>\n",
              "      <td>5575-GNVDE</td>\n",
              "      <td>Male</td>\n",
              "      <td>0</td>\n",
              "      <td>No</td>\n",
              "      <td>No</td>\n",
              "      <td>34</td>\n",
              "      <td>Yes</td>\n",
              "      <td>No</td>\n",
              "      <td>DSL</td>\n",
              "      <td>Yes</td>\n",
              "      <td>...</td>\n",
              "      <td>Yes</td>\n",
              "      <td>No</td>\n",
              "      <td>No</td>\n",
              "      <td>No</td>\n",
              "      <td>One year</td>\n",
              "      <td>No</td>\n",
              "      <td>Mailed check</td>\n",
              "      <td>56.95</td>\n",
              "      <td>1889.5</td>\n",
              "      <td>No</td>\n",
              "    </tr>\n",
              "    <tr>\n",
              "      <th>2</th>\n",
              "      <td>3668-QPYBK</td>\n",
              "      <td>Male</td>\n",
              "      <td>0</td>\n",
              "      <td>No</td>\n",
              "      <td>No</td>\n",
              "      <td>2</td>\n",
              "      <td>Yes</td>\n",
              "      <td>No</td>\n",
              "      <td>DSL</td>\n",
              "      <td>Yes</td>\n",
              "      <td>...</td>\n",
              "      <td>No</td>\n",
              "      <td>No</td>\n",
              "      <td>No</td>\n",
              "      <td>No</td>\n",
              "      <td>Month-to-month</td>\n",
              "      <td>Yes</td>\n",
              "      <td>Mailed check</td>\n",
              "      <td>53.85</td>\n",
              "      <td>108.15</td>\n",
              "      <td>Yes</td>\n",
              "    </tr>\n",
              "    <tr>\n",
              "      <th>3</th>\n",
              "      <td>7795-CFOCW</td>\n",
              "      <td>Male</td>\n",
              "      <td>0</td>\n",
              "      <td>No</td>\n",
              "      <td>No</td>\n",
              "      <td>45</td>\n",
              "      <td>No</td>\n",
              "      <td>No phone service</td>\n",
              "      <td>DSL</td>\n",
              "      <td>Yes</td>\n",
              "      <td>...</td>\n",
              "      <td>Yes</td>\n",
              "      <td>Yes</td>\n",
              "      <td>No</td>\n",
              "      <td>No</td>\n",
              "      <td>One year</td>\n",
              "      <td>No</td>\n",
              "      <td>Bank transfer (automatic)</td>\n",
              "      <td>42.30</td>\n",
              "      <td>1840.75</td>\n",
              "      <td>No</td>\n",
              "    </tr>\n",
              "    <tr>\n",
              "      <th>4</th>\n",
              "      <td>9237-HQITU</td>\n",
              "      <td>Female</td>\n",
              "      <td>0</td>\n",
              "      <td>No</td>\n",
              "      <td>No</td>\n",
              "      <td>2</td>\n",
              "      <td>Yes</td>\n",
              "      <td>No</td>\n",
              "      <td>Fiber optic</td>\n",
              "      <td>No</td>\n",
              "      <td>...</td>\n",
              "      <td>No</td>\n",
              "      <td>No</td>\n",
              "      <td>No</td>\n",
              "      <td>No</td>\n",
              "      <td>Month-to-month</td>\n",
              "      <td>Yes</td>\n",
              "      <td>Electronic check</td>\n",
              "      <td>70.70</td>\n",
              "      <td>151.65</td>\n",
              "      <td>Yes</td>\n",
              "    </tr>\n",
              "  </tbody>\n",
              "</table>\n",
              "<p>5 rows × 21 columns</p>\n",
              "</div>\n",
              "      <button class=\"colab-df-convert\" onclick=\"convertToInteractive('df-2606795b-348b-4cd5-a717-d6fc9fba94d0')\"\n",
              "              title=\"Convert this dataframe to an interactive table.\"\n",
              "              style=\"display:none;\">\n",
              "        \n",
              "  <svg xmlns=\"http://www.w3.org/2000/svg\" height=\"24px\"viewBox=\"0 0 24 24\"\n",
              "       width=\"24px\">\n",
              "    <path d=\"M0 0h24v24H0V0z\" fill=\"none\"/>\n",
              "    <path d=\"M18.56 5.44l.94 2.06.94-2.06 2.06-.94-2.06-.94-.94-2.06-.94 2.06-2.06.94zm-11 1L8.5 8.5l.94-2.06 2.06-.94-2.06-.94L8.5 2.5l-.94 2.06-2.06.94zm10 10l.94 2.06.94-2.06 2.06-.94-2.06-.94-.94-2.06-.94 2.06-2.06.94z\"/><path d=\"M17.41 7.96l-1.37-1.37c-.4-.4-.92-.59-1.43-.59-.52 0-1.04.2-1.43.59L10.3 9.45l-7.72 7.72c-.78.78-.78 2.05 0 2.83L4 21.41c.39.39.9.59 1.41.59.51 0 1.02-.2 1.41-.59l7.78-7.78 2.81-2.81c.8-.78.8-2.07 0-2.86zM5.41 20L4 18.59l7.72-7.72 1.47 1.35L5.41 20z\"/>\n",
              "  </svg>\n",
              "      </button>\n",
              "      \n",
              "  <style>\n",
              "    .colab-df-container {\n",
              "      display:flex;\n",
              "      flex-wrap:wrap;\n",
              "      gap: 12px;\n",
              "    }\n",
              "\n",
              "    .colab-df-convert {\n",
              "      background-color: #E8F0FE;\n",
              "      border: none;\n",
              "      border-radius: 50%;\n",
              "      cursor: pointer;\n",
              "      display: none;\n",
              "      fill: #1967D2;\n",
              "      height: 32px;\n",
              "      padding: 0 0 0 0;\n",
              "      width: 32px;\n",
              "    }\n",
              "\n",
              "    .colab-df-convert:hover {\n",
              "      background-color: #E2EBFA;\n",
              "      box-shadow: 0px 1px 2px rgba(60, 64, 67, 0.3), 0px 1px 3px 1px rgba(60, 64, 67, 0.15);\n",
              "      fill: #174EA6;\n",
              "    }\n",
              "\n",
              "    [theme=dark] .colab-df-convert {\n",
              "      background-color: #3B4455;\n",
              "      fill: #D2E3FC;\n",
              "    }\n",
              "\n",
              "    [theme=dark] .colab-df-convert:hover {\n",
              "      background-color: #434B5C;\n",
              "      box-shadow: 0px 1px 3px 1px rgba(0, 0, 0, 0.15);\n",
              "      filter: drop-shadow(0px 1px 2px rgba(0, 0, 0, 0.3));\n",
              "      fill: #FFFFFF;\n",
              "    }\n",
              "  </style>\n",
              "\n",
              "      <script>\n",
              "        const buttonEl =\n",
              "          document.querySelector('#df-2606795b-348b-4cd5-a717-d6fc9fba94d0 button.colab-df-convert');\n",
              "        buttonEl.style.display =\n",
              "          google.colab.kernel.accessAllowed ? 'block' : 'none';\n",
              "\n",
              "        async function convertToInteractive(key) {\n",
              "          const element = document.querySelector('#df-2606795b-348b-4cd5-a717-d6fc9fba94d0');\n",
              "          const dataTable =\n",
              "            await google.colab.kernel.invokeFunction('convertToInteractive',\n",
              "                                                     [key], {});\n",
              "          if (!dataTable) return;\n",
              "\n",
              "          const docLinkHtml = 'Like what you see? Visit the ' +\n",
              "            '<a target=\"_blank\" href=https://colab.research.google.com/notebooks/data_table.ipynb>data table notebook</a>'\n",
              "            + ' to learn more about interactive tables.';\n",
              "          element.innerHTML = '';\n",
              "          dataTable['output_type'] = 'display_data';\n",
              "          await google.colab.output.renderOutput(dataTable, element);\n",
              "          const docLink = document.createElement('div');\n",
              "          docLink.innerHTML = docLinkHtml;\n",
              "          element.appendChild(docLink);\n",
              "        }\n",
              "      </script>\n",
              "    </div>\n",
              "  </div>\n",
              "  "
            ]
          },
          "metadata": {},
          "execution_count": 4
        }
      ]
    },
    {
      "cell_type": "code",
      "source": [
        "df.sample(5)"
      ],
      "metadata": {
        "colab": {
          "base_uri": "https://localhost:8080/",
          "height": 386
        },
        "id": "FHsXWgV238tw",
        "outputId": "b0b6f024-9dd7-4549-c8fe-f3296fe9f2ff"
      },
      "execution_count": null,
      "outputs": [
        {
          "output_type": "execute_result",
          "data": {
            "text/plain": [
              "      customerID  gender  SeniorCitizen Partner Dependents  tenure  \\\n",
              "1542  9798-OPFEM  Female              0      No         No      46   \n",
              "216   9286-BHDQG    Male              0     Yes        Yes      72   \n",
              "5620  5286-YHCVC    Male              0     Yes         No      72   \n",
              "2021  0181-RITDD    Male              0     Yes        Yes      62   \n",
              "6167  3154-CFSZG    Male              0     Yes        Yes      47   \n",
              "\n",
              "     PhoneService     MultipleLines InternetService       OnlineSecurity  ...  \\\n",
              "1542          Yes                No              No  No internet service  ...   \n",
              "216            No  No phone service             DSL                  Yes  ...   \n",
              "5620          Yes               Yes     Fiber optic                   No  ...   \n",
              "2021          Yes                No     Fiber optic                  Yes  ...   \n",
              "6167          Yes                No     Fiber optic                  Yes  ...   \n",
              "\n",
              "         DeviceProtection          TechSupport          StreamingTV  \\\n",
              "1542  No internet service  No internet service  No internet service   \n",
              "216                   Yes                  Yes                   No   \n",
              "5620                  Yes                   No                  Yes   \n",
              "2021                  Yes                  Yes                  Yes   \n",
              "6167                  Yes                   No                   No   \n",
              "\n",
              "          StreamingMovies        Contract PaperlessBilling  \\\n",
              "1542  No internet service        Two year              Yes   \n",
              "216                    No        Two year               No   \n",
              "5620                  Yes        Two year              Yes   \n",
              "2021                  Yes        Two year               No   \n",
              "6167                  Yes  Month-to-month               No   \n",
              "\n",
              "                  PaymentMethod MonthlyCharges  TotalCharges Churn  \n",
              "1542           Electronic check          21.10         937.1    No  \n",
              "216     Credit card (automatic)          45.25        3139.8    No  \n",
              "5620  Bank transfer (automatic)         104.80        7470.1    No  \n",
              "2021               Mailed check         108.15       6825.65    No  \n",
              "6167           Electronic check          90.05        4137.2    No  \n",
              "\n",
              "[5 rows x 21 columns]"
            ],
            "text/html": [
              "\n",
              "  <div id=\"df-24af0922-077a-4fa3-8e3f-7b7c0b40c069\">\n",
              "    <div class=\"colab-df-container\">\n",
              "      <div>\n",
              "<style scoped>\n",
              "    .dataframe tbody tr th:only-of-type {\n",
              "        vertical-align: middle;\n",
              "    }\n",
              "\n",
              "    .dataframe tbody tr th {\n",
              "        vertical-align: top;\n",
              "    }\n",
              "\n",
              "    .dataframe thead th {\n",
              "        text-align: right;\n",
              "    }\n",
              "</style>\n",
              "<table border=\"1\" class=\"dataframe\">\n",
              "  <thead>\n",
              "    <tr style=\"text-align: right;\">\n",
              "      <th></th>\n",
              "      <th>customerID</th>\n",
              "      <th>gender</th>\n",
              "      <th>SeniorCitizen</th>\n",
              "      <th>Partner</th>\n",
              "      <th>Dependents</th>\n",
              "      <th>tenure</th>\n",
              "      <th>PhoneService</th>\n",
              "      <th>MultipleLines</th>\n",
              "      <th>InternetService</th>\n",
              "      <th>OnlineSecurity</th>\n",
              "      <th>...</th>\n",
              "      <th>DeviceProtection</th>\n",
              "      <th>TechSupport</th>\n",
              "      <th>StreamingTV</th>\n",
              "      <th>StreamingMovies</th>\n",
              "      <th>Contract</th>\n",
              "      <th>PaperlessBilling</th>\n",
              "      <th>PaymentMethod</th>\n",
              "      <th>MonthlyCharges</th>\n",
              "      <th>TotalCharges</th>\n",
              "      <th>Churn</th>\n",
              "    </tr>\n",
              "  </thead>\n",
              "  <tbody>\n",
              "    <tr>\n",
              "      <th>1542</th>\n",
              "      <td>9798-OPFEM</td>\n",
              "      <td>Female</td>\n",
              "      <td>0</td>\n",
              "      <td>No</td>\n",
              "      <td>No</td>\n",
              "      <td>46</td>\n",
              "      <td>Yes</td>\n",
              "      <td>No</td>\n",
              "      <td>No</td>\n",
              "      <td>No internet service</td>\n",
              "      <td>...</td>\n",
              "      <td>No internet service</td>\n",
              "      <td>No internet service</td>\n",
              "      <td>No internet service</td>\n",
              "      <td>No internet service</td>\n",
              "      <td>Two year</td>\n",
              "      <td>Yes</td>\n",
              "      <td>Electronic check</td>\n",
              "      <td>21.10</td>\n",
              "      <td>937.1</td>\n",
              "      <td>No</td>\n",
              "    </tr>\n",
              "    <tr>\n",
              "      <th>216</th>\n",
              "      <td>9286-BHDQG</td>\n",
              "      <td>Male</td>\n",
              "      <td>0</td>\n",
              "      <td>Yes</td>\n",
              "      <td>Yes</td>\n",
              "      <td>72</td>\n",
              "      <td>No</td>\n",
              "      <td>No phone service</td>\n",
              "      <td>DSL</td>\n",
              "      <td>Yes</td>\n",
              "      <td>...</td>\n",
              "      <td>Yes</td>\n",
              "      <td>Yes</td>\n",
              "      <td>No</td>\n",
              "      <td>No</td>\n",
              "      <td>Two year</td>\n",
              "      <td>No</td>\n",
              "      <td>Credit card (automatic)</td>\n",
              "      <td>45.25</td>\n",
              "      <td>3139.8</td>\n",
              "      <td>No</td>\n",
              "    </tr>\n",
              "    <tr>\n",
              "      <th>5620</th>\n",
              "      <td>5286-YHCVC</td>\n",
              "      <td>Male</td>\n",
              "      <td>0</td>\n",
              "      <td>Yes</td>\n",
              "      <td>No</td>\n",
              "      <td>72</td>\n",
              "      <td>Yes</td>\n",
              "      <td>Yes</td>\n",
              "      <td>Fiber optic</td>\n",
              "      <td>No</td>\n",
              "      <td>...</td>\n",
              "      <td>Yes</td>\n",
              "      <td>No</td>\n",
              "      <td>Yes</td>\n",
              "      <td>Yes</td>\n",
              "      <td>Two year</td>\n",
              "      <td>Yes</td>\n",
              "      <td>Bank transfer (automatic)</td>\n",
              "      <td>104.80</td>\n",
              "      <td>7470.1</td>\n",
              "      <td>No</td>\n",
              "    </tr>\n",
              "    <tr>\n",
              "      <th>2021</th>\n",
              "      <td>0181-RITDD</td>\n",
              "      <td>Male</td>\n",
              "      <td>0</td>\n",
              "      <td>Yes</td>\n",
              "      <td>Yes</td>\n",
              "      <td>62</td>\n",
              "      <td>Yes</td>\n",
              "      <td>No</td>\n",
              "      <td>Fiber optic</td>\n",
              "      <td>Yes</td>\n",
              "      <td>...</td>\n",
              "      <td>Yes</td>\n",
              "      <td>Yes</td>\n",
              "      <td>Yes</td>\n",
              "      <td>Yes</td>\n",
              "      <td>Two year</td>\n",
              "      <td>No</td>\n",
              "      <td>Mailed check</td>\n",
              "      <td>108.15</td>\n",
              "      <td>6825.65</td>\n",
              "      <td>No</td>\n",
              "    </tr>\n",
              "    <tr>\n",
              "      <th>6167</th>\n",
              "      <td>3154-CFSZG</td>\n",
              "      <td>Male</td>\n",
              "      <td>0</td>\n",
              "      <td>Yes</td>\n",
              "      <td>Yes</td>\n",
              "      <td>47</td>\n",
              "      <td>Yes</td>\n",
              "      <td>No</td>\n",
              "      <td>Fiber optic</td>\n",
              "      <td>Yes</td>\n",
              "      <td>...</td>\n",
              "      <td>Yes</td>\n",
              "      <td>No</td>\n",
              "      <td>No</td>\n",
              "      <td>Yes</td>\n",
              "      <td>Month-to-month</td>\n",
              "      <td>No</td>\n",
              "      <td>Electronic check</td>\n",
              "      <td>90.05</td>\n",
              "      <td>4137.2</td>\n",
              "      <td>No</td>\n",
              "    </tr>\n",
              "  </tbody>\n",
              "</table>\n",
              "<p>5 rows × 21 columns</p>\n",
              "</div>\n",
              "      <button class=\"colab-df-convert\" onclick=\"convertToInteractive('df-24af0922-077a-4fa3-8e3f-7b7c0b40c069')\"\n",
              "              title=\"Convert this dataframe to an interactive table.\"\n",
              "              style=\"display:none;\">\n",
              "        \n",
              "  <svg xmlns=\"http://www.w3.org/2000/svg\" height=\"24px\"viewBox=\"0 0 24 24\"\n",
              "       width=\"24px\">\n",
              "    <path d=\"M0 0h24v24H0V0z\" fill=\"none\"/>\n",
              "    <path d=\"M18.56 5.44l.94 2.06.94-2.06 2.06-.94-2.06-.94-.94-2.06-.94 2.06-2.06.94zm-11 1L8.5 8.5l.94-2.06 2.06-.94-2.06-.94L8.5 2.5l-.94 2.06-2.06.94zm10 10l.94 2.06.94-2.06 2.06-.94-2.06-.94-.94-2.06-.94 2.06-2.06.94z\"/><path d=\"M17.41 7.96l-1.37-1.37c-.4-.4-.92-.59-1.43-.59-.52 0-1.04.2-1.43.59L10.3 9.45l-7.72 7.72c-.78.78-.78 2.05 0 2.83L4 21.41c.39.39.9.59 1.41.59.51 0 1.02-.2 1.41-.59l7.78-7.78 2.81-2.81c.8-.78.8-2.07 0-2.86zM5.41 20L4 18.59l7.72-7.72 1.47 1.35L5.41 20z\"/>\n",
              "  </svg>\n",
              "      </button>\n",
              "      \n",
              "  <style>\n",
              "    .colab-df-container {\n",
              "      display:flex;\n",
              "      flex-wrap:wrap;\n",
              "      gap: 12px;\n",
              "    }\n",
              "\n",
              "    .colab-df-convert {\n",
              "      background-color: #E8F0FE;\n",
              "      border: none;\n",
              "      border-radius: 50%;\n",
              "      cursor: pointer;\n",
              "      display: none;\n",
              "      fill: #1967D2;\n",
              "      height: 32px;\n",
              "      padding: 0 0 0 0;\n",
              "      width: 32px;\n",
              "    }\n",
              "\n",
              "    .colab-df-convert:hover {\n",
              "      background-color: #E2EBFA;\n",
              "      box-shadow: 0px 1px 2px rgba(60, 64, 67, 0.3), 0px 1px 3px 1px rgba(60, 64, 67, 0.15);\n",
              "      fill: #174EA6;\n",
              "    }\n",
              "\n",
              "    [theme=dark] .colab-df-convert {\n",
              "      background-color: #3B4455;\n",
              "      fill: #D2E3FC;\n",
              "    }\n",
              "\n",
              "    [theme=dark] .colab-df-convert:hover {\n",
              "      background-color: #434B5C;\n",
              "      box-shadow: 0px 1px 3px 1px rgba(0, 0, 0, 0.15);\n",
              "      filter: drop-shadow(0px 1px 2px rgba(0, 0, 0, 0.3));\n",
              "      fill: #FFFFFF;\n",
              "    }\n",
              "  </style>\n",
              "\n",
              "      <script>\n",
              "        const buttonEl =\n",
              "          document.querySelector('#df-24af0922-077a-4fa3-8e3f-7b7c0b40c069 button.colab-df-convert');\n",
              "        buttonEl.style.display =\n",
              "          google.colab.kernel.accessAllowed ? 'block' : 'none';\n",
              "\n",
              "        async function convertToInteractive(key) {\n",
              "          const element = document.querySelector('#df-24af0922-077a-4fa3-8e3f-7b7c0b40c069');\n",
              "          const dataTable =\n",
              "            await google.colab.kernel.invokeFunction('convertToInteractive',\n",
              "                                                     [key], {});\n",
              "          if (!dataTable) return;\n",
              "\n",
              "          const docLinkHtml = 'Like what you see? Visit the ' +\n",
              "            '<a target=\"_blank\" href=https://colab.research.google.com/notebooks/data_table.ipynb>data table notebook</a>'\n",
              "            + ' to learn more about interactive tables.';\n",
              "          element.innerHTML = '';\n",
              "          dataTable['output_type'] = 'display_data';\n",
              "          await google.colab.output.renderOutput(dataTable, element);\n",
              "          const docLink = document.createElement('div');\n",
              "          docLink.innerHTML = docLinkHtml;\n",
              "          element.appendChild(docLink);\n",
              "        }\n",
              "      </script>\n",
              "    </div>\n",
              "  </div>\n",
              "  "
            ]
          },
          "metadata": {},
          "execution_count": 5
        }
      ]
    },
    {
      "cell_type": "code",
      "source": [
        "print('Dimensões do Dataset')\n",
        "print('Entradas:\\t{}'.format(df.shape[0]),\n",
        "      '\\nVariáveis:\\t{}'.format(df.shape[1]))"
      ],
      "metadata": {
        "colab": {
          "base_uri": "https://localhost:8080/"
        },
        "id": "S2aIC0-MNVBS",
        "outputId": "9ee7ea9d-9d58-43b8-85b2-e9a80bcd3dad"
      },
      "execution_count": null,
      "outputs": [
        {
          "output_type": "stream",
          "name": "stdout",
          "text": [
            "Dimensões do Dataset\n",
            "Entradas:\t7043 \n",
            "Variáveis:\t21\n"
          ]
        }
      ]
    },
    {
      "cell_type": "code",
      "source": [
        "print('Nomes das variáveis:\\n',\n",
        "      df.columns)"
      ],
      "metadata": {
        "colab": {
          "base_uri": "https://localhost:8080/"
        },
        "id": "c8MI1PvVCOy8",
        "outputId": "d2a4beed-afd7-42b3-9a28-2d82522e23f0"
      },
      "execution_count": null,
      "outputs": [
        {
          "output_type": "stream",
          "name": "stdout",
          "text": [
            "Nomes das variáveis:\n",
            " Index(['customerID', 'gender', 'SeniorCitizen', 'Partner', 'Dependents',\n",
            "       'tenure', 'PhoneService', 'MultipleLines', 'InternetService',\n",
            "       'OnlineSecurity', 'OnlineBackup', 'DeviceProtection', 'TechSupport',\n",
            "       'StreamingTV', 'StreamingMovies', 'Contract', 'PaperlessBilling',\n",
            "       'PaymentMethod', 'MonthlyCharges', 'TotalCharges', 'Churn'],\n",
            "      dtype='object')\n"
          ]
        }
      ]
    },
    {
      "cell_type": "markdown",
      "source": [
        "### Dicionário de variáveis"
      ],
      "metadata": {
        "id": "7HRyIa_QCF1Z"
      }
    },
    {
      "cell_type": "markdown",
      "source": [
        "O _dataset_ inclui informações a respeito de:\n",
        "\n",
        "- Clientes que deixaram a empresa no último mês - `Churn`;\n",
        "- Serviços que o cliente contratou - `phone`, `multiple lines`, `internet`, `online security`, `online backup`, `device protection`, `tech support`, `StreamingTV` e `StreamingMovies`;\n",
        "- Informações sobre as contas dos clientes – `tenure` (i.e, tempo em meses que o cliente contrata os serviços), `contract`, `payment method`, `paperless billing`, `monthly charges`, `total charges`;\n",
        "- Informações demográficas sobre os clientes – `gender`, `age range`, `partners`, `dependents`."
      ],
      "metadata": {
        "id": "K-EvxFPhYE6w"
      }
    },
    {
      "cell_type": "markdown",
      "source": [
        "Acima, pudemos ter uma noção de como estão distribuídos os dados, com a dimensão do conjunto e os nomes das variáveis. Agora, vamos construir um dicionário de variáveis, juntamente com seus respectivos tipos.\n",
        "\n",
        "Apesar de não haver um documento oficial para o significado das colunas, é muito fácil inferir através dos nomes."
      ],
      "metadata": {
        "id": "PEJDEcCNPz8R"
      }
    },
    {
      "cell_type": "code",
      "source": [
        "print('Tipos das variáveis\\n')\n",
        "df.dtypes"
      ],
      "metadata": {
        "colab": {
          "base_uri": "https://localhost:8080/"
        },
        "id": "141jawIZYWmO",
        "outputId": "72759504-0d6a-40cc-d492-96146515e22d"
      },
      "execution_count": null,
      "outputs": [
        {
          "output_type": "stream",
          "name": "stdout",
          "text": [
            "Tipos das variáveis\n",
            "\n"
          ]
        },
        {
          "output_type": "execute_result",
          "data": {
            "text/plain": [
              "customerID           object\n",
              "gender               object\n",
              "SeniorCitizen         int64\n",
              "Partner              object\n",
              "Dependents           object\n",
              "tenure                int64\n",
              "PhoneService         object\n",
              "MultipleLines        object\n",
              "InternetService      object\n",
              "OnlineSecurity       object\n",
              "OnlineBackup         object\n",
              "DeviceProtection     object\n",
              "TechSupport          object\n",
              "StreamingTV          object\n",
              "StreamingMovies      object\n",
              "Contract             object\n",
              "PaperlessBilling     object\n",
              "PaymentMethod        object\n",
              "MonthlyCharges      float64\n",
              "TotalCharges         object\n",
              "Churn                object\n",
              "dtype: object"
            ]
          },
          "metadata": {},
          "execution_count": 8
        }
      ]
    },
    {
      "cell_type": "code",
      "source": [
        "print('Quantidade de cada tipo de variável')\n",
        "print(df.dtypes.value_counts())"
      ],
      "metadata": {
        "colab": {
          "base_uri": "https://localhost:8080/"
        },
        "id": "We8Ft6PZWZSD",
        "outputId": "de6be63c-4bc2-41ba-c49d-998523270181"
      },
      "execution_count": null,
      "outputs": [
        {
          "output_type": "stream",
          "name": "stdout",
          "text": [
            "Quantidade de cada tipo de variável\n",
            "object     18\n",
            "int64       2\n",
            "float64     1\n",
            "dtype: int64\n"
          ]
        }
      ]
    },
    {
      "cell_type": "markdown",
      "source": [
        "- Note que a coluna `TotalCharges` apresenta uma inconsistência entre a descrição e o tipo da variável (_object_). Espera-se que a quantidade total cobrada seja um valor numérico. Sendo uma _string_, isto pode indicar valores ausentes.\n",
        "\n",
        "- A coluna `SeniorCitizen` é dada como numérica, porém ela contém valores binários de 0 e 1 que podem ser convertidos em uma variável categórica."
      ],
      "metadata": {
        "id": "gVFxWa0yTgcu"
      }
    },
    {
      "cell_type": "markdown",
      "source": [
        "A partir dessa análise inicial, pôde-se constatar que:\n",
        "\n",
        "- O conjunto de dados possui uma grande quantidade de variáveis categóricas que precisam ser codificadas para a construção dos modelos de ML;\n",
        "- A variável `TotalCharges` precisa ser convertida de _string_ para _float64_, de modo a manter a consistência dos dados;\n",
        "- A variável-alvo do problema é a coluna `Churn`, que apresenta duas classes: 'Yes' e 'No'.\n"
      ],
      "metadata": {
        "id": "E_elQ3zCUMfU"
      }
    },
    {
      "cell_type": "markdown",
      "source": [
        "### Limpeza dos dados"
      ],
      "metadata": {
        "id": "bUUjEBa2Dkm5"
      }
    },
    {
      "cell_type": "markdown",
      "source": [
        "A seguir, vamos lidar com a conversão das variáveis com tipos inconsistentes, como `TotalCharges`, além de realizar a limpeza dos dados irrelevantes."
      ],
      "metadata": {
        "id": "xhuxpcn-VP_V"
      }
    },
    {
      "cell_type": "markdown",
      "source": [
        "- A coluna `TotalCharges` está no formato _str_ provavelmente porque contém dados inexistentes de cobrança total para alguns clientes."
      ],
      "metadata": {
        "id": "liNRqClWWra-"
      }
    },
    {
      "cell_type": "markdown",
      "source": [
        "Ao tentar realizar a conversão para _float_, identificamos um erro que indica que algumas entradas de `TotalCharge` contém caracteres de espaço, lançados como dados ausentes."
      ],
      "metadata": {
        "id": "gd-wLi8eLPwq"
      }
    },
    {
      "cell_type": "code",
      "source": [
        "df.query('TotalCharges == \" \"')"
      ],
      "metadata": {
        "colab": {
          "base_uri": "https://localhost:8080/",
          "height": 678
        },
        "id": "Zz9xPtyqVH8t",
        "outputId": "2a370772-f7c6-445d-b98a-bc88e9ba4907"
      },
      "execution_count": null,
      "outputs": [
        {
          "output_type": "execute_result",
          "data": {
            "text/plain": [
              "      customerID  gender  SeniorCitizen Partner Dependents  tenure  \\\n",
              "488   4472-LVYGI  Female              0     Yes        Yes       0   \n",
              "753   3115-CZMZD    Male              0      No        Yes       0   \n",
              "936   5709-LVOEQ  Female              0     Yes        Yes       0   \n",
              "1082  4367-NUYAO    Male              0     Yes        Yes       0   \n",
              "1340  1371-DWPAZ  Female              0     Yes        Yes       0   \n",
              "3331  7644-OMVMY    Male              0     Yes        Yes       0   \n",
              "3826  3213-VVOLG    Male              0     Yes        Yes       0   \n",
              "4380  2520-SGTTA  Female              0     Yes        Yes       0   \n",
              "5218  2923-ARZLG    Male              0     Yes        Yes       0   \n",
              "6670  4075-WKNIU  Female              0     Yes        Yes       0   \n",
              "6754  2775-SEFEE    Male              0      No        Yes       0   \n",
              "\n",
              "     PhoneService     MultipleLines InternetService       OnlineSecurity  ...  \\\n",
              "488            No  No phone service             DSL                  Yes  ...   \n",
              "753           Yes                No              No  No internet service  ...   \n",
              "936           Yes                No             DSL                  Yes  ...   \n",
              "1082          Yes               Yes              No  No internet service  ...   \n",
              "1340           No  No phone service             DSL                  Yes  ...   \n",
              "3331          Yes                No              No  No internet service  ...   \n",
              "3826          Yes               Yes              No  No internet service  ...   \n",
              "4380          Yes                No              No  No internet service  ...   \n",
              "5218          Yes                No              No  No internet service  ...   \n",
              "6670          Yes               Yes             DSL                   No  ...   \n",
              "6754          Yes               Yes             DSL                  Yes  ...   \n",
              "\n",
              "         DeviceProtection          TechSupport          StreamingTV  \\\n",
              "488                   Yes                  Yes                  Yes   \n",
              "753   No internet service  No internet service  No internet service   \n",
              "936                   Yes                   No                  Yes   \n",
              "1082  No internet service  No internet service  No internet service   \n",
              "1340                  Yes                  Yes                  Yes   \n",
              "3331  No internet service  No internet service  No internet service   \n",
              "3826  No internet service  No internet service  No internet service   \n",
              "4380  No internet service  No internet service  No internet service   \n",
              "5218  No internet service  No internet service  No internet service   \n",
              "6670                  Yes                  Yes                  Yes   \n",
              "6754                   No                  Yes                   No   \n",
              "\n",
              "          StreamingMovies  Contract PaperlessBilling  \\\n",
              "488                    No  Two year              Yes   \n",
              "753   No internet service  Two year               No   \n",
              "936                   Yes  Two year               No   \n",
              "1082  No internet service  Two year               No   \n",
              "1340                   No  Two year               No   \n",
              "3331  No internet service  Two year               No   \n",
              "3826  No internet service  Two year               No   \n",
              "4380  No internet service  Two year               No   \n",
              "5218  No internet service  One year              Yes   \n",
              "6670                   No  Two year               No   \n",
              "6754                   No  Two year              Yes   \n",
              "\n",
              "                  PaymentMethod MonthlyCharges  TotalCharges Churn  \n",
              "488   Bank transfer (automatic)          52.55                  No  \n",
              "753                Mailed check          20.25                  No  \n",
              "936                Mailed check          80.85                  No  \n",
              "1082               Mailed check          25.75                  No  \n",
              "1340    Credit card (automatic)          56.05                  No  \n",
              "3331               Mailed check          19.85                  No  \n",
              "3826               Mailed check          25.35                  No  \n",
              "4380               Mailed check          20.00                  No  \n",
              "5218               Mailed check          19.70                  No  \n",
              "6670               Mailed check          73.35                  No  \n",
              "6754  Bank transfer (automatic)          61.90                  No  \n",
              "\n",
              "[11 rows x 21 columns]"
            ],
            "text/html": [
              "\n",
              "  <div id=\"df-c0d77d6c-5758-4f12-9f11-ed42d8bb6fb3\">\n",
              "    <div class=\"colab-df-container\">\n",
              "      <div>\n",
              "<style scoped>\n",
              "    .dataframe tbody tr th:only-of-type {\n",
              "        vertical-align: middle;\n",
              "    }\n",
              "\n",
              "    .dataframe tbody tr th {\n",
              "        vertical-align: top;\n",
              "    }\n",
              "\n",
              "    .dataframe thead th {\n",
              "        text-align: right;\n",
              "    }\n",
              "</style>\n",
              "<table border=\"1\" class=\"dataframe\">\n",
              "  <thead>\n",
              "    <tr style=\"text-align: right;\">\n",
              "      <th></th>\n",
              "      <th>customerID</th>\n",
              "      <th>gender</th>\n",
              "      <th>SeniorCitizen</th>\n",
              "      <th>Partner</th>\n",
              "      <th>Dependents</th>\n",
              "      <th>tenure</th>\n",
              "      <th>PhoneService</th>\n",
              "      <th>MultipleLines</th>\n",
              "      <th>InternetService</th>\n",
              "      <th>OnlineSecurity</th>\n",
              "      <th>...</th>\n",
              "      <th>DeviceProtection</th>\n",
              "      <th>TechSupport</th>\n",
              "      <th>StreamingTV</th>\n",
              "      <th>StreamingMovies</th>\n",
              "      <th>Contract</th>\n",
              "      <th>PaperlessBilling</th>\n",
              "      <th>PaymentMethod</th>\n",
              "      <th>MonthlyCharges</th>\n",
              "      <th>TotalCharges</th>\n",
              "      <th>Churn</th>\n",
              "    </tr>\n",
              "  </thead>\n",
              "  <tbody>\n",
              "    <tr>\n",
              "      <th>488</th>\n",
              "      <td>4472-LVYGI</td>\n",
              "      <td>Female</td>\n",
              "      <td>0</td>\n",
              "      <td>Yes</td>\n",
              "      <td>Yes</td>\n",
              "      <td>0</td>\n",
              "      <td>No</td>\n",
              "      <td>No phone service</td>\n",
              "      <td>DSL</td>\n",
              "      <td>Yes</td>\n",
              "      <td>...</td>\n",
              "      <td>Yes</td>\n",
              "      <td>Yes</td>\n",
              "      <td>Yes</td>\n",
              "      <td>No</td>\n",
              "      <td>Two year</td>\n",
              "      <td>Yes</td>\n",
              "      <td>Bank transfer (automatic)</td>\n",
              "      <td>52.55</td>\n",
              "      <td></td>\n",
              "      <td>No</td>\n",
              "    </tr>\n",
              "    <tr>\n",
              "      <th>753</th>\n",
              "      <td>3115-CZMZD</td>\n",
              "      <td>Male</td>\n",
              "      <td>0</td>\n",
              "      <td>No</td>\n",
              "      <td>Yes</td>\n",
              "      <td>0</td>\n",
              "      <td>Yes</td>\n",
              "      <td>No</td>\n",
              "      <td>No</td>\n",
              "      <td>No internet service</td>\n",
              "      <td>...</td>\n",
              "      <td>No internet service</td>\n",
              "      <td>No internet service</td>\n",
              "      <td>No internet service</td>\n",
              "      <td>No internet service</td>\n",
              "      <td>Two year</td>\n",
              "      <td>No</td>\n",
              "      <td>Mailed check</td>\n",
              "      <td>20.25</td>\n",
              "      <td></td>\n",
              "      <td>No</td>\n",
              "    </tr>\n",
              "    <tr>\n",
              "      <th>936</th>\n",
              "      <td>5709-LVOEQ</td>\n",
              "      <td>Female</td>\n",
              "      <td>0</td>\n",
              "      <td>Yes</td>\n",
              "      <td>Yes</td>\n",
              "      <td>0</td>\n",
              "      <td>Yes</td>\n",
              "      <td>No</td>\n",
              "      <td>DSL</td>\n",
              "      <td>Yes</td>\n",
              "      <td>...</td>\n",
              "      <td>Yes</td>\n",
              "      <td>No</td>\n",
              "      <td>Yes</td>\n",
              "      <td>Yes</td>\n",
              "      <td>Two year</td>\n",
              "      <td>No</td>\n",
              "      <td>Mailed check</td>\n",
              "      <td>80.85</td>\n",
              "      <td></td>\n",
              "      <td>No</td>\n",
              "    </tr>\n",
              "    <tr>\n",
              "      <th>1082</th>\n",
              "      <td>4367-NUYAO</td>\n",
              "      <td>Male</td>\n",
              "      <td>0</td>\n",
              "      <td>Yes</td>\n",
              "      <td>Yes</td>\n",
              "      <td>0</td>\n",
              "      <td>Yes</td>\n",
              "      <td>Yes</td>\n",
              "      <td>No</td>\n",
              "      <td>No internet service</td>\n",
              "      <td>...</td>\n",
              "      <td>No internet service</td>\n",
              "      <td>No internet service</td>\n",
              "      <td>No internet service</td>\n",
              "      <td>No internet service</td>\n",
              "      <td>Two year</td>\n",
              "      <td>No</td>\n",
              "      <td>Mailed check</td>\n",
              "      <td>25.75</td>\n",
              "      <td></td>\n",
              "      <td>No</td>\n",
              "    </tr>\n",
              "    <tr>\n",
              "      <th>1340</th>\n",
              "      <td>1371-DWPAZ</td>\n",
              "      <td>Female</td>\n",
              "      <td>0</td>\n",
              "      <td>Yes</td>\n",
              "      <td>Yes</td>\n",
              "      <td>0</td>\n",
              "      <td>No</td>\n",
              "      <td>No phone service</td>\n",
              "      <td>DSL</td>\n",
              "      <td>Yes</td>\n",
              "      <td>...</td>\n",
              "      <td>Yes</td>\n",
              "      <td>Yes</td>\n",
              "      <td>Yes</td>\n",
              "      <td>No</td>\n",
              "      <td>Two year</td>\n",
              "      <td>No</td>\n",
              "      <td>Credit card (automatic)</td>\n",
              "      <td>56.05</td>\n",
              "      <td></td>\n",
              "      <td>No</td>\n",
              "    </tr>\n",
              "    <tr>\n",
              "      <th>3331</th>\n",
              "      <td>7644-OMVMY</td>\n",
              "      <td>Male</td>\n",
              "      <td>0</td>\n",
              "      <td>Yes</td>\n",
              "      <td>Yes</td>\n",
              "      <td>0</td>\n",
              "      <td>Yes</td>\n",
              "      <td>No</td>\n",
              "      <td>No</td>\n",
              "      <td>No internet service</td>\n",
              "      <td>...</td>\n",
              "      <td>No internet service</td>\n",
              "      <td>No internet service</td>\n",
              "      <td>No internet service</td>\n",
              "      <td>No internet service</td>\n",
              "      <td>Two year</td>\n",
              "      <td>No</td>\n",
              "      <td>Mailed check</td>\n",
              "      <td>19.85</td>\n",
              "      <td></td>\n",
              "      <td>No</td>\n",
              "    </tr>\n",
              "    <tr>\n",
              "      <th>3826</th>\n",
              "      <td>3213-VVOLG</td>\n",
              "      <td>Male</td>\n",
              "      <td>0</td>\n",
              "      <td>Yes</td>\n",
              "      <td>Yes</td>\n",
              "      <td>0</td>\n",
              "      <td>Yes</td>\n",
              "      <td>Yes</td>\n",
              "      <td>No</td>\n",
              "      <td>No internet service</td>\n",
              "      <td>...</td>\n",
              "      <td>No internet service</td>\n",
              "      <td>No internet service</td>\n",
              "      <td>No internet service</td>\n",
              "      <td>No internet service</td>\n",
              "      <td>Two year</td>\n",
              "      <td>No</td>\n",
              "      <td>Mailed check</td>\n",
              "      <td>25.35</td>\n",
              "      <td></td>\n",
              "      <td>No</td>\n",
              "    </tr>\n",
              "    <tr>\n",
              "      <th>4380</th>\n",
              "      <td>2520-SGTTA</td>\n",
              "      <td>Female</td>\n",
              "      <td>0</td>\n",
              "      <td>Yes</td>\n",
              "      <td>Yes</td>\n",
              "      <td>0</td>\n",
              "      <td>Yes</td>\n",
              "      <td>No</td>\n",
              "      <td>No</td>\n",
              "      <td>No internet service</td>\n",
              "      <td>...</td>\n",
              "      <td>No internet service</td>\n",
              "      <td>No internet service</td>\n",
              "      <td>No internet service</td>\n",
              "      <td>No internet service</td>\n",
              "      <td>Two year</td>\n",
              "      <td>No</td>\n",
              "      <td>Mailed check</td>\n",
              "      <td>20.00</td>\n",
              "      <td></td>\n",
              "      <td>No</td>\n",
              "    </tr>\n",
              "    <tr>\n",
              "      <th>5218</th>\n",
              "      <td>2923-ARZLG</td>\n",
              "      <td>Male</td>\n",
              "      <td>0</td>\n",
              "      <td>Yes</td>\n",
              "      <td>Yes</td>\n",
              "      <td>0</td>\n",
              "      <td>Yes</td>\n",
              "      <td>No</td>\n",
              "      <td>No</td>\n",
              "      <td>No internet service</td>\n",
              "      <td>...</td>\n",
              "      <td>No internet service</td>\n",
              "      <td>No internet service</td>\n",
              "      <td>No internet service</td>\n",
              "      <td>No internet service</td>\n",
              "      <td>One year</td>\n",
              "      <td>Yes</td>\n",
              "      <td>Mailed check</td>\n",
              "      <td>19.70</td>\n",
              "      <td></td>\n",
              "      <td>No</td>\n",
              "    </tr>\n",
              "    <tr>\n",
              "      <th>6670</th>\n",
              "      <td>4075-WKNIU</td>\n",
              "      <td>Female</td>\n",
              "      <td>0</td>\n",
              "      <td>Yes</td>\n",
              "      <td>Yes</td>\n",
              "      <td>0</td>\n",
              "      <td>Yes</td>\n",
              "      <td>Yes</td>\n",
              "      <td>DSL</td>\n",
              "      <td>No</td>\n",
              "      <td>...</td>\n",
              "      <td>Yes</td>\n",
              "      <td>Yes</td>\n",
              "      <td>Yes</td>\n",
              "      <td>No</td>\n",
              "      <td>Two year</td>\n",
              "      <td>No</td>\n",
              "      <td>Mailed check</td>\n",
              "      <td>73.35</td>\n",
              "      <td></td>\n",
              "      <td>No</td>\n",
              "    </tr>\n",
              "    <tr>\n",
              "      <th>6754</th>\n",
              "      <td>2775-SEFEE</td>\n",
              "      <td>Male</td>\n",
              "      <td>0</td>\n",
              "      <td>No</td>\n",
              "      <td>Yes</td>\n",
              "      <td>0</td>\n",
              "      <td>Yes</td>\n",
              "      <td>Yes</td>\n",
              "      <td>DSL</td>\n",
              "      <td>Yes</td>\n",
              "      <td>...</td>\n",
              "      <td>No</td>\n",
              "      <td>Yes</td>\n",
              "      <td>No</td>\n",
              "      <td>No</td>\n",
              "      <td>Two year</td>\n",
              "      <td>Yes</td>\n",
              "      <td>Bank transfer (automatic)</td>\n",
              "      <td>61.90</td>\n",
              "      <td></td>\n",
              "      <td>No</td>\n",
              "    </tr>\n",
              "  </tbody>\n",
              "</table>\n",
              "<p>11 rows × 21 columns</p>\n",
              "</div>\n",
              "      <button class=\"colab-df-convert\" onclick=\"convertToInteractive('df-c0d77d6c-5758-4f12-9f11-ed42d8bb6fb3')\"\n",
              "              title=\"Convert this dataframe to an interactive table.\"\n",
              "              style=\"display:none;\">\n",
              "        \n",
              "  <svg xmlns=\"http://www.w3.org/2000/svg\" height=\"24px\"viewBox=\"0 0 24 24\"\n",
              "       width=\"24px\">\n",
              "    <path d=\"M0 0h24v24H0V0z\" fill=\"none\"/>\n",
              "    <path d=\"M18.56 5.44l.94 2.06.94-2.06 2.06-.94-2.06-.94-.94-2.06-.94 2.06-2.06.94zm-11 1L8.5 8.5l.94-2.06 2.06-.94-2.06-.94L8.5 2.5l-.94 2.06-2.06.94zm10 10l.94 2.06.94-2.06 2.06-.94-2.06-.94-.94-2.06-.94 2.06-2.06.94z\"/><path d=\"M17.41 7.96l-1.37-1.37c-.4-.4-.92-.59-1.43-.59-.52 0-1.04.2-1.43.59L10.3 9.45l-7.72 7.72c-.78.78-.78 2.05 0 2.83L4 21.41c.39.39.9.59 1.41.59.51 0 1.02-.2 1.41-.59l7.78-7.78 2.81-2.81c.8-.78.8-2.07 0-2.86zM5.41 20L4 18.59l7.72-7.72 1.47 1.35L5.41 20z\"/>\n",
              "  </svg>\n",
              "      </button>\n",
              "      \n",
              "  <style>\n",
              "    .colab-df-container {\n",
              "      display:flex;\n",
              "      flex-wrap:wrap;\n",
              "      gap: 12px;\n",
              "    }\n",
              "\n",
              "    .colab-df-convert {\n",
              "      background-color: #E8F0FE;\n",
              "      border: none;\n",
              "      border-radius: 50%;\n",
              "      cursor: pointer;\n",
              "      display: none;\n",
              "      fill: #1967D2;\n",
              "      height: 32px;\n",
              "      padding: 0 0 0 0;\n",
              "      width: 32px;\n",
              "    }\n",
              "\n",
              "    .colab-df-convert:hover {\n",
              "      background-color: #E2EBFA;\n",
              "      box-shadow: 0px 1px 2px rgba(60, 64, 67, 0.3), 0px 1px 3px 1px rgba(60, 64, 67, 0.15);\n",
              "      fill: #174EA6;\n",
              "    }\n",
              "\n",
              "    [theme=dark] .colab-df-convert {\n",
              "      background-color: #3B4455;\n",
              "      fill: #D2E3FC;\n",
              "    }\n",
              "\n",
              "    [theme=dark] .colab-df-convert:hover {\n",
              "      background-color: #434B5C;\n",
              "      box-shadow: 0px 1px 3px 1px rgba(0, 0, 0, 0.15);\n",
              "      filter: drop-shadow(0px 1px 2px rgba(0, 0, 0, 0.3));\n",
              "      fill: #FFFFFF;\n",
              "    }\n",
              "  </style>\n",
              "\n",
              "      <script>\n",
              "        const buttonEl =\n",
              "          document.querySelector('#df-c0d77d6c-5758-4f12-9f11-ed42d8bb6fb3 button.colab-df-convert');\n",
              "        buttonEl.style.display =\n",
              "          google.colab.kernel.accessAllowed ? 'block' : 'none';\n",
              "\n",
              "        async function convertToInteractive(key) {\n",
              "          const element = document.querySelector('#df-c0d77d6c-5758-4f12-9f11-ed42d8bb6fb3');\n",
              "          const dataTable =\n",
              "            await google.colab.kernel.invokeFunction('convertToInteractive',\n",
              "                                                     [key], {});\n",
              "          if (!dataTable) return;\n",
              "\n",
              "          const docLinkHtml = 'Like what you see? Visit the ' +\n",
              "            '<a target=\"_blank\" href=https://colab.research.google.com/notebooks/data_table.ipynb>data table notebook</a>'\n",
              "            + ' to learn more about interactive tables.';\n",
              "          element.innerHTML = '';\n",
              "          dataTable['output_type'] = 'display_data';\n",
              "          await google.colab.output.renderOutput(dataTable, element);\n",
              "          const docLink = document.createElement('div');\n",
              "          docLink.innerHTML = docLinkHtml;\n",
              "          element.appendChild(docLink);\n",
              "        }\n",
              "      </script>\n",
              "    </div>\n",
              "  </div>\n",
              "  "
            ]
          },
          "metadata": {},
          "execution_count": 10
        }
      ]
    },
    {
      "cell_type": "markdown",
      "source": [
        "Como podemos ver acima, são 11 entradas com espaços representando valores ausentes. O procedimento para lidar com este problema será a criação de uma função que recebe o atributo e aplica o método `pd.to_numeric()` com argumento _errors = 'coarce'_, que substitui qualquer erro levantado por valores _NaN_."
      ],
      "metadata": {
        "id": "0EYRZOCCLooq"
      }
    },
    {
      "cell_type": "markdown",
      "source": [
        "- **Converter a coluna `TotalCharges` para _float64_**"
      ],
      "metadata": {
        "id": "zq6oTyyu9tN-"
      }
    },
    {
      "cell_type": "code",
      "source": [
        "# Função para converter string para float\n",
        "def converter(feature):\n",
        "  df[feature] = pd.to_numeric(df[feature], errors = 'coerce')\n",
        "  return df[feature]\n",
        "\n",
        "# Converter a coluna TotalCharges para float\n",
        "converter('TotalCharges')\n",
        "\n",
        "print('Coluna TotalCharges convertida para o formato', df['TotalCharges'].dtypes)"
      ],
      "metadata": {
        "colab": {
          "base_uri": "https://localhost:8080/"
        },
        "id": "W3nsb7Q8XOZe",
        "outputId": "dca7a8ab-c3a9-480c-ff80-a2f3bf92f985"
      },
      "execution_count": null,
      "outputs": [
        {
          "output_type": "stream",
          "name": "stdout",
          "text": [
            "Coluna TotalCharges convertida para o formato float64\n"
          ]
        }
      ]
    },
    {
      "cell_type": "markdown",
      "source": [
        "Com a coluna convertida para o formato _float64_, podemos substituir os valores ausentes, inseridos pela função, pela mediana do atributo, mantendo assim a informação das entradas."
      ],
      "metadata": {
        "id": "k6RzVW-dMTJb"
      }
    },
    {
      "cell_type": "markdown",
      "source": [
        "- **Lidando com os valores ausentes em `TotalCharges`**"
      ],
      "metadata": {
        "id": "ozd1UEpwfvlx"
      }
    },
    {
      "cell_type": "code",
      "source": [
        "# Criar um DataFrame de backup\n",
        "df_clean = df.copy()\n",
        "\n",
        "# Calcular a mediana da variável TotalCharges\n",
        "total_charges_median = df.loc[df['TotalCharges'] != ' ']['TotalCharges'].median()\n",
        "\n",
        "# Verificar os valores ausentes incluídos em TotalCharges\n",
        "print('Valores ausentes antes:', df['TotalCharges'].isna().sum())\n",
        "\n",
        "# Substituir os valores NaN pela mediana da coluna\n",
        "df_clean['TotalCharges'].replace(np.nan, total_charges_median, inplace = True)\n",
        "\n",
        "# Checar se foram substituídos corretamente\n",
        "print('Valores ausentes após:', df_clean['TotalCharges'].isna().sum())"
      ],
      "metadata": {
        "colab": {
          "base_uri": "https://localhost:8080/"
        },
        "id": "WDv0kBKcf4OW",
        "outputId": "506fbdec-0409-469f-b7e4-a5008ca53014"
      },
      "execution_count": null,
      "outputs": [
        {
          "output_type": "stream",
          "name": "stdout",
          "text": [
            "Valores ausentes antes: 11\n",
            "Valores ausentes após: 0\n"
          ]
        }
      ]
    },
    {
      "cell_type": "markdown",
      "source": [
        "- **Convertendo a coluna `SeniorCitizen`para categórica**"
      ],
      "metadata": {
        "id": "6t4Ztntj6J_X"
      }
    },
    {
      "cell_type": "markdown",
      "source": [
        "Com os valores ausentes resolvidos, iremos realizar a conversão da coluna `SeniorCitizen` para o formato _object_."
      ],
      "metadata": {
        "id": "ZSWUuE8OMk-S"
      }
    },
    {
      "cell_type": "code",
      "source": [
        "df_clean['SeniorCitizen'].replace({0: 'No', 1: 'Yes'}, inplace = True)\n",
        "\n",
        "print('Coluna SeniorCitizen convertida para o formato', df_clean['SeniorCitizen'].dtypes)"
      ],
      "metadata": {
        "colab": {
          "base_uri": "https://localhost:8080/"
        },
        "id": "4Zwy_yAW6JTg",
        "outputId": "16090ad2-4531-40f2-b540-91dd74ce670e"
      },
      "execution_count": null,
      "outputs": [
        {
          "output_type": "stream",
          "name": "stdout",
          "text": [
            "Coluna SeniorCitizen convertida para o formato object\n"
          ]
        }
      ]
    },
    {
      "cell_type": "markdown",
      "source": [
        "- **Removendo a coluna `CustomerID`**"
      ],
      "metadata": {
        "id": "hN_gG2Hcf1nE"
      }
    },
    {
      "cell_type": "markdown",
      "source": [
        "Por fim, iremos remover a coluna `CustomerID`, visto que ela não servirá nenhum propósito de análise neste projeto."
      ],
      "metadata": {
        "id": "lEWhdCWOMu6d"
      }
    },
    {
      "cell_type": "code",
      "source": [
        "df_clean.drop('customerID', axis = 1, inplace = True)"
      ],
      "metadata": {
        "id": "5U9kqptcgknf"
      },
      "execution_count": null,
      "outputs": []
    },
    {
      "cell_type": "markdown",
      "source": [
        "Agora, temos um _dataset_ mais limpo, sem valores ausentes e com todos os atributos nos formatos corretos."
      ],
      "metadata": {
        "id": "0yzP0nCoM0_f"
      }
    },
    {
      "cell_type": "code",
      "source": [
        "df_clean.dtypes"
      ],
      "metadata": {
        "colab": {
          "base_uri": "https://localhost:8080/"
        },
        "id": "9-QX-ciD5cul",
        "outputId": "2f41cbf5-b092-458d-fcd4-fd2a3a0c8391"
      },
      "execution_count": null,
      "outputs": [
        {
          "output_type": "execute_result",
          "data": {
            "text/plain": [
              "gender               object\n",
              "SeniorCitizen        object\n",
              "Partner              object\n",
              "Dependents           object\n",
              "tenure                int64\n",
              "PhoneService         object\n",
              "MultipleLines        object\n",
              "InternetService      object\n",
              "OnlineSecurity       object\n",
              "OnlineBackup         object\n",
              "DeviceProtection     object\n",
              "TechSupport          object\n",
              "StreamingTV          object\n",
              "StreamingMovies      object\n",
              "Contract             object\n",
              "PaperlessBilling     object\n",
              "PaymentMethod        object\n",
              "MonthlyCharges      float64\n",
              "TotalCharges        float64\n",
              "Churn                object\n",
              "dtype: object"
            ]
          },
          "metadata": {},
          "execution_count": 15
        }
      ]
    },
    {
      "cell_type": "markdown",
      "source": [
        "## Preparação dos Dados"
      ],
      "metadata": {
        "id": "toXzHdpj7qkc"
      }
    },
    {
      "cell_type": "markdown",
      "source": [
        "Nesta etapa de preparação dos dados, queremos adequar as variáveis ao formato codificado que torna possível a interpretação por parte dos algoritmos de ML. Para isto, iremos utilizar de uma técnica de codificação de variáveis categóricas presentes no _Scikit-learn_, o **Label Encoder**. Além dele, também iremos utilizar o método `pd.get_dummies` para transformar variáveis que não são binárias em atributos binários independentes, derivados das categorias de cada atributo original."
      ],
      "metadata": {
        "id": "baLqOMjX2Nbw"
      }
    },
    {
      "cell_type": "markdown",
      "source": [
        "### Codificação das variáveis categóricas"
      ],
      "metadata": {
        "id": "QUoAXQAU0Bb9"
      }
    },
    {
      "cell_type": "markdown",
      "source": [
        "- **Máscaras para variáveis categóricas a numéricas**"
      ],
      "metadata": {
        "id": "7ebjusPx31Vy"
      }
    },
    {
      "cell_type": "code",
      "source": [
        "bin_var = df_clean.nunique()[df_clean.nunique() == 2].keys().tolist() # Variáveis binárias\n",
        "\n",
        "numerical_var = [col for col in df_clean.select_dtypes(['int', 'float']).columns.tolist() if col not in bin_var] # Variáveis numéricas\n",
        "\n",
        "categorical_nb = [col for col in df_clean.columns.tolist() if col not in bin_var + numerical_var] # Variáveis categóricas que não são binárias"
      ],
      "metadata": {
        "id": "HyU5Raz9x4Xq"
      },
      "execution_count": null,
      "outputs": []
    },
    {
      "cell_type": "code",
      "source": [
        "df_proc = df_clean.copy() # Criar uma cópia para o DataFrame processado"
      ],
      "metadata": {
        "id": "_9vOBd_m-bmF"
      },
      "execution_count": null,
      "outputs": []
    },
    {
      "cell_type": "markdown",
      "source": [
        "- **Codificando as variáveis binárias**"
      ],
      "metadata": {
        "id": "Yghp7fcK-p9Q"
      }
    },
    {
      "cell_type": "code",
      "source": [
        "le_gnd = LabelEncoder()\n",
        "\n",
        "df_proc['gender'] = le_gnd.fit_transform(df['gender'])\n",
        "\n",
        "le = LabelEncoder()\n",
        "\n",
        "for i in bin_var:\n",
        "  df_proc[i] = le.fit_transform(df_clean[i])\n",
        "\n",
        "df_proc[bin_var]"
      ],
      "metadata": {
        "colab": {
          "base_uri": "https://localhost:8080/",
          "height": 423
        },
        "id": "yZVztwuX54iY",
        "outputId": "9bf6701a-fb55-41b6-fdc0-17eb086fd0d3"
      },
      "execution_count": null,
      "outputs": [
        {
          "output_type": "execute_result",
          "data": {
            "text/plain": [
              "      gender  SeniorCitizen  Partner  Dependents  PhoneService  \\\n",
              "0          0              0        1           0             0   \n",
              "1          1              0        0           0             1   \n",
              "2          1              0        0           0             1   \n",
              "3          1              0        0           0             0   \n",
              "4          0              0        0           0             1   \n",
              "...      ...            ...      ...         ...           ...   \n",
              "7038       1              0        1           1             1   \n",
              "7039       0              0        1           1             1   \n",
              "7040       0              0        1           1             0   \n",
              "7041       1              1        1           0             1   \n",
              "7042       1              0        0           0             1   \n",
              "\n",
              "      PaperlessBilling  Churn  \n",
              "0                    1      0  \n",
              "1                    0      0  \n",
              "2                    1      1  \n",
              "3                    0      0  \n",
              "4                    1      1  \n",
              "...                ...    ...  \n",
              "7038                 1      0  \n",
              "7039                 1      0  \n",
              "7040                 1      0  \n",
              "7041                 1      1  \n",
              "7042                 1      0  \n",
              "\n",
              "[7043 rows x 7 columns]"
            ],
            "text/html": [
              "\n",
              "  <div id=\"df-71937f6d-a9af-4e55-9661-2ec98aecf123\">\n",
              "    <div class=\"colab-df-container\">\n",
              "      <div>\n",
              "<style scoped>\n",
              "    .dataframe tbody tr th:only-of-type {\n",
              "        vertical-align: middle;\n",
              "    }\n",
              "\n",
              "    .dataframe tbody tr th {\n",
              "        vertical-align: top;\n",
              "    }\n",
              "\n",
              "    .dataframe thead th {\n",
              "        text-align: right;\n",
              "    }\n",
              "</style>\n",
              "<table border=\"1\" class=\"dataframe\">\n",
              "  <thead>\n",
              "    <tr style=\"text-align: right;\">\n",
              "      <th></th>\n",
              "      <th>gender</th>\n",
              "      <th>SeniorCitizen</th>\n",
              "      <th>Partner</th>\n",
              "      <th>Dependents</th>\n",
              "      <th>PhoneService</th>\n",
              "      <th>PaperlessBilling</th>\n",
              "      <th>Churn</th>\n",
              "    </tr>\n",
              "  </thead>\n",
              "  <tbody>\n",
              "    <tr>\n",
              "      <th>0</th>\n",
              "      <td>0</td>\n",
              "      <td>0</td>\n",
              "      <td>1</td>\n",
              "      <td>0</td>\n",
              "      <td>0</td>\n",
              "      <td>1</td>\n",
              "      <td>0</td>\n",
              "    </tr>\n",
              "    <tr>\n",
              "      <th>1</th>\n",
              "      <td>1</td>\n",
              "      <td>0</td>\n",
              "      <td>0</td>\n",
              "      <td>0</td>\n",
              "      <td>1</td>\n",
              "      <td>0</td>\n",
              "      <td>0</td>\n",
              "    </tr>\n",
              "    <tr>\n",
              "      <th>2</th>\n",
              "      <td>1</td>\n",
              "      <td>0</td>\n",
              "      <td>0</td>\n",
              "      <td>0</td>\n",
              "      <td>1</td>\n",
              "      <td>1</td>\n",
              "      <td>1</td>\n",
              "    </tr>\n",
              "    <tr>\n",
              "      <th>3</th>\n",
              "      <td>1</td>\n",
              "      <td>0</td>\n",
              "      <td>0</td>\n",
              "      <td>0</td>\n",
              "      <td>0</td>\n",
              "      <td>0</td>\n",
              "      <td>0</td>\n",
              "    </tr>\n",
              "    <tr>\n",
              "      <th>4</th>\n",
              "      <td>0</td>\n",
              "      <td>0</td>\n",
              "      <td>0</td>\n",
              "      <td>0</td>\n",
              "      <td>1</td>\n",
              "      <td>1</td>\n",
              "      <td>1</td>\n",
              "    </tr>\n",
              "    <tr>\n",
              "      <th>...</th>\n",
              "      <td>...</td>\n",
              "      <td>...</td>\n",
              "      <td>...</td>\n",
              "      <td>...</td>\n",
              "      <td>...</td>\n",
              "      <td>...</td>\n",
              "      <td>...</td>\n",
              "    </tr>\n",
              "    <tr>\n",
              "      <th>7038</th>\n",
              "      <td>1</td>\n",
              "      <td>0</td>\n",
              "      <td>1</td>\n",
              "      <td>1</td>\n",
              "      <td>1</td>\n",
              "      <td>1</td>\n",
              "      <td>0</td>\n",
              "    </tr>\n",
              "    <tr>\n",
              "      <th>7039</th>\n",
              "      <td>0</td>\n",
              "      <td>0</td>\n",
              "      <td>1</td>\n",
              "      <td>1</td>\n",
              "      <td>1</td>\n",
              "      <td>1</td>\n",
              "      <td>0</td>\n",
              "    </tr>\n",
              "    <tr>\n",
              "      <th>7040</th>\n",
              "      <td>0</td>\n",
              "      <td>0</td>\n",
              "      <td>1</td>\n",
              "      <td>1</td>\n",
              "      <td>0</td>\n",
              "      <td>1</td>\n",
              "      <td>0</td>\n",
              "    </tr>\n",
              "    <tr>\n",
              "      <th>7041</th>\n",
              "      <td>1</td>\n",
              "      <td>1</td>\n",
              "      <td>1</td>\n",
              "      <td>0</td>\n",
              "      <td>1</td>\n",
              "      <td>1</td>\n",
              "      <td>1</td>\n",
              "    </tr>\n",
              "    <tr>\n",
              "      <th>7042</th>\n",
              "      <td>1</td>\n",
              "      <td>0</td>\n",
              "      <td>0</td>\n",
              "      <td>0</td>\n",
              "      <td>1</td>\n",
              "      <td>1</td>\n",
              "      <td>0</td>\n",
              "    </tr>\n",
              "  </tbody>\n",
              "</table>\n",
              "<p>7043 rows × 7 columns</p>\n",
              "</div>\n",
              "      <button class=\"colab-df-convert\" onclick=\"convertToInteractive('df-71937f6d-a9af-4e55-9661-2ec98aecf123')\"\n",
              "              title=\"Convert this dataframe to an interactive table.\"\n",
              "              style=\"display:none;\">\n",
              "        \n",
              "  <svg xmlns=\"http://www.w3.org/2000/svg\" height=\"24px\"viewBox=\"0 0 24 24\"\n",
              "       width=\"24px\">\n",
              "    <path d=\"M0 0h24v24H0V0z\" fill=\"none\"/>\n",
              "    <path d=\"M18.56 5.44l.94 2.06.94-2.06 2.06-.94-2.06-.94-.94-2.06-.94 2.06-2.06.94zm-11 1L8.5 8.5l.94-2.06 2.06-.94-2.06-.94L8.5 2.5l-.94 2.06-2.06.94zm10 10l.94 2.06.94-2.06 2.06-.94-2.06-.94-.94-2.06-.94 2.06-2.06.94z\"/><path d=\"M17.41 7.96l-1.37-1.37c-.4-.4-.92-.59-1.43-.59-.52 0-1.04.2-1.43.59L10.3 9.45l-7.72 7.72c-.78.78-.78 2.05 0 2.83L4 21.41c.39.39.9.59 1.41.59.51 0 1.02-.2 1.41-.59l7.78-7.78 2.81-2.81c.8-.78.8-2.07 0-2.86zM5.41 20L4 18.59l7.72-7.72 1.47 1.35L5.41 20z\"/>\n",
              "  </svg>\n",
              "      </button>\n",
              "      \n",
              "  <style>\n",
              "    .colab-df-container {\n",
              "      display:flex;\n",
              "      flex-wrap:wrap;\n",
              "      gap: 12px;\n",
              "    }\n",
              "\n",
              "    .colab-df-convert {\n",
              "      background-color: #E8F0FE;\n",
              "      border: none;\n",
              "      border-radius: 50%;\n",
              "      cursor: pointer;\n",
              "      display: none;\n",
              "      fill: #1967D2;\n",
              "      height: 32px;\n",
              "      padding: 0 0 0 0;\n",
              "      width: 32px;\n",
              "    }\n",
              "\n",
              "    .colab-df-convert:hover {\n",
              "      background-color: #E2EBFA;\n",
              "      box-shadow: 0px 1px 2px rgba(60, 64, 67, 0.3), 0px 1px 3px 1px rgba(60, 64, 67, 0.15);\n",
              "      fill: #174EA6;\n",
              "    }\n",
              "\n",
              "    [theme=dark] .colab-df-convert {\n",
              "      background-color: #3B4455;\n",
              "      fill: #D2E3FC;\n",
              "    }\n",
              "\n",
              "    [theme=dark] .colab-df-convert:hover {\n",
              "      background-color: #434B5C;\n",
              "      box-shadow: 0px 1px 3px 1px rgba(0, 0, 0, 0.15);\n",
              "      filter: drop-shadow(0px 1px 2px rgba(0, 0, 0, 0.3));\n",
              "      fill: #FFFFFF;\n",
              "    }\n",
              "  </style>\n",
              "\n",
              "      <script>\n",
              "        const buttonEl =\n",
              "          document.querySelector('#df-71937f6d-a9af-4e55-9661-2ec98aecf123 button.colab-df-convert');\n",
              "        buttonEl.style.display =\n",
              "          google.colab.kernel.accessAllowed ? 'block' : 'none';\n",
              "\n",
              "        async function convertToInteractive(key) {\n",
              "          const element = document.querySelector('#df-71937f6d-a9af-4e55-9661-2ec98aecf123');\n",
              "          const dataTable =\n",
              "            await google.colab.kernel.invokeFunction('convertToInteractive',\n",
              "                                                     [key], {});\n",
              "          if (!dataTable) return;\n",
              "\n",
              "          const docLinkHtml = 'Like what you see? Visit the ' +\n",
              "            '<a target=\"_blank\" href=https://colab.research.google.com/notebooks/data_table.ipynb>data table notebook</a>'\n",
              "            + ' to learn more about interactive tables.';\n",
              "          element.innerHTML = '';\n",
              "          dataTable['output_type'] = 'display_data';\n",
              "          await google.colab.output.renderOutput(dataTable, element);\n",
              "          const docLink = document.createElement('div');\n",
              "          docLink.innerHTML = docLinkHtml;\n",
              "          element.appendChild(docLink);\n",
              "        }\n",
              "      </script>\n",
              "    </div>\n",
              "  </div>\n",
              "  "
            ]
          },
          "metadata": {},
          "execution_count": 18
        }
      ]
    },
    {
      "cell_type": "code",
      "source": [
        "print('Classes na coluna gênero:',\n",
        "      '\\n0:', le_gnd.classes_[0],\n",
        "      '\\n1:', le_gnd.classes_[1])\n",
        "\n",
        "print('\\nDemais classes:',\n",
        "      f'\\n0: {le.classes_[0]}',\n",
        "      f'\\n1: {le.classes_[1]}')"
      ],
      "metadata": {
        "colab": {
          "base_uri": "https://localhost:8080/"
        },
        "id": "P9KnC43C7cdj",
        "outputId": "b0c18180-8d7d-431f-8e9c-c7d5aedcdc0b"
      },
      "execution_count": null,
      "outputs": [
        {
          "output_type": "stream",
          "name": "stdout",
          "text": [
            "Classes na coluna gênero: \n",
            "0: Female \n",
            "1: Male\n",
            "\n",
            "Demais classes: \n",
            "0: No \n",
            "1: Yes\n"
          ]
        }
      ]
    },
    {
      "cell_type": "markdown",
      "source": [
        "- **Codificando as variáveis categóricas que não são binárias**\n"
      ],
      "metadata": {
        "id": "ZvYWx6Oxw77A"
      }
    },
    {
      "cell_type": "code",
      "source": [
        "df_proc = pd.get_dummies(df_proc, columns = categorical_nb)\n",
        "\n",
        "df_proc.head()"
      ],
      "metadata": {
        "colab": {
          "base_uri": "https://localhost:8080/",
          "height": 334
        },
        "id": "YH0raAJj-Zyi",
        "outputId": "ac654d56-a096-4dc3-e235-ca83d5f9b6fb"
      },
      "execution_count": null,
      "outputs": [
        {
          "output_type": "execute_result",
          "data": {
            "text/plain": [
              "   gender  SeniorCitizen  Partner  Dependents  tenure  PhoneService  \\\n",
              "0       0              0        1           0       1             0   \n",
              "1       1              0        0           0      34             1   \n",
              "2       1              0        0           0       2             1   \n",
              "3       1              0        0           0      45             0   \n",
              "4       0              0        0           0       2             1   \n",
              "\n",
              "   PaperlessBilling  MonthlyCharges  TotalCharges  Churn  ...  \\\n",
              "0                 1           29.85         29.85      0  ...   \n",
              "1                 0           56.95       1889.50      0  ...   \n",
              "2                 1           53.85        108.15      1  ...   \n",
              "3                 0           42.30       1840.75      0  ...   \n",
              "4                 1           70.70        151.65      1  ...   \n",
              "\n",
              "   StreamingMovies_No  StreamingMovies_No internet service  \\\n",
              "0                   1                                    0   \n",
              "1                   1                                    0   \n",
              "2                   1                                    0   \n",
              "3                   1                                    0   \n",
              "4                   1                                    0   \n",
              "\n",
              "   StreamingMovies_Yes  Contract_Month-to-month  Contract_One year  \\\n",
              "0                    0                        1                  0   \n",
              "1                    0                        0                  1   \n",
              "2                    0                        1                  0   \n",
              "3                    0                        0                  1   \n",
              "4                    0                        1                  0   \n",
              "\n",
              "   Contract_Two year  PaymentMethod_Bank transfer (automatic)  \\\n",
              "0                  0                                        0   \n",
              "1                  0                                        0   \n",
              "2                  0                                        0   \n",
              "3                  0                                        1   \n",
              "4                  0                                        0   \n",
              "\n",
              "   PaymentMethod_Credit card (automatic)  PaymentMethod_Electronic check  \\\n",
              "0                                      0                               1   \n",
              "1                                      0                               0   \n",
              "2                                      0                               0   \n",
              "3                                      0                               0   \n",
              "4                                      0                               1   \n",
              "\n",
              "   PaymentMethod_Mailed check  \n",
              "0                           0  \n",
              "1                           1  \n",
              "2                           1  \n",
              "3                           0  \n",
              "4                           0  \n",
              "\n",
              "[5 rows x 41 columns]"
            ],
            "text/html": [
              "\n",
              "  <div id=\"df-d5e02a29-7714-4992-83d6-9502f6571ca6\">\n",
              "    <div class=\"colab-df-container\">\n",
              "      <div>\n",
              "<style scoped>\n",
              "    .dataframe tbody tr th:only-of-type {\n",
              "        vertical-align: middle;\n",
              "    }\n",
              "\n",
              "    .dataframe tbody tr th {\n",
              "        vertical-align: top;\n",
              "    }\n",
              "\n",
              "    .dataframe thead th {\n",
              "        text-align: right;\n",
              "    }\n",
              "</style>\n",
              "<table border=\"1\" class=\"dataframe\">\n",
              "  <thead>\n",
              "    <tr style=\"text-align: right;\">\n",
              "      <th></th>\n",
              "      <th>gender</th>\n",
              "      <th>SeniorCitizen</th>\n",
              "      <th>Partner</th>\n",
              "      <th>Dependents</th>\n",
              "      <th>tenure</th>\n",
              "      <th>PhoneService</th>\n",
              "      <th>PaperlessBilling</th>\n",
              "      <th>MonthlyCharges</th>\n",
              "      <th>TotalCharges</th>\n",
              "      <th>Churn</th>\n",
              "      <th>...</th>\n",
              "      <th>StreamingMovies_No</th>\n",
              "      <th>StreamingMovies_No internet service</th>\n",
              "      <th>StreamingMovies_Yes</th>\n",
              "      <th>Contract_Month-to-month</th>\n",
              "      <th>Contract_One year</th>\n",
              "      <th>Contract_Two year</th>\n",
              "      <th>PaymentMethod_Bank transfer (automatic)</th>\n",
              "      <th>PaymentMethod_Credit card (automatic)</th>\n",
              "      <th>PaymentMethod_Electronic check</th>\n",
              "      <th>PaymentMethod_Mailed check</th>\n",
              "    </tr>\n",
              "  </thead>\n",
              "  <tbody>\n",
              "    <tr>\n",
              "      <th>0</th>\n",
              "      <td>0</td>\n",
              "      <td>0</td>\n",
              "      <td>1</td>\n",
              "      <td>0</td>\n",
              "      <td>1</td>\n",
              "      <td>0</td>\n",
              "      <td>1</td>\n",
              "      <td>29.85</td>\n",
              "      <td>29.85</td>\n",
              "      <td>0</td>\n",
              "      <td>...</td>\n",
              "      <td>1</td>\n",
              "      <td>0</td>\n",
              "      <td>0</td>\n",
              "      <td>1</td>\n",
              "      <td>0</td>\n",
              "      <td>0</td>\n",
              "      <td>0</td>\n",
              "      <td>0</td>\n",
              "      <td>1</td>\n",
              "      <td>0</td>\n",
              "    </tr>\n",
              "    <tr>\n",
              "      <th>1</th>\n",
              "      <td>1</td>\n",
              "      <td>0</td>\n",
              "      <td>0</td>\n",
              "      <td>0</td>\n",
              "      <td>34</td>\n",
              "      <td>1</td>\n",
              "      <td>0</td>\n",
              "      <td>56.95</td>\n",
              "      <td>1889.50</td>\n",
              "      <td>0</td>\n",
              "      <td>...</td>\n",
              "      <td>1</td>\n",
              "      <td>0</td>\n",
              "      <td>0</td>\n",
              "      <td>0</td>\n",
              "      <td>1</td>\n",
              "      <td>0</td>\n",
              "      <td>0</td>\n",
              "      <td>0</td>\n",
              "      <td>0</td>\n",
              "      <td>1</td>\n",
              "    </tr>\n",
              "    <tr>\n",
              "      <th>2</th>\n",
              "      <td>1</td>\n",
              "      <td>0</td>\n",
              "      <td>0</td>\n",
              "      <td>0</td>\n",
              "      <td>2</td>\n",
              "      <td>1</td>\n",
              "      <td>1</td>\n",
              "      <td>53.85</td>\n",
              "      <td>108.15</td>\n",
              "      <td>1</td>\n",
              "      <td>...</td>\n",
              "      <td>1</td>\n",
              "      <td>0</td>\n",
              "      <td>0</td>\n",
              "      <td>1</td>\n",
              "      <td>0</td>\n",
              "      <td>0</td>\n",
              "      <td>0</td>\n",
              "      <td>0</td>\n",
              "      <td>0</td>\n",
              "      <td>1</td>\n",
              "    </tr>\n",
              "    <tr>\n",
              "      <th>3</th>\n",
              "      <td>1</td>\n",
              "      <td>0</td>\n",
              "      <td>0</td>\n",
              "      <td>0</td>\n",
              "      <td>45</td>\n",
              "      <td>0</td>\n",
              "      <td>0</td>\n",
              "      <td>42.30</td>\n",
              "      <td>1840.75</td>\n",
              "      <td>0</td>\n",
              "      <td>...</td>\n",
              "      <td>1</td>\n",
              "      <td>0</td>\n",
              "      <td>0</td>\n",
              "      <td>0</td>\n",
              "      <td>1</td>\n",
              "      <td>0</td>\n",
              "      <td>1</td>\n",
              "      <td>0</td>\n",
              "      <td>0</td>\n",
              "      <td>0</td>\n",
              "    </tr>\n",
              "    <tr>\n",
              "      <th>4</th>\n",
              "      <td>0</td>\n",
              "      <td>0</td>\n",
              "      <td>0</td>\n",
              "      <td>0</td>\n",
              "      <td>2</td>\n",
              "      <td>1</td>\n",
              "      <td>1</td>\n",
              "      <td>70.70</td>\n",
              "      <td>151.65</td>\n",
              "      <td>1</td>\n",
              "      <td>...</td>\n",
              "      <td>1</td>\n",
              "      <td>0</td>\n",
              "      <td>0</td>\n",
              "      <td>1</td>\n",
              "      <td>0</td>\n",
              "      <td>0</td>\n",
              "      <td>0</td>\n",
              "      <td>0</td>\n",
              "      <td>1</td>\n",
              "      <td>0</td>\n",
              "    </tr>\n",
              "  </tbody>\n",
              "</table>\n",
              "<p>5 rows × 41 columns</p>\n",
              "</div>\n",
              "      <button class=\"colab-df-convert\" onclick=\"convertToInteractive('df-d5e02a29-7714-4992-83d6-9502f6571ca6')\"\n",
              "              title=\"Convert this dataframe to an interactive table.\"\n",
              "              style=\"display:none;\">\n",
              "        \n",
              "  <svg xmlns=\"http://www.w3.org/2000/svg\" height=\"24px\"viewBox=\"0 0 24 24\"\n",
              "       width=\"24px\">\n",
              "    <path d=\"M0 0h24v24H0V0z\" fill=\"none\"/>\n",
              "    <path d=\"M18.56 5.44l.94 2.06.94-2.06 2.06-.94-2.06-.94-.94-2.06-.94 2.06-2.06.94zm-11 1L8.5 8.5l.94-2.06 2.06-.94-2.06-.94L8.5 2.5l-.94 2.06-2.06.94zm10 10l.94 2.06.94-2.06 2.06-.94-2.06-.94-.94-2.06-.94 2.06-2.06.94z\"/><path d=\"M17.41 7.96l-1.37-1.37c-.4-.4-.92-.59-1.43-.59-.52 0-1.04.2-1.43.59L10.3 9.45l-7.72 7.72c-.78.78-.78 2.05 0 2.83L4 21.41c.39.39.9.59 1.41.59.51 0 1.02-.2 1.41-.59l7.78-7.78 2.81-2.81c.8-.78.8-2.07 0-2.86zM5.41 20L4 18.59l7.72-7.72 1.47 1.35L5.41 20z\"/>\n",
              "  </svg>\n",
              "      </button>\n",
              "      \n",
              "  <style>\n",
              "    .colab-df-container {\n",
              "      display:flex;\n",
              "      flex-wrap:wrap;\n",
              "      gap: 12px;\n",
              "    }\n",
              "\n",
              "    .colab-df-convert {\n",
              "      background-color: #E8F0FE;\n",
              "      border: none;\n",
              "      border-radius: 50%;\n",
              "      cursor: pointer;\n",
              "      display: none;\n",
              "      fill: #1967D2;\n",
              "      height: 32px;\n",
              "      padding: 0 0 0 0;\n",
              "      width: 32px;\n",
              "    }\n",
              "\n",
              "    .colab-df-convert:hover {\n",
              "      background-color: #E2EBFA;\n",
              "      box-shadow: 0px 1px 2px rgba(60, 64, 67, 0.3), 0px 1px 3px 1px rgba(60, 64, 67, 0.15);\n",
              "      fill: #174EA6;\n",
              "    }\n",
              "\n",
              "    [theme=dark] .colab-df-convert {\n",
              "      background-color: #3B4455;\n",
              "      fill: #D2E3FC;\n",
              "    }\n",
              "\n",
              "    [theme=dark] .colab-df-convert:hover {\n",
              "      background-color: #434B5C;\n",
              "      box-shadow: 0px 1px 3px 1px rgba(0, 0, 0, 0.15);\n",
              "      filter: drop-shadow(0px 1px 2px rgba(0, 0, 0, 0.3));\n",
              "      fill: #FFFFFF;\n",
              "    }\n",
              "  </style>\n",
              "\n",
              "      <script>\n",
              "        const buttonEl =\n",
              "          document.querySelector('#df-d5e02a29-7714-4992-83d6-9502f6571ca6 button.colab-df-convert');\n",
              "        buttonEl.style.display =\n",
              "          google.colab.kernel.accessAllowed ? 'block' : 'none';\n",
              "\n",
              "        async function convertToInteractive(key) {\n",
              "          const element = document.querySelector('#df-d5e02a29-7714-4992-83d6-9502f6571ca6');\n",
              "          const dataTable =\n",
              "            await google.colab.kernel.invokeFunction('convertToInteractive',\n",
              "                                                     [key], {});\n",
              "          if (!dataTable) return;\n",
              "\n",
              "          const docLinkHtml = 'Like what you see? Visit the ' +\n",
              "            '<a target=\"_blank\" href=https://colab.research.google.com/notebooks/data_table.ipynb>data table notebook</a>'\n",
              "            + ' to learn more about interactive tables.';\n",
              "          element.innerHTML = '';\n",
              "          dataTable['output_type'] = 'display_data';\n",
              "          await google.colab.output.renderOutput(dataTable, element);\n",
              "          const docLink = document.createElement('div');\n",
              "          docLink.innerHTML = docLinkHtml;\n",
              "          element.appendChild(docLink);\n",
              "        }\n",
              "      </script>\n",
              "    </div>\n",
              "  </div>\n",
              "  "
            ]
          },
          "metadata": {},
          "execution_count": 20
        }
      ]
    },
    {
      "cell_type": "markdown",
      "source": [
        "## Visualização dos Dados"
      ],
      "metadata": {
        "id": "8o1Xj5Tu3-C7"
      }
    },
    {
      "cell_type": "markdown",
      "source": [
        "### Correlação das variáveis com o alvo"
      ],
      "metadata": {
        "id": "uhu3O8gGGHU9"
      }
    },
    {
      "cell_type": "code",
      "source": [
        "corr = df_proc.corr()['Churn'].sort_values(ascending = False) # Definir correlações entre os atributos do DataFrame processado com relação ao alvo\n",
        "\n",
        "fig, ax = plt.subplots(figsize = (14, 8))\n",
        "\n",
        "cmap = plt.colormaps.get_cmap('viridis')\n",
        "\n",
        "colors = np.linspace(0, 1, len(corr) - 1)\n",
        "\n",
        "corr[1:].plot(kind = 'bar', color = cmap(colors))\n",
        "\n",
        "ax.set_ylabel('Correlação', fontsize = 12)\n",
        "ax.set_title('Correlação dos atributos com a variável-alvo', fontsize = 14, pad = 12)\n",
        "ax.grid(alpha = .3)\n",
        "\n",
        "fig.tight_layout()\n",
        "fig.show()"
      ],
      "metadata": {
        "colab": {
          "base_uri": "https://localhost:8080/",
          "height": 807
        },
        "id": "3daaVbXrGMrf",
        "outputId": "ad7e6aa8-3dfb-49c4-eec1-7475f9bc1aeb"
      },
      "execution_count": null,
      "outputs": [
        {
          "output_type": "display_data",
          "data": {
            "text/plain": [
              "<Figure size 1400x800 with 1 Axes>"
            ],
            "image/png": "[encoded data removed]"
          },
          "metadata": {}
        }
      ]
    },
    {
      "cell_type": "markdown",
      "source": [
        "O gráfico acima mostra a correlação dos atributos com relação à variável-alvo (_Churn_). De acordo com essa análise, os 5 atributos que influenciam positivamente, ou seja, que aumentam as chances de haver rotatividade, são:\n",
        "\n",
        "1. Contrato de mês a mês;\n",
        "2. Falta de segurança online;\n",
        "3. Falta de suporte tecnológico;\n",
        "4. Serviço de Internet de fibra óptica;\n",
        "5. Método de pagamento de cheque eletrônico.\n",
        "\n",
        "Os 5 atributos que influenciam negativamente, diminuindo a propensão à rotatividade, em direção à retenção do cliente, são:\n",
        "\n",
        "1. Tempo de permanência com a empresa (_tenure_);\n",
        "2. Contrato de dois anos;\n",
        "3. Não ter serviços de Internet;\n",
        "4. Cobranças totais;\n",
        "5. Contrato de um ano.\n",
        "\n",
        "Essa análise ajuda a identificar os atributos mais significativos, além de guiar na visualização desses dados antes de alimentar os modelos de aprendizado."
      ],
      "metadata": {
        "id": "o5fL4qO6uRIL"
      }
    },
    {
      "cell_type": "markdown",
      "source": [
        "### Relação das variáveis binárias com a rotatividade"
      ],
      "metadata": {
        "id": "hMs4ZIlS34aw"
      }
    },
    {
      "cell_type": "code",
      "source": [
        "def binary_plot(hue_churn = True):\n",
        "\n",
        "  if hue_churn == False:\n",
        "\n",
        "    colors = ['#1f4287', '#21e6c1']\n",
        "\n",
        "    fig, ax = plt.subplots(figsize = (6, 4))\n",
        "\n",
        "    countplot = sns.countplot(df_clean, x = 'Churn', hue = 'gender', ax = ax, palette = colors)\n",
        "\n",
        "    ax.set_ylabel('# de Clientes', fontsize = 12, labelpad = 12)\n",
        "    ax.set_xlabel('Churn', fontsize = 12)\n",
        "    ax.grid(alpha = .3)\n",
        "\n",
        "    # Modificar as legendas\n",
        "    countplot.legend(title = 'Gênero')\n",
        "\n",
        "    legend_labels = ['F', 'M']\n",
        "\n",
        "    for t, l in zip(countplot.legend_.texts, legend_labels):\n",
        "      t.set_text(l)\n",
        "\n",
        "    fig.tight_layout()\n",
        "    fig.show()\n",
        "\n",
        "  if hue_churn == True:\n",
        "\n",
        "    fig, ax = plt.subplots(2, 2, figsize = (10, 6))\n",
        "    ax = ax.flatten()\n",
        "\n",
        "    for i in np.arange(2, 6):\n",
        "\n",
        "      xi = df_clean[bin_var].columns[i]\n",
        "\n",
        "      countplot_2 = sns.countplot(df_clean, x = xi, hue = 'Churn', ax = ax[i - 3], order = ['No', 'Yes'], palette = 'rocket')\n",
        "\n",
        "      ax[i - 3].set_ylabel('# de clientes', fontsize = 12, labelpad = 12)\n",
        "      ax[i - 3].set_xticklabels(['Não', 'Sim'])\n",
        "      ax[i - 3].grid(alpha = .3)\n",
        "\n",
        "      ax[0].set_xlabel('Parceiro', fontsize = 12)\n",
        "      ax[1].set_xlabel('Dependentes', fontsize = 12)\n",
        "      ax[2].set_xlabel('Serviço de telefone', fontsize = 12)\n",
        "      ax[3].set_xlabel('Conta sem papel', fontsize = 12)\n",
        "\n",
        "      legend_labels = ['Não', 'Sim']\n",
        "\n",
        "      for t, l in zip(countplot_2.legend_.texts, legend_labels):\n",
        "        t.set_text(l)\n",
        "\n",
        "      fig.tight_layout()\n",
        "      fig.show()"
      ],
      "metadata": {
        "id": "m2ZrlKjRSSpI"
      },
      "execution_count": null,
      "outputs": []
    },
    {
      "cell_type": "markdown",
      "source": [
        "- **Taxa de rotatividade por gênero**"
      ],
      "metadata": {
        "id": "SRU4PeHpCyzo"
      }
    },
    {
      "cell_type": "code",
      "source": [
        "binary_plot(hue_churn = False)"
      ],
      "metadata": {
        "colab": {
          "base_uri": "https://localhost:8080/",
          "height": 407
        },
        "id": "Xecav8OPlW58",
        "outputId": "7cb214b6-f956-4ce9-d337-4a3eb1698837"
      },
      "execution_count": null,
      "outputs": [
        {
          "output_type": "display_data",
          "data": {
            "text/plain": [
              "<Figure size 600x400 with 1 Axes>"
            ],
            "image/png": "[encoded data removed]"
          },
          "metadata": {}
        }
      ]
    },
    {
      "cell_type": "markdown",
      "source": [
        "- Nota-se que a variável referente ao gênero dos clientes contribui pouco para a previsão de rotatividade. As taxas se mantém iguais para ambos os sexos, acompanhando a proporção de _Churn_ observada no _dataset_."
      ],
      "metadata": {
        "id": "1fpAXpfArZWE"
      }
    },
    {
      "cell_type": "markdown",
      "source": [
        "- **Rotatividade com relação a parceiros, dependentes, serviço de telefone e conta por papel**"
      ],
      "metadata": {
        "id": "poxLbAlZC3_2"
      }
    },
    {
      "cell_type": "code",
      "source": [
        "binary_plot(hue_churn = True)"
      ],
      "metadata": {
        "colab": {
          "base_uri": "https://localhost:8080/",
          "height": 606
        },
        "id": "AntNNtUClXwK",
        "outputId": "8a5946bf-d387-46e7-ce5b-be04110d2658"
      },
      "execution_count": null,
      "outputs": [
        {
          "output_type": "display_data",
          "data": {
            "text/plain": [
              "<Figure size 1000x600 with 4 Axes>"
            ],
            "image/png": "[encoded data removed]"
          },
          "metadata": {}
        }
      ]
    },
    {
      "cell_type": "markdown",
      "source": [
        "- No primeiro gráfico superior, é possível inferir que os clientes que têm parceiros são menos propensos a deixar a empresa. Se olharmos apenas esse indicador, o cliente com um parceiro tem 5 vezes mais chance de ser retido.\n",
        "\n",
        "- No segundo gráfico superior, nota-se que ter dependentes (_e.g_ filhos) está relacionado tanto à permanência quanto à rotatividade. Proporcionalmente, clientes com dependentes tem mais chance de serem retidos.\n",
        "\n",
        "- No primeiro gráfico inferior, o serviço de telefone influencia na rotatividade, aumentando a taxa em aproximadamente 3 vezes. Porém, ao analisar a correlação com a variável-alvo, no início dessa seção, vemos que esse atributo parece ser pouco relacionado à probabilidade de haver rotatividade.\n",
        "\n",
        "- No segundo gráfico inferior, vemos que o efeito de cobranças digitais tem grande influencia na rotatividade, diminuindo a taxa positiva (_Churn_) e aumentando a negativa (Permanência)."
      ],
      "metadata": {
        "id": "kJ2j57jArw0q"
      }
    },
    {
      "cell_type": "markdown",
      "source": [
        "### Relação da rotatividade com a fidelidade dos clientes"
      ],
      "metadata": {
        "id": "9iGlHjnEQ6RV"
      }
    },
    {
      "cell_type": "markdown",
      "source": [
        "- **Permanência dos clientes em meses (_tenure_)**"
      ],
      "metadata": {
        "id": "GHybDmCwCw2D"
      }
    },
    {
      "cell_type": "code",
      "source": [
        "fig, ax = plt.subplots(figsize = (6, 4))\n",
        "\n",
        "colors = ['#1f4287', '#21e6c1']\n",
        "\n",
        "sns.histplot(df_clean['tenure'], bins = 36, color = colors[0], ax = ax);\n",
        "\n",
        "ax.set_xlabel('Tenure (meses)', fontsize = 12, labelpad = 12)\n",
        "ax.set_ylabel('# de clientes', fontsize = 12, labelpad = 12)\n",
        "ax.set_title('Tempo de Permanência na Empresa', fontsize = 14, pad = 14)\n",
        "ax.set_yticks([0, 200, 400, 600])\n",
        "ax.grid(alpha = .3)\n",
        "\n",
        "fig.tight_layout()\n",
        "fig.show()"
      ],
      "metadata": {
        "colab": {
          "base_uri": "https://localhost:8080/",
          "height": 407
        },
        "id": "ECg0Bh0ECiSy",
        "outputId": "20ba7d04-c906-43bd-ddec-d45791feae70"
      },
      "execution_count": null,
      "outputs": [
        {
          "output_type": "display_data",
          "data": {
            "text/plain": [
              "<Figure size 600x400 with 1 Axes>"
            ],
            "image/png": "[encoded data removed]"
          },
          "metadata": {}
        }
      ]
    },
    {
      "cell_type": "markdown",
      "source": [
        "- O gráfico de permanência acima mostra uma grande quantidade de clientes com poucos meses na empresa, que logo cai e se normaliza por volta de 18 meses. Note que existe uma parcela significativa de clientes que estão na empresa há mais de 70 meses."
      ],
      "metadata": {
        "id": "qkWIxqrCf6L1"
      }
    },
    {
      "cell_type": "markdown",
      "source": [
        "- **Permanência por tipos de contratos**"
      ],
      "metadata": {
        "id": "ayTDQgrcD6-2"
      }
    },
    {
      "cell_type": "code",
      "source": [
        "contract_monthly = df_clean.loc[df_clean['Contract'] == 'Month-to-month']['tenure']\n",
        "\n",
        "contract_annual = df_clean.loc[df_clean['Contract'] == 'One year']['tenure']\n",
        "\n",
        "contract_biannual = df_clean.loc[df_clean['Contract'] == 'Two year']['tenure']\n",
        "\n",
        "contract_tenure = [contract_monthly, contract_annual, contract_biannual]"
      ],
      "metadata": {
        "id": "Oag-1XdBFhFr"
      },
      "execution_count": null,
      "outputs": []
    },
    {
      "cell_type": "code",
      "source": [
        "def contract_tenure_plot(all_contracts = True):\n",
        "\n",
        "  fig, ax = plt.subplots(1, 3, figsize = (14, 4))\n",
        "\n",
        "  for i in range(3):\n",
        "\n",
        "    labels = ['Mês a mês', 'Anual', 'Bianual']\n",
        "\n",
        "    sns.histplot(contract_tenure[i], kde = True, bins = 36, color = colors2[i], label = labels[i], ax = ax[i])\n",
        "\n",
        "    ax[0].set_ylabel('# de Clientes', fontsize = 12)\n",
        "    ax[i].set_ylim(0, 875)\n",
        "    ax[i].legend( )\n",
        "    ax[i].set_xlabel('Tenure (meses)', fontsize = 12)\n",
        "    ax[i].set_yticks([0, 200, 400, 600, 800])\n",
        "    ax[i].grid(alpha = .3)\n",
        "\n",
        "    if 0 < i <= 3:\n",
        "      ax[i].set_ylabel('', labelpad = 12)\n",
        "\n",
        "    fig.suptitle('Permanência por tipo de contrato', fontsize = 14)\n",
        "    fig.tight_layout()\n",
        "    fig.show()"
      ],
      "metadata": {
        "id": "T-wP_kmCHEAo"
      },
      "execution_count": null,
      "outputs": []
    },
    {
      "cell_type": "code",
      "source": [
        "contract_tenure_plot()"
      ],
      "metadata": {
        "colab": {
          "base_uri": "https://localhost:8080/",
          "height": 413
        },
        "id": "A5V501NS9qbE",
        "outputId": "ece79a1c-094c-41c5-ebbf-e8b75a49d940"
      },
      "execution_count": null,
      "outputs": [
        {
          "output_type": "display_data",
          "data": {
            "text/plain": [
              "<Figure size 1400x400 with 3 Axes>"
            ],
            "image/png": "[encoded data removed]"
          },
          "metadata": {}
        }
      ]
    },
    {
      "cell_type": "markdown",
      "source": [
        "Os gráficos acima mostram os tipos de contratos escolhidos pelos clientes de acordo com o tempo de permanência na empresa.\n",
        "\n",
        "- No primeiro gráfico, nota-se que a maioria dos clientes que escolhem o contrato mensal estão com a empresa a menos de 6 meses. À medida que o cliente se fideliza, ele tende a progredir para contratos mais duradouros. A maioria dos contratos mensais duram em média dois meses.\n",
        "\n",
        "- No contrato anual, a busca é menor e mais uniformemente distribuída, porém nota-se que sua procura aumenta à medida que o tempo de permanência na empresa aumenta.\n",
        "\n",
        "- O contrato de dois anos mostra que a maior procura são dos clientes mais fiéis, que estão há mais de 50 meses com a empresa. Quem escolhe esse tipo de contrato, tende a ficar por mais tempo."
      ],
      "metadata": {
        "id": "hRPj3r1iDc_k"
      }
    },
    {
      "cell_type": "markdown",
      "source": [
        "### Rotatividade por tipo de contrato"
      ],
      "metadata": {
        "id": "k3leIlRoFXn0"
      }
    },
    {
      "cell_type": "code",
      "source": [
        "contract_df = df_clean.groupby(['Contract','Churn']).size().unstack()\n",
        "\n",
        "pct_contract_churn = contract_df.T / contract_df.T.sum() * 100\n",
        "\n",
        "pct_contract_churn.T"
      ],
      "metadata": {
        "colab": {
          "base_uri": "https://localhost:8080/",
          "height": 175
        },
        "id": "H64RolugwHh6",
        "outputId": "df70b74a-c2de-42bf-9f2c-291359490b4d"
      },
      "execution_count": null,
      "outputs": [
        {
          "output_type": "execute_result",
          "data": {
            "text/plain": [
              "Churn                  No        Yes\n",
              "Contract                            \n",
              "Month-to-month  57.290323  42.709677\n",
              "One year        88.730482  11.269518\n",
              "Two year        97.168142   2.831858"
            ],
            "text/html": [
              "\n",
              "  <div id=\"df-8f36160b-28b5-4509-846a-dc90daa48f50\">\n",
              "    <div class=\"colab-df-container\">\n",
              "      <div>\n",
              "<style scoped>\n",
              "    .dataframe tbody tr th:only-of-type {\n",
              "        vertical-align: middle;\n",
              "    }\n",
              "\n",
              "    .dataframe tbody tr th {\n",
              "        vertical-align: top;\n",
              "    }\n",
              "\n",
              "    .dataframe thead th {\n",
              "        text-align: right;\n",
              "    }\n",
              "</style>\n",
              "<table border=\"1\" class=\"dataframe\">\n",
              "  <thead>\n",
              "    <tr style=\"text-align: right;\">\n",
              "      <th>Churn</th>\n",
              "      <th>No</th>\n",
              "      <th>Yes</th>\n",
              "    </tr>\n",
              "    <tr>\n",
              "      <th>Contract</th>\n",
              "      <th></th>\n",
              "      <th></th>\n",
              "    </tr>\n",
              "  </thead>\n",
              "  <tbody>\n",
              "    <tr>\n",
              "      <th>Month-to-month</th>\n",
              "      <td>57.290323</td>\n",
              "      <td>42.709677</td>\n",
              "    </tr>\n",
              "    <tr>\n",
              "      <th>One year</th>\n",
              "      <td>88.730482</td>\n",
              "      <td>11.269518</td>\n",
              "    </tr>\n",
              "    <tr>\n",
              "      <th>Two year</th>\n",
              "      <td>97.168142</td>\n",
              "      <td>2.831858</td>\n",
              "    </tr>\n",
              "  </tbody>\n",
              "</table>\n",
              "</div>\n",
              "      <button class=\"colab-df-convert\" onclick=\"convertToInteractive('df-8f36160b-28b5-4509-846a-dc90daa48f50')\"\n",
              "              title=\"Convert this dataframe to an interactive table.\"\n",
              "              style=\"display:none;\">\n",
              "        \n",
              "  <svg xmlns=\"http://www.w3.org/2000/svg\" height=\"24px\"viewBox=\"0 0 24 24\"\n",
              "       width=\"24px\">\n",
              "    <path d=\"M0 0h24v24H0V0z\" fill=\"none\"/>\n",
              "    <path d=\"M18.56 5.44l.94 2.06.94-2.06 2.06-.94-2.06-.94-.94-2.06-.94 2.06-2.06.94zm-11 1L8.5 8.5l.94-2.06 2.06-.94-2.06-.94L8.5 2.5l-.94 2.06-2.06.94zm10 10l.94 2.06.94-2.06 2.06-.94-2.06-.94-.94-2.06-.94 2.06-2.06.94z\"/><path d=\"M17.41 7.96l-1.37-1.37c-.4-.4-.92-.59-1.43-.59-.52 0-1.04.2-1.43.59L10.3 9.45l-7.72 7.72c-.78.78-.78 2.05 0 2.83L4 21.41c.39.39.9.59 1.41.59.51 0 1.02-.2 1.41-.59l7.78-7.78 2.81-2.81c.8-.78.8-2.07 0-2.86zM5.41 20L4 18.59l7.72-7.72 1.47 1.35L5.41 20z\"/>\n",
              "  </svg>\n",
              "      </button>\n",
              "      \n",
              "  <style>\n",
              "    .colab-df-container {\n",
              "      display:flex;\n",
              "      flex-wrap:wrap;\n",
              "      gap: 12px;\n",
              "    }\n",
              "\n",
              "    .colab-df-convert {\n",
              "      background-color: #E8F0FE;\n",
              "      border: none;\n",
              "      border-radius: 50%;\n",
              "      cursor: pointer;\n",
              "      display: none;\n",
              "      fill: #1967D2;\n",
              "      height: 32px;\n",
              "      padding: 0 0 0 0;\n",
              "      width: 32px;\n",
              "    }\n",
              "\n",
              "    .colab-df-convert:hover {\n",
              "      background-color: #E2EBFA;\n",
              "      box-shadow: 0px 1px 2px rgba(60, 64, 67, 0.3), 0px 1px 3px 1px rgba(60, 64, 67, 0.15);\n",
              "      fill: #174EA6;\n",
              "    }\n",
              "\n",
              "    [theme=dark] .colab-df-convert {\n",
              "      background-color: #3B4455;\n",
              "      fill: #D2E3FC;\n",
              "    }\n",
              "\n",
              "    [theme=dark] .colab-df-convert:hover {\n",
              "      background-color: #434B5C;\n",
              "      box-shadow: 0px 1px 3px 1px rgba(0, 0, 0, 0.15);\n",
              "      filter: drop-shadow(0px 1px 2px rgba(0, 0, 0, 0.3));\n",
              "      fill: #FFFFFF;\n",
              "    }\n",
              "  </style>\n",
              "\n",
              "      <script>\n",
              "        const buttonEl =\n",
              "          document.querySelector('#df-8f36160b-28b5-4509-846a-dc90daa48f50 button.colab-df-convert');\n",
              "        buttonEl.style.display =\n",
              "          google.colab.kernel.accessAllowed ? 'block' : 'none';\n",
              "\n",
              "        async function convertToInteractive(key) {\n",
              "          const element = document.querySelector('#df-8f36160b-28b5-4509-846a-dc90daa48f50');\n",
              "          const dataTable =\n",
              "            await google.colab.kernel.invokeFunction('convertToInteractive',\n",
              "                                                     [key], {});\n",
              "          if (!dataTable) return;\n",
              "\n",
              "          const docLinkHtml = 'Like what you see? Visit the ' +\n",
              "            '<a target=\"_blank\" href=https://colab.research.google.com/notebooks/data_table.ipynb>data table notebook</a>'\n",
              "            + ' to learn more about interactive tables.';\n",
              "          element.innerHTML = '';\n",
              "          dataTable['output_type'] = 'display_data';\n",
              "          await google.colab.output.renderOutput(dataTable, element);\n",
              "          const docLink = document.createElement('div');\n",
              "          docLink.innerHTML = docLinkHtml;\n",
              "          element.appendChild(docLink);\n",
              "        }\n",
              "      </script>\n",
              "    </div>\n",
              "  </div>\n",
              "  "
            ]
          },
          "metadata": {},
          "execution_count": 29
        }
      ]
    },
    {
      "cell_type": "code",
      "source": [
        "fig, ax = plt.subplots()\n",
        "\n",
        "plot = pct_contract_churn.T.plot(kind = 'bar', stacked = True, rot = 0, width = 0.3, color = colors, ax = ax)\n",
        "\n",
        "ax.set_xlabel('Tipo de contrato', fontsize = 12, labelpad = 12)\n",
        "ax.set_ylabel('% de clientes', fontsize = 12)\n",
        "ax.set_title('Rotatividade por tipo de contrato', fontsize = 14)\n",
        "ax.set_xticklabels(['Mês a mês', 'Anual', 'Bianual'])\n",
        "ax.grid(alpha = .3)\n",
        "\n",
        "legend_labels = ['Não', 'Sim']\n",
        "\n",
        "for t, l in zip(plot.legend_.texts, legend_labels):\n",
        "  t.set_text(l)\n",
        "\n",
        "for p in ax.patches:\n",
        "\n",
        "  width, height = p.get_width(), p.get_height()\n",
        "  x, y = p.get_xy()\n",
        "\n",
        "  if (y < 97.1681):\n",
        "    ax.annotate('{:.0f}%'.format(height), (x + .25 * width, y + .4 * height), color = 'white', weight = 'bold')\n",
        "\n",
        "  else:\n",
        "    ax.annotate('{:.0f}%'.format(height), (x + .3 * width, y -.2 * height), color = 'white', weight = 'bold')\n",
        "\n",
        "fig.tight_layout()\n",
        "fig.show()"
      ],
      "metadata": {
        "colab": {
          "base_uri": "https://localhost:8080/",
          "height": 487
        },
        "id": "SmLNyyEK3T5j",
        "outputId": "8dd3df0d-b0a5-4918-c1c3-269729b7ecda"
      },
      "execution_count": null,
      "outputs": [
        {
          "output_type": "display_data",
          "data": {
            "text/plain": [
              "<Figure size 640x480 with 1 Axes>"
            ],
            "image/png": "[encoded data removed]"
          },
          "metadata": {}
        }
      ]
    },
    {
      "cell_type": "markdown",
      "source": [
        "- A partir do gráfico acima, vemos mais claramente que o tipo de contrato influencia muito na decisão do cliente por deixar ou não a empresa. Dos clientes com contratos de dois anos, a taxa de rotatividade é de menos de 3%, comparados com os 43% de rotatividade nos clientes com contratos mensais.\n",
        "\n",
        "Evidencia-se, portanto, a relação entre fidelidade, através de maior permanência na empresa, com a baixa propensão à rotatividade."
      ],
      "metadata": {
        "id": "G0-65j1KHrIy"
      }
    },
    {
      "cell_type": "code",
      "source": [
        "fig, ax = plt.subplots(figsize = (6, 4))\n",
        "\n",
        "sns.boxplot(df_clean, x = 'Churn', y = 'tenure', palette = colors)\n",
        "\n",
        "ax.set_yticks([0, 20, 40, 60])\n",
        "ax.set_xticklabels(['Não', 'Sim'])\n",
        "ax.set_ylabel('Tenure', fontsize = 12)\n",
        "ax.set_xlabel('Churn', fontsize = 12)\n",
        "ax.grid(alpha = .3)\n",
        "\n",
        "fig.tight_layout()\n",
        "fig.show()"
      ],
      "metadata": {
        "colab": {
          "base_uri": "https://localhost:8080/",
          "height": 407
        },
        "id": "UdROhdVbII_k",
        "outputId": "42f3ccc3-4c2c-442a-e7dc-9a7d1f5491cc"
      },
      "execution_count": null,
      "outputs": [
        {
          "output_type": "display_data",
          "data": {
            "text/plain": [
              "<Figure size 600x400 with 1 Axes>"
            ],
            "image/png": "[encoded data removed]"
          },
          "metadata": {}
        }
      ]
    },
    {
      "cell_type": "code",
      "source": [
        "print('Churn = 0\\n', df_clean[df_clean['Churn'] == 'No']['tenure'].describe())\n",
        "print('\\n', '-' * 20, '\\n')\n",
        "print('Churn = 1\\n', df_clean[df_clean['Churn'] == 'Yes']['tenure'].describe())"
      ],
      "metadata": {
        "colab": {
          "base_uri": "https://localhost:8080/"
        },
        "id": "JjAKRlUhOdzP",
        "outputId": "5143089f-4765-4264-d2b3-5082ab40bec3"
      },
      "execution_count": null,
      "outputs": [
        {
          "output_type": "stream",
          "name": "stdout",
          "text": [
            "Churn = 0\n",
            " count    5174.000000\n",
            "mean       37.569965\n",
            "std        24.113777\n",
            "min         0.000000\n",
            "25%        15.000000\n",
            "50%        38.000000\n",
            "75%        61.000000\n",
            "max        72.000000\n",
            "Name: tenure, dtype: float64\n",
            "\n",
            " -------------------- \n",
            "\n",
            "Churn = 1\n",
            " count    1869.000000\n",
            "mean       17.979133\n",
            "std        19.531123\n",
            "min         1.000000\n",
            "25%         2.000000\n",
            "50%        10.000000\n",
            "75%        29.000000\n",
            "max        72.000000\n",
            "Name: tenure, dtype: float64\n"
          ]
        }
      ]
    },
    {
      "cell_type": "markdown",
      "source": [
        "- O _boxplot_ ajuda-nos a visualizar as diferenças estatísticas entre os casos de rotatividade com relação à variável _tenure_. Mais uma vez, vemos que clientes com mais tempo na empresa estão menos propensos a deixá-la, enquanto que 50% dos clientes deixam a empresa em até 10 meses, observando-se a mediana."
      ],
      "metadata": {
        "id": "K2IEY1h-N8fX"
      }
    },
    {
      "cell_type": "markdown",
      "source": [
        "### Relação entre cobranças e a rotatividade"
      ],
      "metadata": {
        "id": "JuXsyb63PmiK"
      }
    },
    {
      "cell_type": "markdown",
      "source": [
        "- **Cobranças mensais e Rotatividade**"
      ],
      "metadata": {
        "id": "D5lye29qP2x_"
      }
    },
    {
      "cell_type": "code",
      "source": [
        "fig, ax = plt.subplots()\n",
        "\n",
        "sns.kdeplot(df_clean['MonthlyCharges'][df_clean['Churn'] == 'No'], color = colors[0], fill = True, ax = ax)\n",
        "sns.kdeplot(df_clean['MonthlyCharges'][df_clean['Churn'] == 'Yes'], color = colors2[2], fill = True, ax = ax)\n",
        "\n",
        "ax.set_ylabel('Frequência Relativa', fontsize = 12)\n",
        "ax.set_xlabel('Cobranças Mensais (US$)', fontsize = 12)\n",
        "ax.set_yticks([0, 0.005, 0.01, 0.015, 0.02])\n",
        "ax.set_xticks([0, 30, 60, 90, 120])\n",
        "ax.set_xlim(0,)\n",
        "ax.set_title('Distribuição de Cobranças Mensais por Rotatividade')\n",
        "ax.grid(alpha = .3)\n",
        "\n",
        "ax.legend(title = 'Churn', labels = ['Não', 'Sim'])\n",
        "\n",
        "fig.tight_layout()\n",
        "fig.show()"
      ],
      "metadata": {
        "colab": {
          "base_uri": "https://localhost:8080/",
          "height": 487
        },
        "id": "xNNmja4IUXYO",
        "outputId": "3373d929-680a-4def-dacb-8f6d01a1533b"
      },
      "execution_count": null,
      "outputs": [
        {
          "output_type": "display_data",
          "data": {
            "text/plain": [
              "<Figure size 640x480 with 1 Axes>"
            ],
            "image/png": "[encoded data removed]"
          },
          "metadata": {}
        }
      ]
    },
    {
      "cell_type": "markdown",
      "source": [
        "Nota-se que:\n",
        "\n",
        "- A taxa de rotatividade aumenta à medida que as cobranças mensais aumentam de valor;\n",
        "\n",
        "- Para cobranças mensais menores que US$ 30, a chance do cliente deixar a empresa se reduz muito."
      ],
      "metadata": {
        "id": "QN0Dmec5bYVL"
      }
    },
    {
      "cell_type": "code",
      "source": [
        "fig, ax = plt.subplots()\n",
        "\n",
        "plot_1 = sns.kdeplot(df_clean['TotalCharges'][df_clean['Churn'] == 'No'], fill = True, color = colors2[0], ax = ax)\n",
        "plot_2 = sns.kdeplot(df_clean['TotalCharges'][df_clean['Churn'] == 'Yes'], fill = True, color = colors2[2], ax = ax)\n",
        "\n",
        "ax.legend(title = 'Churn', labels = ['Não', 'Sim'])\n",
        "ax.set_title('Distribuição de Cobranças Totais por Rotatividade')\n",
        "ax.set_xlabel('Cobrança Total', fontsize = 12)\n",
        "ax.set_ylabel('Frequência Relativa', fontsize = 12)\n",
        "ax.grid(alpha = .3)\n",
        "\n",
        "ax.set_xlim(-1.9e3, 1e4)\n",
        "\n",
        "fig.tight_layout()\n",
        "fig.show()"
      ],
      "metadata": {
        "colab": {
          "base_uri": "https://localhost:8080/",
          "height": 487
        },
        "id": "bVHXrNhbZWo9",
        "outputId": "d2dfe1d1-0704-4ac9-a719-fc42a70bddfb"
      },
      "execution_count": null,
      "outputs": [
        {
          "output_type": "display_data",
          "data": {
            "text/plain": [
              "<Figure size 640x480 with 1 Axes>"
            ],
            "image/png": "[encoded data removed]"
          },
          "metadata": {}
        }
      ]
    },
    {
      "cell_type": "markdown",
      "source": [
        "- Por essa análise, vemos que há maior rotatividade para cobranças totais menores. Uma hipótese do porquê isso acontece é devido ao fato de muitos clientes deixarem a empresa em pouco tempo (média de 18 meses), de modo que a soma total das cobranças seja naturalmente menor."
      ],
      "metadata": {
        "id": "o6c9SAwfaeUd"
      }
    },
    {
      "cell_type": "markdown",
      "source": [
        "## Resumo da Análise Exploratória\n",
        "\n",
        "Em busca de entender melhor como os dados apontam para as previsões de rotatividade, a análise exploratória visou identificar as distribuições dos dados para cada atributo e como eles se relacionam entre si e, principalmente, com a variável-alvo (_Churn_).\n",
        "\n",
        "- A correlação entre as variáveis mostrou os atributos que se relacionam positiva e negativamente com o alvo, apontando uma tendência do cliente sair da empresa ou ser retido, respectivamente;\n",
        "\n",
        "- Entre os atributos mais informativos dessa correlação, destacam-se o contrato mensal influenciando positivamente, e o tempo de permanencia na empresa, influenciando negativamente (menos propensão ao _Churn_);\n",
        "\n",
        "- A falta de suporte técnico com relação a serviços de tecnologia e Internet são outros pontos que aumentam a tendência à rotatividade. Por outro lado, clientes que não contratam serviços de Internet ou que têm contratos mais duradouros, tendem a ficar na empresa;\n",
        "\n",
        "- Nos dados demográficos, vimos que se o cliente têm parceiros e dependentes, o risco de _Churn_ diminui. Clientes que recebem a conta digitalmente também são menos propensos à rotatividade.\n",
        "\n",
        "- Com relação ao tempo de permanência na empresa, vimos que, à medida em que se aumenta a fidelidade, por meio de contratos mais longos, as taxas de rotatividade caem abruptamente.\n",
        "\n",
        "- Em média, perde-se mais clientes com contratos mensais. A média de permanência dos clientes com rotatividade é de 18 meses.\n",
        "\n",
        "- Cobranças mensais altas aumentam a propensão à rotatividade, enquanto que as cobranças totais não são muito informativas."
      ],
      "metadata": {
        "id": "FhWjw6RROgMT"
      }
    },
    {
      "cell_type": "markdown",
      "source": [
        "## Construção dos Modelos de Machine Learning"
      ],
      "metadata": {
        "id": "PTWcDUQUTqzR"
      }
    },
    {
      "cell_type": "markdown",
      "source": [
        "### Balanceamento dos Dados"
      ],
      "metadata": {
        "id": "SvWBzbQnUJYN"
      }
    },
    {
      "cell_type": "markdown",
      "source": [
        "Espera-se que os casos de rotatividade sejam menos frequentes do que os casos de retenção de clientes. Vamos visualizar o desbalanceamento dos dados para começar a tratar desse problema no _dataset_."
      ],
      "metadata": {
        "id": "hlHcnnZ0YaLa"
      }
    },
    {
      "cell_type": "code",
      "source": [
        "churn_count = df_proc['Churn'].value_counts() * 100 / df_proc['Churn'].value_counts().sum()"
      ],
      "metadata": {
        "id": "GoAv5D3LaH6g"
      },
      "execution_count": null,
      "outputs": []
    },
    {
      "cell_type": "code",
      "source": [
        "fig, ax = plt.subplots(figsize = (6, 4))\n",
        "\n",
        "churn_count.plot(kind = 'bar', color = colors, ax = ax, rot = 0)\n",
        "\n",
        "ax.set_xticklabels(['Não', 'Sim'])\n",
        "ax.grid(alpha = .3)\n",
        "ax.set_ylabel('% de Clientes', fontsize = 12)\n",
        "ax.set_xlabel('Churn', fontsize = 12)\n",
        "ax.set_yticks([0, 25, 50, 75, 100])\n",
        "ax.set_title('Balanceamento das Classes de Churn')\n",
        "\n",
        "for p in ax.patches:\n",
        "\n",
        "  width, height = p.get_width(), p.get_height()\n",
        "  x, y = p.get_xy()\n",
        "\n",
        "  ax.annotate('{:.1f}%'.format(height), (x + .32 * width, y + height/2), color = 'white', fontweight = 'bold', fontsize = 11)\n",
        "\n",
        "fig.tight_layout()\n",
        "fig.show()"
      ],
      "metadata": {
        "colab": {
          "base_uri": "https://localhost:8080/",
          "height": 407
        },
        "id": "PRvrOHEkYtF5",
        "outputId": "e5940891-e005-4b8a-c1ed-aaa650c4d620"
      },
      "execution_count": null,
      "outputs": [
        {
          "output_type": "display_data",
          "data": {
            "text/plain": [
              "<Figure size 600x400 with 1 Axes>"
            ],
            "image/png": "[encoded data removed]"
          },
          "metadata": {}
        }
      ]
    },
    {
      "cell_type": "markdown",
      "source": [
        "- De fato, os clientes classificados com _Churn_ representam um quarto apenas do conjunto de dados.\n",
        "\n",
        "- Para evitar problemas com enviesamento dos modelos para a classe majoritária, será realizado o balanceamento das classes para os dados de treinamento."
      ],
      "metadata": {
        "id": "SvcaVvU2hQzq"
      }
    },
    {
      "cell_type": "code",
      "source": [
        "# Divisão entre matriz de features e variável-alvo\n",
        "X = df_proc.drop('Churn', axis = 1)\n",
        "y = df_proc['Churn']\n",
        "\n",
        "# Divisão entre conjuntos de treino e teste\n",
        "X_train, X_test, y_train, y_test = train_test_split(X, y, test_size = .15)"
      ],
      "metadata": {
        "id": "2bxQFZcmb_u7"
      },
      "execution_count": null,
      "outputs": []
    },
    {
      "cell_type": "code",
      "source": [
        "print('Dimensões dos datasets de treino e teste',\n",
        "      '\\nX_train:', X_train.shape,\n",
        "      '\\ny_train:', y_train.shape,\n",
        "      '\\nX_test:\\t', X_test.shape,\n",
        "      '\\ny_test:\\t', y_test.shape)"
      ],
      "metadata": {
        "colab": {
          "base_uri": "https://localhost:8080/"
        },
        "id": "60BznCVhJJBo",
        "outputId": "d7d48bba-8b50-4b6d-bf3e-791542acff5b"
      },
      "execution_count": null,
      "outputs": [
        {
          "output_type": "stream",
          "name": "stdout",
          "text": [
            "Dimensões dos datasets de treino e teste \n",
            "X_train: (5986, 40) \n",
            "y_train: (5986,) \n",
            "X_test:\t (1057, 40) \n",
            "y_test:\t (1057,)\n"
          ]
        }
      ]
    },
    {
      "cell_type": "markdown",
      "source": [
        "Para este projeto, iremos utilizar o método de _undersampling_ para o balanceamento das classes da variável-alvo. A escolha decorre do fato de haver exemplos suficientes na classe de _Churn_ positivo - que corresponde a 26,5% dos exemplos - não havendo necessidade de gerar exemplos artificialmente por meio de alguma técnica de _oversampling_. Obviamente, há um _trade-off_ envolvido nessa escolha, uma vez que toda técnica de _undersampling_ gera uma perda de informações do conjunto de dados.\n",
        "\n",
        "Estes dados balanceados serão usados apenas para treino dos modelos. O teste sobre o modelo final será feito com dados novos armazenados em *X_test* e *y_test*."
      ],
      "metadata": {
        "id": "zyrF5A6Kmcm0"
      }
    },
    {
      "cell_type": "markdown",
      "source": [
        "- **Padronização das variáveis contínuas**"
      ],
      "metadata": {
        "id": "8JFMbT8o61Hh"
      }
    },
    {
      "cell_type": "markdown",
      "source": [
        "Com relação ao conjunto de treino, iremos padronizar as variáveis contínuas, de modo que elas mantenham a mesma distribuição, mas tenham média zero e desvio-padrão unitário.\n",
        "\n",
        "No caso, temos a maioria das variáveis binárias (0 ou 1) que não precisaram passar por uma padronização. Iremos aplicar o `StandardScaler` apenas às variáveis contínuas do tipo _float_: `tenure`, `MonthlyCharges` e `TotalCharges`."
      ],
      "metadata": {
        "id": "0fGyc9REKUv6"
      }
    },
    {
      "cell_type": "code",
      "source": [
        "std = StandardScaler()\n",
        "\n",
        "cols_to_std = ['tenure', 'MonthlyCharges', 'TotalCharges']\n",
        "\n",
        "X_train[cols_to_std] = std.fit_transform(X_train[cols_to_std])\n",
        "\n",
        "X_train.head()"
      ],
      "metadata": {
        "colab": {
          "base_uri": "https://localhost:8080/",
          "height": 334
        },
        "id": "n5bOtwFH8v9a",
        "outputId": "d08496f7-5349-4cc4-8338-28060f738ab7"
      },
      "execution_count": null,
      "outputs": [
        {
          "output_type": "execute_result",
          "data": {
            "text/plain": [
              "      gender  SeniorCitizen  Partner  Dependents    tenure  PhoneService  \\\n",
              "4808       0              0        0           0  0.890587             1   \n",
              "3616       0              1        1           0  1.502620             1   \n",
              "6048       1              1        1           0 -0.129468             1   \n",
              "4404       1              0        0           0 -0.333479             1   \n",
              "1772       1              0        0           0 -1.231128             1   \n",
              "\n",
              "      PaperlessBilling  MonthlyCharges  TotalCharges  MultipleLines_No  ...  \\\n",
              "4808                 0        0.535484      0.907122                 1  ...   \n",
              "3616                 0        0.759056      1.688170                 1  ...   \n",
              "6048                 1        0.997644      0.174700                 0  ...   \n",
              "4404                 1        0.834136     -0.032841                 1  ...   \n",
              "1772                 0        0.482094     -0.941973                 1  ...   \n",
              "\n",
              "      StreamingMovies_No  StreamingMovies_No internet service  \\\n",
              "4808                   0                                    0   \n",
              "3616                   0                                    0   \n",
              "6048                   0                                    0   \n",
              "4404                   0                                    0   \n",
              "1772                   1                                    0   \n",
              "\n",
              "      StreamingMovies_Yes  Contract_Month-to-month  Contract_One year  \\\n",
              "4808                    1                        0                  0   \n",
              "3616                    1                        0                  1   \n",
              "6048                    1                        1                  0   \n",
              "4404                    1                        1                  0   \n",
              "1772                    0                        1                  0   \n",
              "\n",
              "      Contract_Two year  PaymentMethod_Bank transfer (automatic)  \\\n",
              "4808                  1                                        0   \n",
              "3616                  0                                        0   \n",
              "6048                  0                                        0   \n",
              "4404                  0                                        0   \n",
              "1772                  0                                        0   \n",
              "\n",
              "      PaymentMethod_Credit card (automatic)  PaymentMethod_Electronic check  \\\n",
              "4808                                      0                               1   \n",
              "3616                                      1                               0   \n",
              "6048                                      0                               1   \n",
              "4404                                      0                               1   \n",
              "1772                                      0                               1   \n",
              "\n",
              "      PaymentMethod_Mailed check  \n",
              "4808                           0  \n",
              "3616                           0  \n",
              "6048                           0  \n",
              "4404                           0  \n",
              "1772                           0  \n",
              "\n",
              "[5 rows x 40 columns]"
            ],
            "text/html": [
              "\n",
              "  <div id=\"df-893ee659-3692-46c5-bf58-1e20d2c530c7\">\n",
              "    <div class=\"colab-df-container\">\n",
              "      <div>\n",
              "<style scoped>\n",
              "    .dataframe tbody tr th:only-of-type {\n",
              "        vertical-align: middle;\n",
              "    }\n",
              "\n",
              "    .dataframe tbody tr th {\n",
              "        vertical-align: top;\n",
              "    }\n",
              "\n",
              "    .dataframe thead th {\n",
              "        text-align: right;\n",
              "    }\n",
              "</style>\n",
              "<table border=\"1\" class=\"dataframe\">\n",
              "  <thead>\n",
              "    <tr style=\"text-align: right;\">\n",
              "      <th></th>\n",
              "      <th>gender</th>\n",
              "      <th>SeniorCitizen</th>\n",
              "      <th>Partner</th>\n",
              "      <th>Dependents</th>\n",
              "      <th>tenure</th>\n",
              "      <th>PhoneService</th>\n",
              "      <th>PaperlessBilling</th>\n",
              "      <th>MonthlyCharges</th>\n",
              "      <th>TotalCharges</th>\n",
              "      <th>MultipleLines_No</th>\n",
              "      <th>...</th>\n",
              "      <th>StreamingMovies_No</th>\n",
              "      <th>StreamingMovies_No internet service</th>\n",
              "      <th>StreamingMovies_Yes</th>\n",
              "      <th>Contract_Month-to-month</th>\n",
              "      <th>Contract_One year</th>\n",
              "      <th>Contract_Two year</th>\n",
              "      <th>PaymentMethod_Bank transfer (automatic)</th>\n",
              "      <th>PaymentMethod_Credit card (automatic)</th>\n",
              "      <th>PaymentMethod_Electronic check</th>\n",
              "      <th>PaymentMethod_Mailed check</th>\n",
              "    </tr>\n",
              "  </thead>\n",
              "  <tbody>\n",
              "    <tr>\n",
              "      <th>4808</th>\n",
              "      <td>0</td>\n",
              "      <td>0</td>\n",
              "      <td>0</td>\n",
              "      <td>0</td>\n",
              "      <td>0.890587</td>\n",
              "      <td>1</td>\n",
              "      <td>0</td>\n",
              "      <td>0.535484</td>\n",
              "      <td>0.907122</td>\n",
              "      <td>1</td>\n",
              "      <td>...</td>\n",
              "      <td>0</td>\n",
              "      <td>0</td>\n",
              "      <td>1</td>\n",
              "      <td>0</td>\n",
              "      <td>0</td>\n",
              "      <td>1</td>\n",
              "      <td>0</td>\n",
              "      <td>0</td>\n",
              "      <td>1</td>\n",
              "      <td>0</td>\n",
              "    </tr>\n",
              "    <tr>\n",
              "      <th>3616</th>\n",
              "      <td>0</td>\n",
              "      <td>1</td>\n",
              "      <td>1</td>\n",
              "      <td>0</td>\n",
              "      <td>1.502620</td>\n",
              "      <td>1</td>\n",
              "      <td>0</td>\n",
              "      <td>0.759056</td>\n",
              "      <td>1.688170</td>\n",
              "      <td>1</td>\n",
              "      <td>...</td>\n",
              "      <td>0</td>\n",
              "      <td>0</td>\n",
              "      <td>1</td>\n",
              "      <td>0</td>\n",
              "      <td>1</td>\n",
              "      <td>0</td>\n",
              "      <td>0</td>\n",
              "      <td>1</td>\n",
              "      <td>0</td>\n",
              "      <td>0</td>\n",
              "    </tr>\n",
              "    <tr>\n",
              "      <th>6048</th>\n",
              "      <td>1</td>\n",
              "      <td>1</td>\n",
              "      <td>1</td>\n",
              "      <td>0</td>\n",
              "      <td>-0.129468</td>\n",
              "      <td>1</td>\n",
              "      <td>1</td>\n",
              "      <td>0.997644</td>\n",
              "      <td>0.174700</td>\n",
              "      <td>0</td>\n",
              "      <td>...</td>\n",
              "      <td>0</td>\n",
              "      <td>0</td>\n",
              "      <td>1</td>\n",
              "      <td>1</td>\n",
              "      <td>0</td>\n",
              "      <td>0</td>\n",
              "      <td>0</td>\n",
              "      <td>0</td>\n",
              "      <td>1</td>\n",
              "      <td>0</td>\n",
              "    </tr>\n",
              "    <tr>\n",
              "      <th>4404</th>\n",
              "      <td>1</td>\n",
              "      <td>0</td>\n",
              "      <td>0</td>\n",
              "      <td>0</td>\n",
              "      <td>-0.333479</td>\n",
              "      <td>1</td>\n",
              "      <td>1</td>\n",
              "      <td>0.834136</td>\n",
              "      <td>-0.032841</td>\n",
              "      <td>1</td>\n",
              "      <td>...</td>\n",
              "      <td>0</td>\n",
              "      <td>0</td>\n",
              "      <td>1</td>\n",
              "      <td>1</td>\n",
              "      <td>0</td>\n",
              "      <td>0</td>\n",
              "      <td>0</td>\n",
              "      <td>0</td>\n",
              "      <td>1</td>\n",
              "      <td>0</td>\n",
              "    </tr>\n",
              "    <tr>\n",
              "      <th>1772</th>\n",
              "      <td>1</td>\n",
              "      <td>0</td>\n",
              "      <td>0</td>\n",
              "      <td>0</td>\n",
              "      <td>-1.231128</td>\n",
              "      <td>1</td>\n",
              "      <td>0</td>\n",
              "      <td>0.482094</td>\n",
              "      <td>-0.941973</td>\n",
              "      <td>1</td>\n",
              "      <td>...</td>\n",
              "      <td>1</td>\n",
              "      <td>0</td>\n",
              "      <td>0</td>\n",
              "      <td>1</td>\n",
              "      <td>0</td>\n",
              "      <td>0</td>\n",
              "      <td>0</td>\n",
              "      <td>0</td>\n",
              "      <td>1</td>\n",
              "      <td>0</td>\n",
              "    </tr>\n",
              "  </tbody>\n",
              "</table>\n",
              "<p>5 rows × 40 columns</p>\n",
              "</div>\n",
              "      <button class=\"colab-df-convert\" onclick=\"convertToInteractive('df-893ee659-3692-46c5-bf58-1e20d2c530c7')\"\n",
              "              title=\"Convert this dataframe to an interactive table.\"\n",
              "              style=\"display:none;\">\n",
              "        \n",
              "  <svg xmlns=\"http://www.w3.org/2000/svg\" height=\"24px\"viewBox=\"0 0 24 24\"\n",
              "       width=\"24px\">\n",
              "    <path d=\"M0 0h24v24H0V0z\" fill=\"none\"/>\n",
              "    <path d=\"M18.56 5.44l.94 2.06.94-2.06 2.06-.94-2.06-.94-.94-2.06-.94 2.06-2.06.94zm-11 1L8.5 8.5l.94-2.06 2.06-.94-2.06-.94L8.5 2.5l-.94 2.06-2.06.94zm10 10l.94 2.06.94-2.06 2.06-.94-2.06-.94-.94-2.06-.94 2.06-2.06.94z\"/><path d=\"M17.41 7.96l-1.37-1.37c-.4-.4-.92-.59-1.43-.59-.52 0-1.04.2-1.43.59L10.3 9.45l-7.72 7.72c-.78.78-.78 2.05 0 2.83L4 21.41c.39.39.9.59 1.41.59.51 0 1.02-.2 1.41-.59l7.78-7.78 2.81-2.81c.8-.78.8-2.07 0-2.86zM5.41 20L4 18.59l7.72-7.72 1.47 1.35L5.41 20z\"/>\n",
              "  </svg>\n",
              "      </button>\n",
              "      \n",
              "  <style>\n",
              "    .colab-df-container {\n",
              "      display:flex;\n",
              "      flex-wrap:wrap;\n",
              "      gap: 12px;\n",
              "    }\n",
              "\n",
              "    .colab-df-convert {\n",
              "      background-color: #E8F0FE;\n",
              "      border: none;\n",
              "      border-radius: 50%;\n",
              "      cursor: pointer;\n",
              "      display: none;\n",
              "      fill: #1967D2;\n",
              "      height: 32px;\n",
              "      padding: 0 0 0 0;\n",
              "      width: 32px;\n",
              "    }\n",
              "\n",
              "    .colab-df-convert:hover {\n",
              "      background-color: #E2EBFA;\n",
              "      box-shadow: 0px 1px 2px rgba(60, 64, 67, 0.3), 0px 1px 3px 1px rgba(60, 64, 67, 0.15);\n",
              "      fill: #174EA6;\n",
              "    }\n",
              "\n",
              "    [theme=dark] .colab-df-convert {\n",
              "      background-color: #3B4455;\n",
              "      fill: #D2E3FC;\n",
              "    }\n",
              "\n",
              "    [theme=dark] .colab-df-convert:hover {\n",
              "      background-color: #434B5C;\n",
              "      box-shadow: 0px 1px 3px 1px rgba(0, 0, 0, 0.15);\n",
              "      filter: drop-shadow(0px 1px 2px rgba(0, 0, 0, 0.3));\n",
              "      fill: #FFFFFF;\n",
              "    }\n",
              "  </style>\n",
              "\n",
              "      <script>\n",
              "        const buttonEl =\n",
              "          document.querySelector('#df-893ee659-3692-46c5-bf58-1e20d2c530c7 button.colab-df-convert');\n",
              "        buttonEl.style.display =\n",
              "          google.colab.kernel.accessAllowed ? 'block' : 'none';\n",
              "\n",
              "        async function convertToInteractive(key) {\n",
              "          const element = document.querySelector('#df-893ee659-3692-46c5-bf58-1e20d2c530c7');\n",
              "          const dataTable =\n",
              "            await google.colab.kernel.invokeFunction('convertToInteractive',\n",
              "                                                     [key], {});\n",
              "          if (!dataTable) return;\n",
              "\n",
              "          const docLinkHtml = 'Like what you see? Visit the ' +\n",
              "            '<a target=\"_blank\" href=https://colab.research.google.com/notebooks/data_table.ipynb>data table notebook</a>'\n",
              "            + ' to learn more about interactive tables.';\n",
              "          element.innerHTML = '';\n",
              "          dataTable['output_type'] = 'display_data';\n",
              "          await google.colab.output.renderOutput(dataTable, element);\n",
              "          const docLink = document.createElement('div');\n",
              "          docLink.innerHTML = docLinkHtml;\n",
              "          element.appendChild(docLink);\n",
              "        }\n",
              "      </script>\n",
              "    </div>\n",
              "  </div>\n",
              "  "
            ]
          },
          "metadata": {},
          "execution_count": 39
        }
      ]
    },
    {
      "cell_type": "markdown",
      "source": [
        "- **Balanceamento do conjunto de treino**"
      ],
      "metadata": {
        "id": "ELS_8a9L65l4"
      }
    },
    {
      "cell_type": "markdown",
      "source": [
        "A seguir, realizamos o balanceamento dos conjuntos de treino através do `RandomUnderSampler`."
      ],
      "metadata": {
        "id": "dGyhLQQDNUZs"
      }
    },
    {
      "cell_type": "code",
      "source": [
        "rus = RandomUnderSampler()\n",
        "\n",
        "X_rus, y_rus = rus.fit_resample(X_train, y_train)\n",
        "\n",
        "print('Dimensões dos datasets após undersampling',\n",
        "      '\\nX_rus:', X_rus.shape,\n",
        "      '\\ny_rus:', y_rus.shape)"
      ],
      "metadata": {
        "colab": {
          "base_uri": "https://localhost:8080/"
        },
        "id": "3yYVaUdUmYzw",
        "outputId": "b0825f7d-bcb9-4950-885a-56e1bc12b515"
      },
      "execution_count": null,
      "outputs": [
        {
          "output_type": "stream",
          "name": "stdout",
          "text": [
            "Dimensões dos datasets após undersampling \n",
            "X_rus: (3194, 40) \n",
            "y_rus: (3194,)\n"
          ]
        }
      ]
    },
    {
      "cell_type": "markdown",
      "source": [
        "Por fim, vamos visualizar as classes balanceadas na variável-alvo, que devem estar distribuídas numa proporção 50:50."
      ],
      "metadata": {
        "id": "18Slzj7aNffJ"
      }
    },
    {
      "cell_type": "code",
      "source": [
        "count_rus = y_rus.value_counts()"
      ],
      "metadata": {
        "id": "XPp5-GlQpM3K"
      },
      "execution_count": null,
      "outputs": []
    },
    {
      "cell_type": "code",
      "source": [
        "fig, ax = plt.subplots(figsize = (6, 4))\n",
        "\n",
        "count_rus.plot(kind = 'bar', rot = 0, color = colors)\n",
        "\n",
        "ax.set_yticks([0, 300, 600, 900, 1200, 1500])\n",
        "ax.grid(alpha = .3)\n",
        "ax.set_ylim(0, 1.75e3)\n",
        "ax.set_title('Classes Balanceadas')\n",
        "ax.set_xlabel('Churn', fontsize = 12)\n",
        "ax.set_ylabel('Frequência', fontsize = 12)\n",
        "\n",
        "for p in ax.patches:\n",
        "\n",
        "  width, height = p.get_width(), p.get_height()\n",
        "  x, y = p.get_xy()\n",
        "\n",
        "  ax.annotate('{:.1f}%'.format(height * 100 / count_rus.sum()), (x + .32 * width, y + height/2), color = 'white', fontweight = 'bold', fontsize = 11)\n",
        "\n",
        "fig.tight_layout()\n",
        "fig.show()"
      ],
      "metadata": {
        "colab": {
          "base_uri": "https://localhost:8080/",
          "height": 407
        },
        "id": "TyueSj6wpH0V",
        "outputId": "497c110b-3a13-4fa1-e932-1590cc8ba6cd"
      },
      "execution_count": null,
      "outputs": [
        {
          "output_type": "display_data",
          "data": {
            "text/plain": [
              "<Figure size 600x400 with 1 Axes>"
            ],
            "image/png": "[encoded data removed]"
          },
          "metadata": {}
        }
      ]
    },
    {
      "cell_type": "markdown",
      "source": [
        "#### Modelo baseline para comparação de desempenhos"
      ],
      "metadata": {
        "id": "_Dzqr2HKksIN"
      }
    },
    {
      "cell_type": "markdown",
      "source": [
        "Para podermos ter uma base de comparação dos desempenhos dos diferentes modelos que serão testados, iremos construir um baseline simples. Um modelo _baseline_ serve como ponto de referência para medir a performance de modelos mais complexos. Ele estabelece um nível de performance mínimo que os modelos devem ter, visto que se trata da pontuação de um modelo sem otimização alguma.\n",
        "\n",
        "Abaixo, vamos criar uma função que utiliza dos dados de treino e de um classificador para calcular a média das pontuações de _recall_ obtidas através de **validação cruzada**.\n",
        "\n",
        "Os dados de treino utilizados estão desbalanceados e não-padronizados, apenas com a codificação das variáveis categóricas."
      ],
      "metadata": {
        "id": "wHAYBBKLlKjg"
      }
    },
    {
      "cell_type": "code",
      "source": [
        "def eval_model(X, y, clf, report = True, std = True):\n",
        "\n",
        "  if std == True:\n",
        "\n",
        "# X: DataFrame, variáveis independentes\n",
        "# y: Series, variável-alvo\n",
        "# clf: modelo de classificador\n",
        "# report: bool, indica se a função deve imprimir ou não os resultados\n",
        "\n",
        "    pipeline = make_pipeline(StandardScaler(), # Criar a pipeline com um passo de pré-processamento e com o modelo\n",
        "                             clf)\n",
        "\n",
        "    scores = cross_val_score(pipeline, X, y, scoring = 'recall', cv = 5) # Realizar validação cruzada com 5 dobras\n",
        "\n",
        "    if report == True:\n",
        "      print(f'Recall {scores.mean():.2f} (+/- {scores.std():.2f})') # Imprimir resultado da média do recall\n",
        "\n",
        "    return scores.mean() # Retorna a média dos scores da validação cruzada\n",
        "\n",
        "  else:\n",
        "\n",
        "    model = clf.fit(X, y)\n",
        "\n",
        "    scores = cross_val_score(model, X, y, scoring = 'recall', cv = 5) # Realizar validação cruzada com 5 dobras\n",
        "\n",
        "    if report == True:\n",
        "      print(f'Recall {scores.mean():.2f} (+/- {scores.std():.2f})') # Imprimir resultado da média do recall\n",
        "\n",
        "    return scores.mean() # Retorna a média dos scores da validação cruzada"
      ],
      "metadata": {
        "id": "Ckp8YQ1HYTul"
      },
      "execution_count": null,
      "outputs": []
    },
    {
      "cell_type": "markdown",
      "source": [
        "Para esse teste, utilizarei como modelo-base o `RandomForestClassifier` sobre os dados de treino, sem nenhuma alteração de parâmetros."
      ],
      "metadata": {
        "id": "6s5YcAVmkFt7"
      }
    },
    {
      "cell_type": "code",
      "source": [
        "rf = RandomForestClassifier()\n",
        "\n",
        "print('Performance do modelo de baseline')\n",
        "score_baseline = eval_model(X_train, y_train, rf)"
      ],
      "metadata": {
        "colab": {
          "base_uri": "https://localhost:8080/"
        },
        "id": "BHvEpS9ca3iC",
        "outputId": "54def1bb-636f-4080-c293-ad4de1891317"
      },
      "execution_count": null,
      "outputs": [
        {
          "output_type": "stream",
          "name": "stdout",
          "text": [
            "Performance do modelo de baseline\n",
            "Recall 0.49 (+/- 0.02)\n"
          ]
        }
      ]
    },
    {
      "cell_type": "markdown",
      "source": [
        "### Teste de desempenho de vários modelos"
      ],
      "metadata": {
        "id": "YiWjK8WZrWoJ"
      }
    },
    {
      "cell_type": "markdown",
      "source": [
        "A seguir, iremos realizar um teste de desempenho de vários modelos de classificação, buscando aquele que melhor performa na predição de casos de rotatividade de clientes.\n",
        "\n",
        "Dentre os modelos, iremos testar os seguintes:\n",
        "\n",
        "- SVC (Support Vector Classifier): classificador de vetores de suporte, algoritmo de aprendizado supervisionado;\n",
        "- SGDC (_Stochastic Gradient Descent Classifier_): algoritmo de classificação linear para datasets grandes, baseado na técnica de gradiente descendente;\n",
        "- DTC (_Decision Tree Classifier_) - algoritmo de aprendizado supervisionado não-paramétrico para prever as classes através de regras de decisão;\n",
        "- _Logistic Regression_ - algoritmo de aprendizado supervisionado para classificação binária ou multi-classe, baseado em modelo estatístico;\n",
        "- XGBC (_XGBoost Classifier_) - algoritmo de impulsionamento de gradiente otimizado;\n",
        "- _Random Forest Classifier_ - classificador de floresta aleatória, um método de aprendizagem conjunta que combina múltiplas árvores de decisão para melhorar a classificação;\n",
        "- _LGBM Classifier_ (_Light Gradient Boosting Machine Classifier_) - uma estrutura de impulsionamento de gradiente voltado para alta performance e eficiência em datasets grandes."
      ],
      "metadata": {
        "id": "wrJESwUQsgjW"
      }
    },
    {
      "cell_type": "code",
      "source": [
        "# Instanciar os modelos\n",
        "svc = SVC()\n",
        "sgdc = SGDClassifier()\n",
        "dtc = DecisionTreeClassifier()\n",
        "lr = LogisticRegression()\n",
        "xgbc = XGBClassifier()\n",
        "rf = RandomForestClassifier()\n",
        "lgbm = LGBMClassifier()\n",
        "\n",
        "# Inicializar listas vazias para armazenar scores de recall e os nomes dos respectivos modelos\n",
        "recall = []\n",
        "model = []\n",
        "\n",
        "# Armazenar os modelos numa lista\n",
        "models = [svc, sgdc, dtc, lr, xgbc, rf, lgbm]\n",
        "\n",
        "for clf in models:\n",
        "  model.append(clf.__class__.__name__) # Armazenar os nomes dos modelos em model\n",
        "  recall.append(eval_model(X_rus, y_rus, clf, report = False, std = False)) # Armazenar os valores das médias de validação cruzada para cada modelo em recall\n",
        "\n",
        "# Armazenar os resultados em um DataFrame\n",
        "pd.DataFrame(data = recall, index = model, columns = ['Recall']).sort_values(by = 'Recall', ascending = False)"
      ],
      "metadata": {
        "colab": {
          "base_uri": "https://localhost:8080/",
          "height": 269
        },
        "id": "3IUXmCFPuQ-j",
        "outputId": "98f17293-0091-492f-8e37-4e35db531f8b"
      },
      "execution_count": null,
      "outputs": [
        {
          "output_type": "execute_result",
          "data": {
            "text/plain": [
              "                          Recall\n",
              "LogisticRegression      0.792741\n",
              "SVC                     0.785225\n",
              "LGBMClassifier          0.777716\n",
              "SGDClassifier           0.772094\n",
              "RandomForestClassifier  0.765184\n",
              "XGBClassifier           0.750172\n",
              "DecisionTreeClassifier  0.673133"
            ],
            "text/html": [
              "\n",
              "  <div id=\"df-7f0be1b0-333b-455a-a599-686e062ce2f1\">\n",
              "    <div class=\"colab-df-container\">\n",
              "      <div>\n",
              "<style scoped>\n",
              "    .dataframe tbody tr th:only-of-type {\n",
              "        vertical-align: middle;\n",
              "    }\n",
              "\n",
              "    .dataframe tbody tr th {\n",
              "        vertical-align: top;\n",
              "    }\n",
              "\n",
              "    .dataframe thead th {\n",
              "        text-align: right;\n",
              "    }\n",
              "</style>\n",
              "<table border=\"1\" class=\"dataframe\">\n",
              "  <thead>\n",
              "    <tr style=\"text-align: right;\">\n",
              "      <th></th>\n",
              "      <th>Recall</th>\n",
              "    </tr>\n",
              "  </thead>\n",
              "  <tbody>\n",
              "    <tr>\n",
              "      <th>LogisticRegression</th>\n",
              "      <td>0.792741</td>\n",
              "    </tr>\n",
              "    <tr>\n",
              "      <th>SVC</th>\n",
              "      <td>0.785225</td>\n",
              "    </tr>\n",
              "    <tr>\n",
              "      <th>LGBMClassifier</th>\n",
              "      <td>0.777716</td>\n",
              "    </tr>\n",
              "    <tr>\n",
              "      <th>SGDClassifier</th>\n",
              "      <td>0.772094</td>\n",
              "    </tr>\n",
              "    <tr>\n",
              "      <th>RandomForestClassifier</th>\n",
              "      <td>0.765184</td>\n",
              "    </tr>\n",
              "    <tr>\n",
              "      <th>XGBClassifier</th>\n",
              "      <td>0.750172</td>\n",
              "    </tr>\n",
              "    <tr>\n",
              "      <th>DecisionTreeClassifier</th>\n",
              "      <td>0.673133</td>\n",
              "    </tr>\n",
              "  </tbody>\n",
              "</table>\n",
              "</div>\n",
              "      <button class=\"colab-df-convert\" onclick=\"convertToInteractive('df-7f0be1b0-333b-455a-a599-686e062ce2f1')\"\n",
              "              title=\"Convert this dataframe to an interactive table.\"\n",
              "              style=\"display:none;\">\n",
              "        \n",
              "  <svg xmlns=\"http://www.w3.org/2000/svg\" height=\"24px\"viewBox=\"0 0 24 24\"\n",
              "       width=\"24px\">\n",
              "    <path d=\"M0 0h24v24H0V0z\" fill=\"none\"/>\n",
              "    <path d=\"M18.56 5.44l.94 2.06.94-2.06 2.06-.94-2.06-.94-.94-2.06-.94 2.06-2.06.94zm-11 1L8.5 8.5l.94-2.06 2.06-.94-2.06-.94L8.5 2.5l-.94 2.06-2.06.94zm10 10l.94 2.06.94-2.06 2.06-.94-2.06-.94-.94-2.06-.94 2.06-2.06.94z\"/><path d=\"M17.41 7.96l-1.37-1.37c-.4-.4-.92-.59-1.43-.59-.52 0-1.04.2-1.43.59L10.3 9.45l-7.72 7.72c-.78.78-.78 2.05 0 2.83L4 21.41c.39.39.9.59 1.41.59.51 0 1.02-.2 1.41-.59l7.78-7.78 2.81-2.81c.8-.78.8-2.07 0-2.86zM5.41 20L4 18.59l7.72-7.72 1.47 1.35L5.41 20z\"/>\n",
              "  </svg>\n",
              "      </button>\n",
              "      \n",
              "  <style>\n",
              "    .colab-df-container {\n",
              "      display:flex;\n",
              "      flex-wrap:wrap;\n",
              "      gap: 12px;\n",
              "    }\n",
              "\n",
              "    .colab-df-convert {\n",
              "      background-color: #E8F0FE;\n",
              "      border: none;\n",
              "      border-radius: 50%;\n",
              "      cursor: pointer;\n",
              "      display: none;\n",
              "      fill: #1967D2;\n",
              "      height: 32px;\n",
              "      padding: 0 0 0 0;\n",
              "      width: 32px;\n",
              "    }\n",
              "\n",
              "    .colab-df-convert:hover {\n",
              "      background-color: #E2EBFA;\n",
              "      box-shadow: 0px 1px 2px rgba(60, 64, 67, 0.3), 0px 1px 3px 1px rgba(60, 64, 67, 0.15);\n",
              "      fill: #174EA6;\n",
              "    }\n",
              "\n",
              "    [theme=dark] .colab-df-convert {\n",
              "      background-color: #3B4455;\n",
              "      fill: #D2E3FC;\n",
              "    }\n",
              "\n",
              "    [theme=dark] .colab-df-convert:hover {\n",
              "      background-color: #434B5C;\n",
              "      box-shadow: 0px 1px 3px 1px rgba(0, 0, 0, 0.15);\n",
              "      filter: drop-shadow(0px 1px 2px rgba(0, 0, 0, 0.3));\n",
              "      fill: #FFFFFF;\n",
              "    }\n",
              "  </style>\n",
              "\n",
              "      <script>\n",
              "        const buttonEl =\n",
              "          document.querySelector('#df-7f0be1b0-333b-455a-a599-686e062ce2f1 button.colab-df-convert');\n",
              "        buttonEl.style.display =\n",
              "          google.colab.kernel.accessAllowed ? 'block' : 'none';\n",
              "\n",
              "        async function convertToInteractive(key) {\n",
              "          const element = document.querySelector('#df-7f0be1b0-333b-455a-a599-686e062ce2f1');\n",
              "          const dataTable =\n",
              "            await google.colab.kernel.invokeFunction('convertToInteractive',\n",
              "                                                     [key], {});\n",
              "          if (!dataTable) return;\n",
              "\n",
              "          const docLinkHtml = 'Like what you see? Visit the ' +\n",
              "            '<a target=\"_blank\" href=https://colab.research.google.com/notebooks/data_table.ipynb>data table notebook</a>'\n",
              "            + ' to learn more about interactive tables.';\n",
              "          element.innerHTML = '';\n",
              "          dataTable['output_type'] = 'display_data';\n",
              "          await google.colab.output.renderOutput(dataTable, element);\n",
              "          const docLink = document.createElement('div');\n",
              "          docLink.innerHTML = docLinkHtml;\n",
              "          element.appendChild(docLink);\n",
              "        }\n",
              "      </script>\n",
              "    </div>\n",
              "  </div>\n",
              "  "
            ]
          },
          "metadata": {},
          "execution_count": 45
        }
      ]
    },
    {
      "cell_type": "markdown",
      "source": [
        "A tabela acima mostra a média das pontuações de _recall_ para os modelos de classificadores. O _recall_ foi escolhido porque ele mostra a **proporção de positivos classificados corretamente com relação ao total de positivos**. Como queremos minimizar a rotatividade, queremos um modelo que tenha o maior _recall_, isto é, a maior taxa de verdadeiros positivos e a menor taxa de falsos negativos.\n",
        "\n",
        "Dessa análise, vemos que o Classificador de Vetor de Suporte (SVC) e a Regressão Logística são os modelos que apresentam maior _recall_. Queremos trabalhar com algoritmos que permitam maior manipulação de hiperparâmetros para melhora da performance. Por esse motivo, neste projeto foram testados os algoritmos de otimização _SGDClassifier_ e os modelos de boost por gradiente baseados em árvores de decisão, i.e, _LGBMClassifier_ e _XGBoost Classifier_.\n",
        "\n",
        "O _SGDClassifier_ é um classificador linear otimizado com a técnica de gradiente descendente estocástico (SGD). Ele tem como objetivo minimizar a função de perda de modelos de classificação linear, como Regressão Logística e SVC. Justamente por trabalhar com esse método de otimização, ele é uma escolha melhor para problemas de larga escala, em _datasets_ maiores.\n",
        "\n",
        "A busca por hiperparâmetros foi feita utilizando o _GridSearchCV_, que combina a técnica de validação cruzada para retornar medidas de desempenho mais precisas, realizadas sobre dobras de treino e validação balanceadas e randomizadas. Isto traz maior consistência ao teste dos modelos e sua posterior avaliação."
      ],
      "metadata": {
        "id": "1ZUdUyTlxCWE"
      }
    },
    {
      "cell_type": "markdown",
      "source": [
        "## Otimização de Hiperparâmetros"
      ],
      "metadata": {
        "id": "6wAsdk80zH33"
      }
    },
    {
      "cell_type": "markdown",
      "source": [
        "A construção de modelos de Machine Learning nunca de apoia em apenas um algoritmo. O processo envolve a escolha de uma série de algoritmos que de alguma forma se relacionam com o problema fornecendo uma solução. A partir da avaliação do desempenho de cada modelo, segundo uma métrica específica, escolhemos aquele mais adequado a lidar com o problema.\n",
        "\n",
        "Com o modelo mais adequado definido, é possível melhorar ainda mais sua performance aplicando métodos que o testam sob diversas configurações de hiperparâmetros, selecionando aqueles que resultarem na melhor performance. Disto se trata a otimização de hiperparâmetros nesta seção."
      ],
      "metadata": {
        "id": "TMDiyXbrzye1"
      }
    },
    {
      "cell_type": "markdown",
      "source": [
        "### SGDClassifier"
      ],
      "metadata": {
        "id": "5FOAPU4qmlkK"
      }
    },
    {
      "cell_type": "code",
      "source": [
        "# Instanciar o SGD Classifier padrão\n",
        "sgdc = SGDClassifier(learning_rate = 'optimal')"
      ],
      "metadata": {
        "id": "TdCbnNYgYVEO"
      },
      "execution_count": null,
      "outputs": []
    },
    {
      "cell_type": "markdown",
      "source": [
        "Para o modelo de classificador baseado em otimização SGD, iremos manipular os hiperparâmetros _alpha_, _loss_, _penalty_, _learning_rate_ e _max_iter._\n",
        "\n",
        "**Sobre os parâmetros:**\n",
        "\n",
        "- _alpha_: representa a força da regularização, ou o inverso do parâmetro de regularização C.\n",
        "\n",
        "- _learning_rate_: parâmetro que determina a taxa de aprendizado do algoritmo de gradiente descendente para convergência mais rápida. Nesse caso, está fixado como _'optimal'_, significando que a taxa de aprendizado irá se ajustar automaticamente baseada nas caracaterísticas do problema e o progresso do modelo durante o treinamento.\n",
        "\n",
        "- _penalty_: determina o tipo de regularização que será aplicada. A penalidade _'l1'_ corresponde à regularização _Lasso_, a _'l2'_ à _ridge_ e a _'elasticnet'_ a uma combinação das duas primeiras.\n",
        "\n",
        "- _loss_: especifica a função de perda a ser otimizada durante o treinamento. _'hinge'_ é a função de perda usada em classificadores lineares baseados em máquinas de vetores de suporte, como SVC.\n",
        "\n",
        "- _max_iter_: determina o máximo de iterações realizadas pelo algoritmo em todo o _dataset_ durante o treino.\n"
      ],
      "metadata": {
        "id": "YlkG1Gmgfbw_"
      }
    },
    {
      "cell_type": "markdown",
      "source": [
        "- **Alpha**"
      ],
      "metadata": {
        "id": "DJMb66H2MM8G"
      }
    },
    {
      "cell_type": "code",
      "source": [
        "sgdc = SGDClassifier(learning_rate = 'optimal')\n",
        "\n",
        "sgdc_grid = [\n",
        "             {'alpha': [0.001, 0.01, 0.1, 1, 10, 100, 1000]}\n",
        "            ]\n",
        "\n",
        "# Estabelecer número de dobras randomizadas com as mesmas proporções de classes\n",
        "kfold = KFold(n_splits = 5, shuffle = True)\n",
        "# Instanciar o objeto GridSearchCV\n",
        "grid = GridSearchCV(sgdc, sgdc_grid, scoring = 'recall', cv = kfold, n_jobs = -1)\n",
        "# Realizar a busca por hiperparâmetros nas variáveis de treino\n",
        "grid_res = grid.fit(X_rus, y_rus)\n",
        "\n",
        "# Imprimir melhores resultados\n",
        "print(f'Melhor performance: {grid_res.best_score_:.3f}',\n",
        "      f'\\nHiperparâmetros: {grid_res.best_params_}', '\\n')"
      ],
      "metadata": {
        "colab": {
          "base_uri": "https://localhost:8080/"
        },
        "id": "vB2qUZJNVokN",
        "outputId": "c713213f-2de6-4386-ffe1-0f59aea8138b"
      },
      "execution_count": null,
      "outputs": [
        {
          "output_type": "stream",
          "name": "stdout",
          "text": [
            "Melhor performance: 0.832 \n",
            "Hiperparâmetros: {'alpha': 1} \n",
            "\n"
          ]
        }
      ]
    },
    {
      "cell_type": "markdown",
      "source": [
        "- **Penalty**"
      ],
      "metadata": {
        "id": "M_yEdVQpMO1E"
      }
    },
    {
      "cell_type": "code",
      "source": [
        "sgdc = SGDClassifier(learning_rate = 'optimal', alpha = 1)\n",
        "\n",
        "sgdc_grid = [\n",
        "             {'penalty': ['l1', 'l2', 'elasticnet']}\n",
        "            ]\n",
        "\n",
        "# Estabelecer número de dobras randomizadas com as mesmas proporções de classes\n",
        "kfold = KFold(n_splits = 5, shuffle = True)\n",
        "# Instanciar o objeto GridSearchCV\n",
        "grid = GridSearchCV(sgdc, sgdc_grid, scoring = 'recall', cv = kfold, n_jobs = -1)\n",
        "# Realizar a busca por hiperparâmetros nas variáveis de treino\n",
        "grid_res = grid.fit(X_rus, y_rus)\n",
        "\n",
        "# Imprimir melhores resultados\n",
        "print(f'Melhor performance: {grid_res.best_score_:.3f}',\n",
        "      f'\\nHiperparâmetros: {grid_res.best_params_}', '\\n')"
      ],
      "metadata": {
        "colab": {
          "base_uri": "https://localhost:8080/"
        },
        "id": "xLJrAbH1txph",
        "outputId": "cfc705ef-b8e4-4ca7-fbe6-c00c021238a0"
      },
      "execution_count": null,
      "outputs": [
        {
          "output_type": "stream",
          "name": "stdout",
          "text": [
            "Melhor performance: 0.827 \n",
            "Hiperparâmetros: {'penalty': 'l2'} \n",
            "\n"
          ]
        }
      ]
    },
    {
      "cell_type": "markdown",
      "source": [
        "- **Loss**"
      ],
      "metadata": {
        "id": "wj3tAqvdMQiM"
      }
    },
    {
      "cell_type": "code",
      "source": [
        "sgdc = SGDClassifier(learning_rate = 'optimal', alpha = 1, penalty = 'l2')\n",
        "\n",
        "sgdc_grid = [\n",
        "             {'loss': ['hinge', 'perceptron', 'modified_huber', 'log']}\n",
        "            ]\n",
        "\n",
        "# Estabelecer número de dobras randomizadas com as mesmas proporções de classes\n",
        "kfold = KFold(n_splits = 5, shuffle = True)\n",
        "# Instanciar o objeto GridSearchCV\n",
        "grid = GridSearchCV(sgdc, sgdc_grid, scoring = 'recall', cv = kfold, n_jobs = -1)\n",
        "# Realizar a busca por hiperparâmetros nas variáveis de treino\n",
        "grid_res = grid.fit(X_rus, y_rus)\n",
        "\n",
        "# Imprimir melhores resultados\n",
        "print(f'Melhor performance: {grid_res.best_score_:.3f}',\n",
        "      f'\\nHiperparâmetros: {grid_res.best_params_}', '\\n')"
      ],
      "metadata": {
        "colab": {
          "base_uri": "https://localhost:8080/"
        },
        "id": "yVFF-ZOSvX9p",
        "outputId": "84c9f7a7-49f5-44bb-9e25-3265bcec473f"
      },
      "execution_count": null,
      "outputs": [
        {
          "output_type": "stream",
          "name": "stdout",
          "text": [
            "Melhor performance: 0.830 \n",
            "Hiperparâmetros: {'loss': 'hinge'} \n",
            "\n"
          ]
        }
      ]
    },
    {
      "cell_type": "markdown",
      "source": [
        "- **Max_Iter**"
      ],
      "metadata": {
        "id": "4PyYvBd4MSRs"
      }
    },
    {
      "cell_type": "code",
      "source": [
        "sgdc = SGDClassifier(learning_rate = 'optimal' , alpha = 1, penalty = 'l2', loss = 'hinge')\n",
        "\n",
        "sgdc_grid = [\n",
        "             {'max_iter': [200, 300, 500, 1000, 1500, 2000]}\n",
        "            ]\n",
        "\n",
        "# Estabelecer número de dobras randomizadas com as mesmas proporções de classes\n",
        "kfold = KFold(n_splits = 5, shuffle = True)\n",
        "# Instanciar o objeto GridSearchCV\n",
        "grid = GridSearchCV(sgdc, sgdc_grid, scoring = 'recall', cv = kfold, n_jobs = -1)\n",
        "# Realizar a busca por hiperparâmetros nas variáveis de treino\n",
        "grid_res = grid.fit(X_rus, y_rus)\n",
        "\n",
        "# Imprimir melhores resultados\n",
        "print(f'Melhor performance: {grid_res.best_score_:.3f}',\n",
        "      f'\\nHiperparâmetros: {grid_res.best_params_}', '\\n')"
      ],
      "metadata": {
        "colab": {
          "base_uri": "https://localhost:8080/"
        },
        "id": "Mw1F7lajyauf",
        "outputId": "302770da-9ac1-4d6a-ccbb-cb865d4212c6"
      },
      "execution_count": null,
      "outputs": [
        {
          "output_type": "stream",
          "name": "stdout",
          "text": [
            "Melhor performance: 0.827 \n",
            "Hiperparâmetros: {'max_iter': 200} \n",
            "\n"
          ]
        }
      ]
    },
    {
      "cell_type": "markdown",
      "source": [
        "#### Modelo SGDClassifier Final"
      ],
      "metadata": {
        "id": "Hcec_P7o1HYC"
      }
    },
    {
      "cell_type": "code",
      "source": [
        "sgdc_final = SGDClassifier(learning_rate = 'optimal', alpha = 1,\n",
        "                           penalty = 'l2', loss = 'hinge', max_iter = 200)\n",
        "\n",
        "# Ajuste do modelo\n",
        "sgdc_final.fit(X_rus, y_rus)\n",
        "\n",
        "# Validação cruzada em 5 dobras e 10 repetições\n",
        "kfold = RepeatedKFold()\n",
        "scores = cross_validate(sgdc_final, X_rus, y_rus, scoring = ['recall', 'roc_auc'], cv = kfold)\n",
        "\n",
        "# Imprimir resultados das métricas de recall e AUC\n",
        "print('Performance SGD - Treino',\n",
        "      '\\nRecall: {:.3f}'.format(scores['test_recall'].mean()), '+/-', '{:.3f}'.format(scores['test_recall'].std()),\n",
        "      '\\nAUC: {:.3f}'.format(scores['test_roc_auc'].mean()), '+/-', '{:.3f}'.format(scores['test_roc_auc'].std()), '\\n')\n",
        "\n",
        "# Padronizar as variáveis contínuas no conjunto de teste\n",
        "std = StandardScaler()\n",
        "cols_to_std = ['tenure', 'MonthlyCharges', 'TotalCharges']\n",
        "X_test[cols_to_std] = std.fit_transform(X_test[cols_to_std])\n",
        "\n",
        "# Realizar as previsóes\n",
        "y_pred1 = sgdc_final.predict(X_test)\n",
        "\n",
        "# Report de classificação\n",
        "print('Performance SGD - Teste\\n', classification_report(y_test, y_pred1))\n",
        "\n",
        "# AUC\n",
        "print(f'AUC: {roc_auc_score(y_test, y_pred1):.3f}')"
      ],
      "metadata": {
        "colab": {
          "base_uri": "https://localhost:8080/"
        },
        "id": "dmvT3u41z3nq",
        "outputId": "ae40e63e-7295-433b-970a-3fbf8bcd1749"
      },
      "execution_count": null,
      "outputs": [
        {
          "output_type": "stream",
          "name": "stdout",
          "text": [
            "Performance SGD - Treino \n",
            "Recall: 0.826 +/- 0.024 \n",
            "AUC: 0.824 +/- 0.018 \n",
            "\n",
            "Performance SGD - Teste\n",
            "               precision    recall  f1-score   support\n",
            "\n",
            "           0       0.91      0.67      0.77       785\n",
            "           1       0.46      0.81      0.59       272\n",
            "\n",
            "    accuracy                           0.71      1057\n",
            "   macro avg       0.68      0.74      0.68      1057\n",
            "weighted avg       0.79      0.71      0.72      1057\n",
            "\n",
            "AUC: 0.739\n"
          ]
        }
      ]
    },
    {
      "cell_type": "code",
      "source": [
        "fig, ax = plt.subplots()\n",
        "\n",
        "cm = confusion_matrix(y_test, y_pred1, normalize = 'true')\n",
        "\n",
        "display_cm = ConfusionMatrixDisplay(cm)\n",
        "\n",
        "display_cm.plot(ax = ax, cmap = 'YlGnBu')\n",
        "\n",
        "ax.grid(False)\n",
        "ax.set_title('SGDClassifier', fontsize = 15, pad = 12)\n",
        "ax.set_ylabel('Classe Real', fontsize = 14)\n",
        "ax.set_xlabel('Classe Prevista', fontsize = 14)\n",
        "\n",
        "fig.tight_layout()\n",
        "fig.show()"
      ],
      "metadata": {
        "colab": {
          "base_uri": "https://localhost:8080/",
          "height": 487
        },
        "id": "QdJOPdjO2CIM",
        "outputId": "4330ea40-0276-4f60-ecfc-8977c50a12f5"
      },
      "execution_count": null,
      "outputs": [
        {
          "output_type": "display_data",
          "data": {
            "text/plain": [
              "<Figure size 640x480 with 2 Axes>"
            ],
            "image/png": "[encoded data removed]"
          },
          "metadata": {}
        }
      ]
    },
    {
      "cell_type": "markdown",
      "source": [
        "### LightGBMClassifier"
      ],
      "metadata": {
        "id": "pEjIcWH96oki"
      }
    },
    {
      "cell_type": "markdown",
      "source": [
        "O LightGBM é baseado na técnica de boosting, na qual um conjunto de modelos fracos é combinado para formar um modelo forte. Uma de suas principais características é a eficiência e velocidade. Ele utiliza uma técnica chamada \"leaf-wise growth\" (crescimento por folhas) em vez da abordagem \"level-wise growth\" (crescimento por níveis) usada por outros algoritmos de boosting.\n",
        "\n",
        "Esse modelo utiliza um algoritmo de otimização chamado Gradient-based One-Side Sampling (GOSS) para lidar com grandes conjuntos de dados. O GOSS seleciona amostras com base em seus gradientes, priorizando as amostras que são mais informativas e descartando as amostras menos relevantes. Assim, ele é capaz de lidar com conjuntos de dados grandes, tem boa capacidade de generalização e é resistente ao overfitting."
      ],
      "metadata": {
        "id": "qIqZgUetkw6k"
      }
    },
    {
      "cell_type": "code",
      "source": [
        "# Instanciar o modelo padrão de LGBM\n",
        "lgbm = LGBMClassifier(random_state = 100)"
      ],
      "metadata": {
        "id": "nKQuRFQ8XC_O"
      },
      "execution_count": null,
      "outputs": []
    },
    {
      "cell_type": "markdown",
      "source": [
        "- **N_Estimators**"
      ],
      "metadata": {
        "id": "b7buKDz4-GBd"
      }
    },
    {
      "cell_type": "code",
      "source": [
        "lgbm_grid = [\n",
        "    {'n_estimators': np.arange(50, 500, 50)}\n",
        "]\n",
        "\n",
        "# Estabelecer número de dobras randomizadas com as mesmas proporções de classes\n",
        "kfold = KFold(n_splits = 5, shuffle = True)\n",
        "# Instanciar o objeto GridSearchCV\n",
        "grid = GridSearchCV(lgbm, lgbm_grid, scoring = 'recall', cv = kfold, n_jobs = -1)\n",
        "# Realizar a busca por hiperparâmetros nas variáveis de treino\n",
        "grid_res = grid.fit(X_rus, y_rus)\n",
        "\n",
        "# Imprimir melhores resultados\n",
        "print(f'Melhor performance: {grid_res.best_score_:.3f}',\n",
        "      f'\\nHiperparâmetros: {grid_res.best_params_}', '\\n')"
      ],
      "metadata": {
        "id": "gwld1nV4-Fkt",
        "colab": {
          "base_uri": "https://localhost:8080/"
        },
        "outputId": "4875a2cd-409a-439c-dde0-57b88ef8b741"
      },
      "execution_count": null,
      "outputs": [
        {
          "output_type": "stream",
          "name": "stdout",
          "text": [
            "Melhor performance: 0.784 \n",
            "Hiperparâmetros: {'n_estimators': 50} \n",
            "\n"
          ]
        }
      ]
    },
    {
      "cell_type": "markdown",
      "source": [
        "- **Learning_Rate e SubSample**"
      ],
      "metadata": {
        "id": "Nf9MWqh64cFQ"
      }
    },
    {
      "cell_type": "code",
      "source": [
        "lgbm = LGBMClassifier(random_state = 100, n_estimators = 50)\n",
        "\n",
        "lgbm_grid = [\n",
        "    {'learning_rate': [0.001, 0.01, 0.1, 1],\n",
        "    'subsample': [0.7, 0.8, 0.9, 1.0]}\n",
        "]\n",
        "\n",
        "# Estabelecer número de dobras randomizadas com as mesmas proporções de classes\n",
        "kfold = KFold(n_splits = 5, shuffle = True)\n",
        "# Instanciar o objeto GridSearchCV\n",
        "grid = GridSearchCV(lgbm, lgbm_grid, scoring = 'recall', cv = kfold, n_jobs = -1)\n",
        "# Realizar a busca por hiperparâmetros nas variáveis de treino\n",
        "grid_res = grid.fit(X_rus, y_rus)\n",
        "\n",
        "# Imprimir melhores resultados\n",
        "print(f'Melhor performance: {grid_res.best_score_:.3f}',\n",
        "      f'\\nHiperparâmetros: {grid_res.best_params_}', '\\n')"
      ],
      "metadata": {
        "colab": {
          "base_uri": "https://localhost:8080/"
        },
        "id": "9E8PnrPo1yxj",
        "outputId": "0ef4f259-e4ae-4727-8d9a-56a835cd1e2e"
      },
      "execution_count": null,
      "outputs": [
        {
          "output_type": "stream",
          "name": "stdout",
          "text": [
            "Melhor performance: 0.776 \n",
            "Hiperparâmetros: {'learning_rate': 0.1, 'subsample': 0.7} \n",
            "\n"
          ]
        }
      ]
    },
    {
      "cell_type": "markdown",
      "source": [
        "- **Min_Child_Samples, Min_Child_Weight e Max_Depth**"
      ],
      "metadata": {
        "id": "Y-7Gcf_S5LxV"
      }
    },
    {
      "cell_type": "code",
      "source": [
        "lgbm = LGBMClassifier(random_state = 100, n_estimators = 50, learning_rate = 0.1, subsample = 0.7)\n",
        "\n",
        "lgbm_grid = [\n",
        "    {'min_child_samples': [1, 2, 4, 8, 10, 20, 40],\n",
        "    'min_child_weight': [0.001, 0.01, 0.1, 1, 10],\n",
        "    'max_depth': [5, 6, 7, 8, 9, 10]}\n",
        "]\n",
        "\n",
        "# Estabelecer número de dobras randomizadas com as mesmas proporções de classes\n",
        "kfold = KFold(n_splits = 5, shuffle = True)\n",
        "# Instanciar o objeto GridSearchCV\n",
        "grid = GridSearchCV(lgbm, lgbm_grid, scoring = 'recall', cv = kfold, n_jobs = -1)\n",
        "# Realizar a busca por hiperparâmetros nas variáveis de treino\n",
        "grid_res = grid.fit(X_rus, y_rus)\n",
        "\n",
        "# Imprimir melhores resultados\n",
        "print(f'Melhor performance: {grid_res.best_score_:.3f}',\n",
        "      f'\\nHiperparâmetros: {grid_res.best_params_}', '\\n')"
      ],
      "metadata": {
        "colab": {
          "base_uri": "https://localhost:8080/"
        },
        "id": "YEFEKHCn3xce",
        "outputId": "f72fe547-331f-4de3-9ee0-437dd363a01a"
      },
      "execution_count": null,
      "outputs": [
        {
          "output_type": "stream",
          "name": "stdout",
          "text": [
            "Melhor performance: 0.797 \n",
            "Hiperparâmetros: {'max_depth': 5, 'min_child_samples': 1, 'min_child_weight': 0.1} \n",
            "\n"
          ]
        }
      ]
    },
    {
      "cell_type": "markdown",
      "source": [
        "#### Modelo LightGBM Final"
      ],
      "metadata": {
        "id": "E6yFJwH3-6nz"
      }
    },
    {
      "cell_type": "code",
      "source": [
        "# Modelo final de LightGBM\n",
        "lgbm_final = LGBMClassifier(random_state = 100, n_estimators = 50, learning_rate = 0.01,\n",
        "                            subsample = 0.7, min_child_samples = 1, min_child_weight = 0.001, max_depth = 5)\n",
        "\n",
        "# Ajustar o modelo\n",
        "lgbm_final.fit(X_rus, y_rus)\n",
        "\n",
        "# # Validação cruzada em 5 dobras e 10 repetições\n",
        "kfold = RepeatedKFold()\n",
        "scores = cross_validate(lgbm_final, X_rus, y_rus, scoring = ['recall', 'roc_auc'], cv = kfold)\n",
        "\n",
        "# Imprimir resultados das métricas de recall e AUC\n",
        "print('Performance LightGBM - Treino',\n",
        "      '\\nRecall: {:.3f}'.format(scores['test_recall'].mean()), '+/-', '{:.3f}'.format(scores['test_recall'].std()),\n",
        "      '\\nAUC: {:.3f}'.format(scores['test_roc_auc'].mean()), '+/-', '{:.3f}'.format(scores['test_roc_auc'].std()), '\\n')\n",
        "\n",
        "# Fazer as previsões\n",
        "y_pred2 = lgbm_final.predict(X_test)\n",
        "\n",
        "# Report de classificação\n",
        "print('Performance LightGBM - Teste\\n', classification_report(y_test, y_pred2))\n",
        "\n",
        "# AUC\n",
        "print(f'AUC: {roc_auc_score(y_test, y_pred2):.3f}')"
      ],
      "metadata": {
        "colab": {
          "base_uri": "https://localhost:8080/"
        },
        "id": "OFURV9IB4N2c",
        "outputId": "7613e842-381b-4ea6-8332-4c912abc54d1"
      },
      "execution_count": null,
      "outputs": [
        {
          "output_type": "stream",
          "name": "stdout",
          "text": [
            "Performance LightGBM - Treino \n",
            "Recall: 0.782 +/- 0.027 \n",
            "AUC: 0.824 +/- 0.016 \n",
            "\n",
            "Performance LightGBM - Teste\n",
            "               precision    recall  f1-score   support\n",
            "\n",
            "           0       0.91      0.74      0.82       785\n",
            "           1       0.51      0.79      0.62       272\n",
            "\n",
            "    accuracy                           0.75      1057\n",
            "   macro avg       0.71      0.76      0.72      1057\n",
            "weighted avg       0.81      0.75      0.77      1057\n",
            "\n",
            "AUC: 0.764\n"
          ]
        }
      ]
    },
    {
      "cell_type": "code",
      "source": [
        "fig, ax = plt.subplots()\n",
        "\n",
        "cm = confusion_matrix(y_test, y_pred2, normalize = 'true')\n",
        "\n",
        "display = ConfusionMatrixDisplay(cm)\n",
        "\n",
        "display.plot(ax = ax, cmap = 'YlGnBu')\n",
        "\n",
        "ax.grid(False)\n",
        "ax.set_title('LightGBM', fontsize = 15, pad = 12)\n",
        "ax.set_ylabel('Classe Real', fontsize = 14)\n",
        "ax.set_xlabel('Classe Prevista', fontsize = 14)\n",
        "\n",
        "fig.tight_layout()\n",
        "fig.show()"
      ],
      "metadata": {
        "colab": {
          "base_uri": "https://localhost:8080/",
          "height": 487
        },
        "id": "9hDgLopf57kc",
        "outputId": "400e3b88-5d67-40bd-c305-a5e2a1ba6bbc"
      },
      "execution_count": null,
      "outputs": [
        {
          "output_type": "display_data",
          "data": {
            "text/plain": [
              "<Figure size 640x480 with 2 Axes>"
            ],
            "image/png": "[encoded data removed]"
          },
          "metadata": {}
        }
      ]
    },
    {
      "cell_type": "markdown",
      "source": [
        "### XGBClassifier"
      ],
      "metadata": {
        "id": "-8xXf4W58Ld7"
      }
    },
    {
      "cell_type": "markdown",
      "source": [
        "O XGBoost utiliza uma abordagem de boosting chamada Gradient Boosting, que treina os modelos de forma iterativa, corrigindo os erros cometidos pelos modelos anteriores. Ele se destaca por sua capacidade de lidar com conjuntos de dados complexos e de grande escala.\n",
        "\n",
        "Diferentemente do LightGBM, ele utiliza a técnica de \"crescimento por níveis\" para construir árvores de decisão durante o treinamento. Também inclui recursos como regularização, que ajuda a evitar o overfitting e melhora a generalização do modelo."
      ],
      "metadata": {
        "id": "MGuL5GK1lz8a"
      }
    },
    {
      "cell_type": "code",
      "source": [
        "# Instanciar o modelo\n",
        "xgb = XGBClassifier(learning_rate = 0.1)"
      ],
      "metadata": {
        "id": "aD_3pFVO81XW"
      },
      "execution_count": null,
      "outputs": []
    },
    {
      "cell_type": "markdown",
      "source": [
        "- **N_Estimators**"
      ],
      "metadata": {
        "id": "F7VnG0OP-v3C"
      }
    },
    {
      "cell_type": "code",
      "source": [
        "xgb_grid = [\n",
        "            {'n_estimators': np.arange(50, 500, 50)}\n",
        "           ]\n",
        "\n",
        "# Estabelecer número de dobras randomizadas com as mesmas proporções de classes\n",
        "kfold = KFold(n_splits = 5, shuffle = True)\n",
        "# Instanciar o objeto GridSearchCV\n",
        "grid = GridSearchCV(xgb, xgb_grid, scoring = 'recall', cv = kfold, n_jobs = -1)\n",
        "# Realizar a busca por hiperparâmetros nas variáveis de treino\n",
        "grid_res = grid.fit(X_rus, y_rus)\n",
        "\n",
        "# Imprimir melhores resultados\n",
        "print(f'Melhor performance: {grid_res.best_score_:.3f}',\n",
        "      f'\\nHiperparâmetros: {grid_res.best_params_}', '\\n')"
      ],
      "metadata": {
        "id": "8fdwgvnz-yRx",
        "colab": {
          "base_uri": "https://localhost:8080/"
        },
        "outputId": "c568e9d4-774d-46d8-dec1-2e2c0b24bdd7"
      },
      "execution_count": null,
      "outputs": [
        {
          "output_type": "stream",
          "name": "stdout",
          "text": [
            "Melhor performance: 0.785 \n",
            "Hiperparâmetros: {'n_estimators': 50} \n",
            "\n"
          ]
        }
      ]
    },
    {
      "cell_type": "markdown",
      "source": [
        "- **Max_Depth e Min_Child_Weight**"
      ],
      "metadata": {
        "id": "l_CgNWGaL1we"
      }
    },
    {
      "cell_type": "code",
      "source": [
        "xgb = XGBClassifier(learning_rate = 0.1, n_estimators = 50)\n",
        "\n",
        "xgb_grid = [\n",
        "    {'max_depth': np.arange(1, 8, 1),\n",
        "    'min_child_weight': np.arange(1, 5, 1)}\n",
        "]\n",
        "\n",
        "# Crie n dobras e repete o processo com uma diferente randomização dos dados n vezes\n",
        "kfold = KFold(n_splits = 5, shuffle = True)\n",
        "# Instanciar o objeto GridSearchCV\n",
        "grid = GridSearchCV(xgb, xgb_grid, scoring = 'recall', cv = kfold, n_jobs = -1)\n",
        "# Realizar a busca por hiperparâmetros nas variáveis de treino\n",
        "grid_res = grid.fit(X_rus, y_rus)\n",
        "\n",
        "# Imprimir melhores resultados\n",
        "print(f'Melhor performance: {grid_res.best_score_:.3f}',\n",
        "      f'\\nHiperparâmetros: {grid_res.best_params_}', '\\n')"
      ],
      "metadata": {
        "colab": {
          "base_uri": "https://localhost:8080/"
        },
        "id": "ztokzSqkB0VR",
        "outputId": "70498f55-dd4d-49fc-cb2a-59bd0c7ebf4c"
      },
      "execution_count": null,
      "outputs": [
        {
          "output_type": "stream",
          "name": "stdout",
          "text": [
            "Melhor performance: 0.819 \n",
            "Hiperparâmetros: {'max_depth': 1, 'min_child_weight': 1} \n",
            "\n"
          ]
        }
      ]
    },
    {
      "cell_type": "markdown",
      "source": [
        "- **Gamma**"
      ],
      "metadata": {
        "id": "38a6IuvsL6XY"
      }
    },
    {
      "cell_type": "code",
      "source": [
        "xgb = XGBClassifier(learning_rate = 0.1, n_estimators = 50, max_depth = 1, min_child_weight = 1)\n",
        "\n",
        "xgb_grid = [\n",
        "   {'gamma': [i / 10.0 for i in np.arange(0, 5)]}\n",
        "]\n",
        "\n",
        "# Crie n dobras e repete o processo com uma diferente randomização dos dados n vezes\n",
        "kfold = KFold(n_splits = 5, shuffle = True)\n",
        "# Instanciar o objeto GridSearchCV\n",
        "grid = GridSearchCV(xgb, xgb_grid, scoring = 'recall', cv = kfold, n_jobs = -1)\n",
        "# Realizar a busca por hiperparâmetros nas variáveis de treino\n",
        "grid_res = grid.fit(X_rus, y_rus)\n",
        "\n",
        "# Imprimir melhores resultados\n",
        "print(f'Melhor performance: {grid_res.best_score_:.3f}',\n",
        "      f'\\nHiperparâmetros: {grid_res.best_params_}', '\\n')"
      ],
      "metadata": {
        "colab": {
          "base_uri": "https://localhost:8080/"
        },
        "id": "44R7YPiOHCOY",
        "outputId": "2224d801-0397-4d79-f139-2c2fb5ba0aa5"
      },
      "execution_count": null,
      "outputs": [
        {
          "output_type": "stream",
          "name": "stdout",
          "text": [
            "Melhor performance: 0.815 \n",
            "Hiperparâmetros: {'gamma': 0.0} \n",
            "\n"
          ]
        }
      ]
    },
    {
      "cell_type": "markdown",
      "source": [
        "- **Learning_Rate**"
      ],
      "metadata": {
        "id": "AqJh6AjIL8A0"
      }
    },
    {
      "cell_type": "code",
      "source": [
        "xgb = XGBClassifier(n_estimators = 50, max_depth = 1, min_child_weight = 1, gamma = 0.0)\n",
        "\n",
        "xgb_grid = [\n",
        "   {'learning_rate': [0.001, 0.01, 0.1, 1]}\n",
        "]\n",
        "\n",
        "# Estabelecer número de dobras randomizadas com as mesmas proporções de classes\n",
        "kfold = KFold(n_splits = 5, shuffle = True)\n",
        "# Instanciar o objeto GridSearchCV\n",
        "grid = GridSearchCV(xgb, xgb_grid, scoring = 'recall', cv = kfold, n_jobs = -1)\n",
        "# Realizar a busca por hiperparâmetros nas variáveis de treino\n",
        "grid_res = grid.fit(X_rus, y_rus)\n",
        "\n",
        "# Imprimir melhores resultados\n",
        "print(f'Melhor performance: {grid_res.best_score_:.3f}',\n",
        "      f'\\nHiperparâmetros: {grid_res.best_params_}', '\\n')"
      ],
      "metadata": {
        "colab": {
          "base_uri": "https://localhost:8080/"
        },
        "id": "F3UTFb8JJ2Pp",
        "outputId": "e0bda5d4-ec5d-4b29-adc0-24de5c0a15df"
      },
      "execution_count": null,
      "outputs": [
        {
          "output_type": "stream",
          "name": "stdout",
          "text": [
            "Melhor performance: 0.890 \n",
            "Hiperparâmetros: {'learning_rate': 0.001} \n",
            "\n"
          ]
        }
      ]
    },
    {
      "cell_type": "markdown",
      "source": [
        "#### Modelo XGBoost Classifier Final"
      ],
      "metadata": {
        "id": "AXasmRSZLsyp"
      }
    },
    {
      "cell_type": "code",
      "source": [
        "xgb_final = XGBClassifier(learning_rate = 0.001,\n",
        "                          n_estimators = 50, max_depth = 1, min_child_weight = 1, gamma = 0.0)\n",
        "\n",
        "# Realizar o ajuste do modelo final\n",
        "xgb_final.fit(X_rus, y_rus)\n",
        "\n",
        "# # Validação cruzada em 5 dobras e 10 repetições\n",
        "kfold = RepeatedKFold()\n",
        "scores = cross_validate(xgb_final, X_rus, y_rus, scoring = ['recall', 'roc_auc'], cv = kfold)\n",
        "\n",
        "# Imprimir resultados das métricas de recall e AUC\n",
        "print('Performance XGB - Treino',\n",
        "      '\\nRecall: {:.3f}'.format(scores['test_recall'].mean()), '+/-', '{:.3f}'.format(scores['test_recall'].std()),\n",
        "      '\\nAUC: {:.3f}'.format(scores['test_roc_auc'].mean()), '+/-', '{:.3f}'.format(scores['test_roc_auc'].std()), '\\n')\n",
        "\n",
        "# Realizar previsões no conjunto de testes\n",
        "y_pred3 = xgb_final.predict(X_test)\n",
        "\n",
        "# Report de classificação\n",
        "print('Performance XGB - Teste\\n',classification_report(y_test, y_pred3))\n",
        "\n",
        "# AUC\n",
        "print(f'AUC: {roc_auc_score(y_test, y_pred3):.3f}')"
      ],
      "metadata": {
        "colab": {
          "base_uri": "https://localhost:8080/"
        },
        "id": "6RmFnZyCKMPl",
        "outputId": "e5dec61a-4e12-47eb-ba27-a20662ea235c"
      },
      "execution_count": null,
      "outputs": [
        {
          "output_type": "stream",
          "name": "stdout",
          "text": [
            "Performance XGB - Treino \n",
            "Recall: 0.890 +/- 0.015 \n",
            "AUC: 0.723 +/- 0.011 \n",
            "\n",
            "Performance XGB - Teste\n",
            "               precision    recall  f1-score   support\n",
            "\n",
            "           0       0.92      0.58      0.71       785\n",
            "           1       0.41      0.86      0.56       272\n",
            "\n",
            "    accuracy                           0.65      1057\n",
            "   macro avg       0.67      0.72      0.64      1057\n",
            "weighted avg       0.79      0.65      0.67      1057\n",
            "\n",
            "AUC: 0.719\n"
          ]
        }
      ]
    },
    {
      "cell_type": "code",
      "source": [
        "fig, ax = plt.subplots()\n",
        "\n",
        "cm = confusion_matrix(y_test, y_pred3, normalize = 'true')\n",
        "\n",
        "display = ConfusionMatrixDisplay(cm)\n",
        "\n",
        "display.plot(ax = ax, cmap = 'YlGnBu')\n",
        "\n",
        "ax.grid(False)\n",
        "ax.set_title('XGBoost Classifier', fontsize = 15, pad = 12)\n",
        "ax.set_ylabel('Classe Real', fontsize = 14)\n",
        "ax.set_xlabel('Classe Prevista', fontsize = 14)\n",
        "\n",
        "fig.tight_layout()\n",
        "fig.show()"
      ],
      "metadata": {
        "colab": {
          "base_uri": "https://localhost:8080/",
          "height": 487
        },
        "id": "pK6No3LjLJL2",
        "outputId": "aa525e2a-91f2-4cff-b377-403d94281d22"
      },
      "execution_count": null,
      "outputs": [
        {
          "output_type": "display_data",
          "data": {
            "text/plain": [
              "<Figure size 640x480 with 2 Axes>"
            ],
            "image/png": "[encoded data removed]"
          },
          "metadata": {}
        }
      ]
    },
    {
      "cell_type": "markdown",
      "source": [
        "- Dentre todos os modelos, o **XGBoost Classifier** foi o que apresentou maior aumento da métrica de _recall_ mediante a otimização de hiperparâmetros, partindo de  aproximadamente 0,75 para valores maiores que 0,86.\n",
        "\n",
        "- A taxa de falsos positivos, porém, foi mais alta. A empresa pode ponderar sobre esse _trade-off_, uma vez que os clientes classificados como _Churn_ receberão mais atenção para não saírem da empresa. Isto tem um custo para a empresa, e também para os clientes que não querem ser importunados desnecessariamente."
      ],
      "metadata": {
        "id": "alLljjqKOVOA"
      }
    },
    {
      "cell_type": "markdown",
      "source": [
        "### Estatísticas de Desempenho dos Modelos"
      ],
      "metadata": {
        "id": "qe-QMR9mQMLx"
      }
    },
    {
      "cell_type": "markdown",
      "source": [
        "Devido à natureza estocástica dos algoritmos de Machine Learning utilizados, podemos esperar que cada treinamento realizado com o mesmo _dataset_ resulte em diferentes resultados para as métricas observadas.\n",
        "\n",
        "Para minimizar as incertezas e providenciar um intervalo de performance que represente robustamente os modelos, foram feitas várias repetições durante o treinamento e teste dos algoritmos, com diferentes configurações de hiperparâmetros e mantendo-se os mesmos procedimentos de pré-processamento do _dataset_. A intenção é de capturar a variabilidade que ocorre naturalmente devido a randomização presente tanto nos dados quanto nos algoritmos.\n",
        "\n",
        "Primeiramente, com os hiperparâmetros mais recorrentes fixados após o GridSearchCV, e utilizando o `RepeatedKFold()`, foi realizada validação cruzada sobre os dados de treino. Deste modo, obtivemos um sumário estatístico da métrica de _recall_:\n",
        "\n",
        "- SGD Classifier:\n",
        "  \n",
        "  - _recall_: $ 0.826 \\pm 0.018  $\n",
        "\n",
        "- LightGBM Classifier:\n",
        "  \n",
        "  - _recall_: $ 0.784 \\pm 0.022  $\n",
        "\n",
        "- XGBoost Classifier:\n",
        "  - _recall_:$ 0.890 \\pm 0.014 $\n",
        "\n",
        "Em seguida, foram realizadas 10 repetições manualmente com os dados de teste, mas dessa vez alterando os hiperparâmetros a cada vez que se realizava o GridSearchCV. Deste modo, obtivemos uma estimativa mais segura da previsão de rotatividade, com intervalos para a métrica _recall_ de cada modelo.\n",
        "\n",
        "- SGD Classifier:\n",
        "  - _recall_: $ 0.835 \\pm 0.019 $\n",
        "- LightGBM Classifier:\n",
        "  - _recall_: $ 0.793 \\pm 0.019 $\n",
        "- XGBoost Classifier:\n",
        "  - _recall_: $ 0.883 \\pm 0.022 $\n",
        "\n",
        "Estes valores capturam o quanto o modelo pode variar, como função da mudança de alguns hiperparâmetros e de dados novos. Temos, portanto, resultados mais confiáveis considerando-se a natureza estocástica dos algoritmos que suportam os modelos.\n",
        "\n",
        "Nota-se que em ambas as condições os resultados são parecidos e estão dentro do intervalo definido pelo desvio-padrão.\n",
        "\n",
        "Cada um dos três modelos de previsão de rotatividade podem ser utilizados para diferentes objetivos, se adequando às circunstâncias impostas pelo problema de negócio em questão."
      ],
      "metadata": {
        "id": "s_d-VIYnc73M"
      }
    },
    {
      "cell_type": "markdown",
      "source": [
        "## Escolha do Modelo Adequado"
      ],
      "metadata": {
        "id": "qtINuyga3kI6"
      }
    },
    {
      "cell_type": "markdown",
      "source": [
        "- O SGD Classifier apresentou uma performance equilibrada, providenciando uma boa previsão na rotatividade, com uma taxa de Falsos Negativos de aproximadamente 16% e uma taxa de Falsos Positivos entre 30 e 35%.\n",
        "\n",
        "- O LightGBM não performa tão bem quanto os outros dois na previsão de rotatividade, com uma taxa de Falsos Negativos de aproximadamente 20%. Porém, ele é melhor na distinção correta das classes, com o maior AUC dentre todos os modelos. Isso torna sua taxa de FP a menor dentre os três. Se a empresa tem a maior preocupação em não incomodar clientes já fidelizados com estratégias anti-Churn, então este é o modelo mais indicado.\n",
        "\n",
        "- Por fim, o XGBoost apresenta a melhor previsão de rotatividade dos modelos, com um _recall_ médio de 0,88 nos testes. Isso significa que se a maior fonte de perdas de lucro da empresa for realmente do Churn, e ela não se importar em oferecer estratégias anti-Churn para cliente fiéis, então este é o modelo mais correto. Isto porque ele é mais assertivo na detecção de _Churn_, com uma baixa taxa de FN, mas uma alta taxa de FP em contrapartida.\n"
      ],
      "metadata": {
        "id": "1OEdJMH5GNol"
      }
    },
    {
      "cell_type": "markdown",
      "source": [
        "## Conclusão"
      ],
      "metadata": {
        "id": "uOAhYuskGOsY"
      }
    },
    {
      "cell_type": "markdown",
      "source": [
        "Este projeto buscou conhecer melhor os motivos para as taxas de rotatividade em uma empresa de telecomunicações, utilizando-se de dados históricos de seus clientes.\n",
        "\n",
        "O Churn é fonte de muita preocupação para empresas dos mais diversos nichos, desde entretenimento até prestações de serviços, pois se relaciona diretamente com a perda de lucro devido à saída de clientes.\n",
        "\n",
        "Por este motivo, é relevante utilizar dos dados para ter uma consciência situacional maior dos motivos por trás da saída de um cliente. Com a construção de modelos de Machine Learning através de dados históricos, a empresa é capaz de identificar os perfis dos clientes mais propensos à rotatividade e, a partir disso, tomar iniciativas voltadas para mantê-los e fidelizá-los.\n",
        "\n",
        "A análise exploratória de dados, juntamente com a visualização, destacou os atributos mais informativos, providenciando _insights_ e jogando luz na correlação entre as variáveis.\n",
        "\n",
        "O pré-processamento foi necessário para codificar as muitas variáveis categóricas presentes no _dataset_, preparando-as para que os algoritmos de Machine Learning tenham uma melhor performance. O balanceamento dos dados foi realizado utilizando a técnica de _RandomUnderSampling_, igualando as proporções entre as classes.\n",
        "\n",
        "Na construção dos modelos, foram testadas várias alternativas a partir de uma performance de baseline para a métrica _recall_. Três modelos foram escolhidos para otimização, segundo a capacidade de manipulação de seus hiperparâmetros e os objetivos do projeto. Devido a natureza estocástica dos algoritmos, fez-se necessário um cuidado estatístico com relação aos resultados decorrentes de cada treinamento, considerando cada configuração de hiperparâmetros através do GridSearchCV. Utilizou-se de cálculos estatísticos e da técnica de validação cruzada.\n",
        "\n",
        "Tanto no treinamento quanto nos testes, as repetições asseguraram que os modelos apresentassem valores para a métrica de _recall_ dentro de um intervalo confiável, garantindo mais robustez de resultados e clareza de escolha.\n",
        "\n",
        "Os três modelos preveem a rotatividade de maneira eficiente, porém com diferenças que podem ser proveitosas segundo as circunstâncias específicas da empresa e do problema de negócios. O **SGD Classifier** possui uma performance equilibrada, com uma boa previsão de rotatividade, e uma taxa razoável de Falsos Negativos. O **LightGBM Classifier** é o menos capaz de prever a rotatividade, com uma taxa de Falsos Negativos de aproximadamente 20%. Porém, ele é o melhor na distinção de classes e sua taxa de Falsos Positivos é a mais baixa. Por último, o **XGBoost Classifier** é o melhor modelo para previsão de rotatividade, com uma taxa de quase 90%. Contudo, é o que pior performa na taxa de Falsos Positivos.\n",
        "\n",
        "Cada um dos modelos possui pós e contras que devem ser levados em conta ao considerar a implementação num problema de negócios. Porém, o projeto mostrou um grande potencial para, a partir de dados históricos, construir modelos que preveem a rotatividade eficientemente."
      ],
      "metadata": {
        "id": "4LGxWDyoGUlL"
      }
    }
  ]
}